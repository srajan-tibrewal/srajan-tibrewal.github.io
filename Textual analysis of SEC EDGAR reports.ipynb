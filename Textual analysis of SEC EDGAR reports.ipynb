{
 "cells": [
  {
   "cell_type": "code",
   "execution_count": 16,
   "metadata": {},
   "outputs": [],
   "source": [
    "import numpy as np\n",
    "import pandas as pd\n",
    "\n"
   ]
  },
  {
   "cell_type": "code",
   "execution_count": 17,
   "metadata": {},
   "outputs": [],
   "source": [
    "#reading excel file\n",
    "sheet = pd.read_excel('cik_list.xlsx',sheet_name = 'cik_list_ajay')"
   ]
  },
  {
   "cell_type": "code",
   "execution_count": 18,
   "metadata": {},
   "outputs": [
    {
     "data": {
      "text/html": [
       "<div>\n",
       "<style scoped>\n",
       "    .dataframe tbody tr th:only-of-type {\n",
       "        vertical-align: middle;\n",
       "    }\n",
       "\n",
       "    .dataframe tbody tr th {\n",
       "        vertical-align: top;\n",
       "    }\n",
       "\n",
       "    .dataframe thead th {\n",
       "        text-align: right;\n",
       "    }\n",
       "</style>\n",
       "<table border=\"1\" class=\"dataframe\">\n",
       "  <thead>\n",
       "    <tr style=\"text-align: right;\">\n",
       "      <th></th>\n",
       "      <th>CIK</th>\n",
       "      <th>CONAME</th>\n",
       "      <th>FYRMO</th>\n",
       "      <th>FDATE</th>\n",
       "      <th>FORM</th>\n",
       "      <th>SECFNAME</th>\n",
       "    </tr>\n",
       "  </thead>\n",
       "  <tbody>\n",
       "    <tr>\n",
       "      <th>0</th>\n",
       "      <td>3662</td>\n",
       "      <td>SUNBEAM CORP/FL/</td>\n",
       "      <td>199803</td>\n",
       "      <td>1998-03-06</td>\n",
       "      <td>10-K405</td>\n",
       "      <td>edgar/data/3662/0000950170-98-000413.txt</td>\n",
       "    </tr>\n",
       "    <tr>\n",
       "      <th>1</th>\n",
       "      <td>3662</td>\n",
       "      <td>SUNBEAM CORP/FL/</td>\n",
       "      <td>199805</td>\n",
       "      <td>1998-05-15</td>\n",
       "      <td>10-Q</td>\n",
       "      <td>edgar/data/3662/0000950170-98-001001.txt</td>\n",
       "    </tr>\n",
       "    <tr>\n",
       "      <th>2</th>\n",
       "      <td>3662</td>\n",
       "      <td>SUNBEAM CORP/FL/</td>\n",
       "      <td>199808</td>\n",
       "      <td>1998-08-13</td>\n",
       "      <td>NT 10-Q</td>\n",
       "      <td>edgar/data/3662/0000950172-98-000783.txt</td>\n",
       "    </tr>\n",
       "    <tr>\n",
       "      <th>3</th>\n",
       "      <td>3662</td>\n",
       "      <td>SUNBEAM CORP/FL/</td>\n",
       "      <td>199811</td>\n",
       "      <td>1998-11-12</td>\n",
       "      <td>10-K/A</td>\n",
       "      <td>edgar/data/3662/0000950170-98-002145.txt</td>\n",
       "    </tr>\n",
       "    <tr>\n",
       "      <th>4</th>\n",
       "      <td>3662</td>\n",
       "      <td>SUNBEAM CORP/FL/</td>\n",
       "      <td>199811</td>\n",
       "      <td>1998-11-16</td>\n",
       "      <td>NT 10-Q</td>\n",
       "      <td>edgar/data/3662/0000950172-98-001203.txt</td>\n",
       "    </tr>\n",
       "  </tbody>\n",
       "</table>\n",
       "</div>"
      ],
      "text/plain": [
       "    CIK            CONAME   FYRMO      FDATE     FORM  \\\n",
       "0  3662  SUNBEAM CORP/FL/  199803 1998-03-06  10-K405   \n",
       "1  3662  SUNBEAM CORP/FL/  199805 1998-05-15     10-Q   \n",
       "2  3662  SUNBEAM CORP/FL/  199808 1998-08-13  NT 10-Q   \n",
       "3  3662  SUNBEAM CORP/FL/  199811 1998-11-12   10-K/A   \n",
       "4  3662  SUNBEAM CORP/FL/  199811 1998-11-16  NT 10-Q   \n",
       "\n",
       "                                   SECFNAME  \n",
       "0  edgar/data/3662/0000950170-98-000413.txt  \n",
       "1  edgar/data/3662/0000950170-98-001001.txt  \n",
       "2  edgar/data/3662/0000950172-98-000783.txt  \n",
       "3  edgar/data/3662/0000950170-98-002145.txt  \n",
       "4  edgar/data/3662/0000950172-98-001203.txt  "
      ]
     },
     "execution_count": 18,
     "metadata": {},
     "output_type": "execute_result"
    }
   ],
   "source": [
    "sheet.head()"
   ]
  },
  {
   "cell_type": "code",
   "execution_count": 19,
   "metadata": {},
   "outputs": [],
   "source": [
    "#add the url\n",
    "sheet['SECFNAME'] =   'https://www.sec.gov/Archives/' + sheet['SECFNAME']"
   ]
  },
  {
   "cell_type": "code",
   "execution_count": 20,
   "metadata": {},
   "outputs": [
    {
     "data": {
      "text/html": [
       "<div>\n",
       "<style scoped>\n",
       "    .dataframe tbody tr th:only-of-type {\n",
       "        vertical-align: middle;\n",
       "    }\n",
       "\n",
       "    .dataframe tbody tr th {\n",
       "        vertical-align: top;\n",
       "    }\n",
       "\n",
       "    .dataframe thead th {\n",
       "        text-align: right;\n",
       "    }\n",
       "</style>\n",
       "<table border=\"1\" class=\"dataframe\">\n",
       "  <thead>\n",
       "    <tr style=\"text-align: right;\">\n",
       "      <th></th>\n",
       "      <th>CIK</th>\n",
       "      <th>CONAME</th>\n",
       "      <th>FYRMO</th>\n",
       "      <th>FDATE</th>\n",
       "      <th>FORM</th>\n",
       "      <th>SECFNAME</th>\n",
       "    </tr>\n",
       "  </thead>\n",
       "  <tbody>\n",
       "    <tr>\n",
       "      <th>132</th>\n",
       "      <td>6260</td>\n",
       "      <td>ANACOMP INC</td>\n",
       "      <td>199812</td>\n",
       "      <td>1998-12-29</td>\n",
       "      <td>10-K405</td>\n",
       "      <td>https://www.sec.gov/Archives/edgar/data/6260/0...</td>\n",
       "    </tr>\n",
       "    <tr>\n",
       "      <th>133</th>\n",
       "      <td>6260</td>\n",
       "      <td>ANACOMP INC</td>\n",
       "      <td>199902</td>\n",
       "      <td>1999-02-11</td>\n",
       "      <td>10-Q</td>\n",
       "      <td>https://www.sec.gov/Archives/edgar/data/6260/0...</td>\n",
       "    </tr>\n",
       "    <tr>\n",
       "      <th>134</th>\n",
       "      <td>6260</td>\n",
       "      <td>ANACOMP INC</td>\n",
       "      <td>199905</td>\n",
       "      <td>1999-05-17</td>\n",
       "      <td>10-Q</td>\n",
       "      <td>https://www.sec.gov/Archives/edgar/data/6260/0...</td>\n",
       "    </tr>\n",
       "    <tr>\n",
       "      <th>135</th>\n",
       "      <td>6260</td>\n",
       "      <td>ANACOMP INC</td>\n",
       "      <td>199908</td>\n",
       "      <td>1999-08-13</td>\n",
       "      <td>10-Q</td>\n",
       "      <td>https://www.sec.gov/Archives/edgar/data/6260/0...</td>\n",
       "    </tr>\n",
       "    <tr>\n",
       "      <th>136</th>\n",
       "      <td>11860</td>\n",
       "      <td>BETHLEHEM STEEL CORP /DE/</td>\n",
       "      <td>199811</td>\n",
       "      <td>1998-11-12</td>\n",
       "      <td>10-Q</td>\n",
       "      <td>https://www.sec.gov/Archives/edgar/data/11860/...</td>\n",
       "    </tr>\n",
       "    <tr>\n",
       "      <th>137</th>\n",
       "      <td>11860</td>\n",
       "      <td>BETHLEHEM STEEL CORP /DE/</td>\n",
       "      <td>199903</td>\n",
       "      <td>1999-03-24</td>\n",
       "      <td>10-K405</td>\n",
       "      <td>https://www.sec.gov/Archives/edgar/data/11860/...</td>\n",
       "    </tr>\n",
       "    <tr>\n",
       "      <th>138</th>\n",
       "      <td>11860</td>\n",
       "      <td>BETHLEHEM STEEL CORP /DE/</td>\n",
       "      <td>199905</td>\n",
       "      <td>1999-05-14</td>\n",
       "      <td>10-Q</td>\n",
       "      <td>https://www.sec.gov/Archives/edgar/data/11860/...</td>\n",
       "    </tr>\n",
       "    <tr>\n",
       "      <th>139</th>\n",
       "      <td>11860</td>\n",
       "      <td>BETHLEHEM STEEL CORP /DE/</td>\n",
       "      <td>199906</td>\n",
       "      <td>1999-06-29</td>\n",
       "      <td>10-K/A</td>\n",
       "      <td>https://www.sec.gov/Archives/edgar/data/11860/...</td>\n",
       "    </tr>\n",
       "    <tr>\n",
       "      <th>140</th>\n",
       "      <td>11860</td>\n",
       "      <td>BETHLEHEM STEEL CORP /DE/</td>\n",
       "      <td>199908</td>\n",
       "      <td>1999-08-05</td>\n",
       "      <td>10-Q</td>\n",
       "      <td>https://www.sec.gov/Archives/edgar/data/11860/...</td>\n",
       "    </tr>\n",
       "    <tr>\n",
       "      <th>141</th>\n",
       "      <td>11860</td>\n",
       "      <td>BETHLEHEM STEEL CORP /DE/</td>\n",
       "      <td>199911</td>\n",
       "      <td>1999-11-02</td>\n",
       "      <td>10-Q</td>\n",
       "      <td>https://www.sec.gov/Archives/edgar/data/11860/...</td>\n",
       "    </tr>\n",
       "    <tr>\n",
       "      <th>142</th>\n",
       "      <td>11860</td>\n",
       "      <td>BETHLEHEM STEEL CORP /DE/</td>\n",
       "      <td>200003</td>\n",
       "      <td>2000-03-09</td>\n",
       "      <td>10-K</td>\n",
       "      <td>https://www.sec.gov/Archives/edgar/data/11860/...</td>\n",
       "    </tr>\n",
       "    <tr>\n",
       "      <th>143</th>\n",
       "      <td>11860</td>\n",
       "      <td>BETHLEHEM STEEL CORP /DE/</td>\n",
       "      <td>200005</td>\n",
       "      <td>2000-05-03</td>\n",
       "      <td>10-Q</td>\n",
       "      <td>https://www.sec.gov/Archives/edgar/data/11860/...</td>\n",
       "    </tr>\n",
       "    <tr>\n",
       "      <th>144</th>\n",
       "      <td>11860</td>\n",
       "      <td>BETHLEHEM STEEL CORP /DE/</td>\n",
       "      <td>200006</td>\n",
       "      <td>2000-06-28</td>\n",
       "      <td>10-K/A</td>\n",
       "      <td>https://www.sec.gov/Archives/edgar/data/11860/...</td>\n",
       "    </tr>\n",
       "    <tr>\n",
       "      <th>145</th>\n",
       "      <td>11860</td>\n",
       "      <td>BETHLEHEM STEEL CORP /DE/</td>\n",
       "      <td>200007</td>\n",
       "      <td>2000-07-26</td>\n",
       "      <td>10-Q</td>\n",
       "      <td>https://www.sec.gov/Archives/edgar/data/11860/...</td>\n",
       "    </tr>\n",
       "    <tr>\n",
       "      <th>146</th>\n",
       "      <td>11860</td>\n",
       "      <td>BETHLEHEM STEEL CORP /DE/</td>\n",
       "      <td>200010</td>\n",
       "      <td>2000-10-25</td>\n",
       "      <td>10-Q</td>\n",
       "      <td>https://www.sec.gov/Archives/edgar/data/11860/...</td>\n",
       "    </tr>\n",
       "    <tr>\n",
       "      <th>147</th>\n",
       "      <td>12239</td>\n",
       "      <td>SPHERIX INC</td>\n",
       "      <td>200704</td>\n",
       "      <td>2007-04-02</td>\n",
       "      <td>10-K</td>\n",
       "      <td>https://www.sec.gov/Archives/edgar/data/12239/...</td>\n",
       "    </tr>\n",
       "    <tr>\n",
       "      <th>148</th>\n",
       "      <td>12239</td>\n",
       "      <td>SPHERIX INC</td>\n",
       "      <td>200705</td>\n",
       "      <td>2007-05-16</td>\n",
       "      <td>NT 10-Q</td>\n",
       "      <td>https://www.sec.gov/Archives/edgar/data/12239/...</td>\n",
       "    </tr>\n",
       "    <tr>\n",
       "      <th>149</th>\n",
       "      <td>12239</td>\n",
       "      <td>SPHERIX INC</td>\n",
       "      <td>200705</td>\n",
       "      <td>2007-05-18</td>\n",
       "      <td>10-Q</td>\n",
       "      <td>https://www.sec.gov/Archives/edgar/data/12239/...</td>\n",
       "    </tr>\n",
       "    <tr>\n",
       "      <th>150</th>\n",
       "      <td>12239</td>\n",
       "      <td>SPHERIX INC</td>\n",
       "      <td>200705</td>\n",
       "      <td>2007-05-23</td>\n",
       "      <td>10-K/A</td>\n",
       "      <td>https://www.sec.gov/Archives/edgar/data/12239/...</td>\n",
       "    </tr>\n",
       "    <tr>\n",
       "      <th>151</th>\n",
       "      <td>12239</td>\n",
       "      <td>SPHERIX INC</td>\n",
       "      <td>200708</td>\n",
       "      <td>2007-08-14</td>\n",
       "      <td>10-Q</td>\n",
       "      <td>https://www.sec.gov/Archives/edgar/data/12239/...</td>\n",
       "    </tr>\n",
       "  </tbody>\n",
       "</table>\n",
       "</div>"
      ],
      "text/plain": [
       "       CIK                     CONAME   FYRMO      FDATE     FORM  \\\n",
       "132   6260                ANACOMP INC  199812 1998-12-29  10-K405   \n",
       "133   6260                ANACOMP INC  199902 1999-02-11     10-Q   \n",
       "134   6260                ANACOMP INC  199905 1999-05-17     10-Q   \n",
       "135   6260                ANACOMP INC  199908 1999-08-13     10-Q   \n",
       "136  11860  BETHLEHEM STEEL CORP /DE/  199811 1998-11-12     10-Q   \n",
       "137  11860  BETHLEHEM STEEL CORP /DE/  199903 1999-03-24  10-K405   \n",
       "138  11860  BETHLEHEM STEEL CORP /DE/  199905 1999-05-14     10-Q   \n",
       "139  11860  BETHLEHEM STEEL CORP /DE/  199906 1999-06-29   10-K/A   \n",
       "140  11860  BETHLEHEM STEEL CORP /DE/  199908 1999-08-05     10-Q   \n",
       "141  11860  BETHLEHEM STEEL CORP /DE/  199911 1999-11-02     10-Q   \n",
       "142  11860  BETHLEHEM STEEL CORP /DE/  200003 2000-03-09     10-K   \n",
       "143  11860  BETHLEHEM STEEL CORP /DE/  200005 2000-05-03     10-Q   \n",
       "144  11860  BETHLEHEM STEEL CORP /DE/  200006 2000-06-28   10-K/A   \n",
       "145  11860  BETHLEHEM STEEL CORP /DE/  200007 2000-07-26     10-Q   \n",
       "146  11860  BETHLEHEM STEEL CORP /DE/  200010 2000-10-25     10-Q   \n",
       "147  12239                SPHERIX INC  200704 2007-04-02     10-K   \n",
       "148  12239                SPHERIX INC  200705 2007-05-16  NT 10-Q   \n",
       "149  12239                SPHERIX INC  200705 2007-05-18     10-Q   \n",
       "150  12239                SPHERIX INC  200705 2007-05-23   10-K/A   \n",
       "151  12239                SPHERIX INC  200708 2007-08-14     10-Q   \n",
       "\n",
       "                                              SECFNAME  \n",
       "132  https://www.sec.gov/Archives/edgar/data/6260/0...  \n",
       "133  https://www.sec.gov/Archives/edgar/data/6260/0...  \n",
       "134  https://www.sec.gov/Archives/edgar/data/6260/0...  \n",
       "135  https://www.sec.gov/Archives/edgar/data/6260/0...  \n",
       "136  https://www.sec.gov/Archives/edgar/data/11860/...  \n",
       "137  https://www.sec.gov/Archives/edgar/data/11860/...  \n",
       "138  https://www.sec.gov/Archives/edgar/data/11860/...  \n",
       "139  https://www.sec.gov/Archives/edgar/data/11860/...  \n",
       "140  https://www.sec.gov/Archives/edgar/data/11860/...  \n",
       "141  https://www.sec.gov/Archives/edgar/data/11860/...  \n",
       "142  https://www.sec.gov/Archives/edgar/data/11860/...  \n",
       "143  https://www.sec.gov/Archives/edgar/data/11860/...  \n",
       "144  https://www.sec.gov/Archives/edgar/data/11860/...  \n",
       "145  https://www.sec.gov/Archives/edgar/data/11860/...  \n",
       "146  https://www.sec.gov/Archives/edgar/data/11860/...  \n",
       "147  https://www.sec.gov/Archives/edgar/data/12239/...  \n",
       "148  https://www.sec.gov/Archives/edgar/data/12239/...  \n",
       "149  https://www.sec.gov/Archives/edgar/data/12239/...  \n",
       "150  https://www.sec.gov/Archives/edgar/data/12239/...  \n",
       "151  https://www.sec.gov/Archives/edgar/data/12239/...  "
      ]
     },
     "execution_count": 20,
     "metadata": {},
     "output_type": "execute_result"
    }
   ],
   "source": [
    "sheet.tail(20)"
   ]
  },
  {
   "cell_type": "code",
   "execution_count": 21,
   "metadata": {},
   "outputs": [],
   "source": [
    "import requests"
   ]
  },
  {
   "cell_type": "code",
   "execution_count": 22,
   "metadata": {},
   "outputs": [],
   "source": [
    "#using requests to load text from urls\n",
    "urls = sheet.loc[1:,\"SECFNAME\"].copy()"
   ]
  },
  {
   "cell_type": "code",
   "execution_count": 24,
   "metadata": {},
   "outputs": [],
   "source": [
    "for i in urls.index:\n",
    "    response = requests.get(urls[i])\n",
    "    data = response.text\n",
    "    urls[i] = data"
   ]
  },
  {
   "cell_type": "code",
   "execution_count": 25,
   "metadata": {},
   "outputs": [
    {
     "data": {
      "text/plain": [
       "dtype('O')"
      ]
     },
     "execution_count": 25,
     "metadata": {},
     "output_type": "execute_result"
    }
   ],
   "source": [
    "urls.dtype"
   ]
  },
  {
   "cell_type": "code",
   "execution_count": 26,
   "metadata": {},
   "outputs": [],
   "source": [
    "#the strings have a lot text related to filing which is not required and is consistent in all files, splitting and getting rid of the text\n",
    "#it will help later as we will essentially have html text left in case of html files\n",
    "head_split = urls.str.split(\"<[Tt][Ee][Xx][Tt]>\",1,expand=True)"
   ]
  },
  {
   "cell_type": "code",
   "execution_count": 27,
   "metadata": {},
   "outputs": [],
   "source": [
    "reports = head_split[1]"
   ]
  },
  {
   "cell_type": "code",
   "execution_count": 28,
   "metadata": {},
   "outputs": [
    {
     "data": {
      "text/plain": [
       "1    \\n\\n\\n- --------------------------------------...\n",
       "2    \\n\\n\\n\\n                     SECURITIES AND EX...\n",
       "3    \\n\\n==========================================...\n",
       "4    \\n\\n\\n\\n                     SECURITIES AND EX...\n",
       "5    \\n\\n\\n========================================...\n",
       "Name: 1, dtype: object"
      ]
     },
     "execution_count": 28,
     "metadata": {},
     "output_type": "execute_result"
    }
   ],
   "source": [
    "reports.head()"
   ]
  },
  {
   "cell_type": "code",
   "execution_count": 29,
   "metadata": {},
   "outputs": [],
   "source": [
    "#next step is to separate strings into the ones containing markup and the ones with no markup, here its html from looking at data\n",
    "\n",
    "b4 = reports.str.contains(\"HTML\", case=False, regex=False)\n",
    "    "
   ]
  },
  {
   "cell_type": "code",
   "execution_count": 30,
   "metadata": {},
   "outputs": [
    {
     "name": "stdout",
     "output_type": "stream",
     "text": [
      "53\n"
     ]
    }
   ],
   "source": [
    "count =1\n",
    "for i in b4:\n",
    "    if i == True:\n",
    "        count = count+1\n",
    "print(count)"
   ]
  },
  {
   "cell_type": "code",
   "execution_count": 31,
   "metadata": {},
   "outputs": [],
   "source": [
    "html_reports = reports[b4]"
   ]
  },
  {
   "cell_type": "code",
   "execution_count": 32,
   "metadata": {},
   "outputs": [
    {
     "data": {
      "text/plain": [
       "(52,)"
      ]
     },
     "execution_count": 32,
     "metadata": {},
     "output_type": "execute_result"
    }
   ],
   "source": [
    "html_reports.shape"
   ]
  },
  {
   "cell_type": "code",
   "execution_count": 33,
   "metadata": {},
   "outputs": [],
   "source": [
    "txt_reports = reports[~b4]"
   ]
  },
  {
   "cell_type": "code",
   "execution_count": 34,
   "metadata": {},
   "outputs": [
    {
     "data": {
      "text/plain": [
       "1    \\n\\n\\n- --------------------------------------...\n",
       "2    \\n\\n\\n\\n                     SECURITIES AND EX...\n",
       "3    \\n\\n==========================================...\n",
       "4    \\n\\n\\n\\n                     SECURITIES AND EX...\n",
       "5    \\n\\n\\n========================================...\n",
       "Name: 1, dtype: object"
      ]
     },
     "execution_count": 34,
     "metadata": {},
     "output_type": "execute_result"
    }
   ],
   "source": [
    "txt_reports.head()"
   ]
  },
  {
   "cell_type": "code",
   "execution_count": 35,
   "metadata": {},
   "outputs": [],
   "source": [
    "# now it's easier to get rid of html tags using BeautifulSoup\n",
    "from bs4 import BeautifulSoup\n"
   ]
  },
  {
   "cell_type": "code",
   "execution_count": 36,
   "metadata": {},
   "outputs": [],
   "source": [
    "#getting text from html , also using unicode.normalize to get rid of /xa0 numbers for space\n",
    "import unicodedata\n",
    "for i in html_reports.index:\n",
    "    soup = BeautifulSoup(html_reports[i])\n",
    "    for script in soup([\"script\", \"style\"]):\n",
    "        script.extract()    \n",
    "    html_reports[i] = unicodedata.normalize(\"NFKD\",soup.get_text()) \n",
    "    "
   ]
  },
  {
   "cell_type": "markdown",
   "metadata": {},
   "source": [
    "# now we both kinds in text with some minor additions in html cleaned files\n",
    "# now I get the files with sections present and get variables with only those files for all three sections\n"
   ]
  },
  {
   "cell_type": "code",
   "execution_count": 81,
   "metadata": {},
   "outputs": [
    {
     "name": "stdout",
     "output_type": "stream",
     "text": [
      "15\n",
      "88\n",
      "30\n",
      "34\n",
      "35\n",
      "4\n"
     ]
    }
   ],
   "source": [
    "b1 = html_reports.str.contains(\"MANAGEMENT'S DISCUSSION AND ANALYSIS\", case=False, regex=False)\n",
    "\n",
    "count =0\n",
    "for i in b1:\n",
    "    if i == True:\n",
    "        count = count+1\n",
    "print(count)\n",
    "\n",
    "b2 = txt_reports.str.contains(\"MANAGEMENT'S DISCUSSION AND ANALYSIS\", case=False, regex=False)\n",
    "\n",
    "count = 0\n",
    "for i in b2:\n",
    "    if i == True:\n",
    "        count = count+1\n",
    "print(count)\n",
    "\n",
    "# we can see that the section Management's discussion and analysis is a part of 90 reports in total. We can say that with certainty because the searches here as case-sensitive which means these are headings\n",
    "\n",
    "bq = html_reports.str.contains(\"QUANTITATIVE AND QUALITATIVE DISCLOSURES ABOUT MARKET RISK\", case=False, regex=False)\n",
    "\n",
    "count =0\n",
    "for i in bq:\n",
    "    if i == True:\n",
    "        count = count+1\n",
    "print(count)\n",
    "\n",
    "bq2 = txt_reports.str.contains(\"QUANTITATIVE AND QUALITATIVE DISCLOSURES ABOUT MARKET RISK\", case=False, regex=False)\n",
    "count =0\n",
    "for i in bq2:\n",
    "    if i == True:\n",
    "        count = count+1\n",
    "print(count)\n",
    "\n",
    "#similary for quantitative and qualitative ...  there are 44 in total\n",
    "\n",
    "br = html_reports.str.contains(\"RISK FACTORS\", case=False, regex=False)\n",
    "count=0\n",
    "for i in br:\n",
    "    if i == True:\n",
    "        count = count+1\n",
    "print(count)\n",
    "\n",
    "\n",
    "br2 = txt_reports.str.contains(\"RISK FACTORS\", case=False, regex=False)\n",
    "count=0\n",
    "for i in br2:\n",
    "    if i == True:\n",
    "        count = count+1\n",
    "print(count)\n",
    "\n",
    "#there are 32 documents with risk factors. only in the ones with html\n",
    "\n",
    "#now report with respective section occurences only, so they can be extracted only, index from original preserved\n",
    "mdah = html_reports[b1]\n",
    "mdat = txt_reports[b2]\n",
    "qqah =  html_reports[bq]\n",
    "qqat =  txt_reports[bq2]\n",
    "rfh = html_reports[br]\n",
    "rft = txt_reports[br2]"
   ]
  },
  {
   "cell_type": "code",
   "execution_count": 38,
   "metadata": {},
   "outputs": [],
   "source": [
    "#original index has been preserved. now I split the mda files  on the title and observe\n",
    "x = mdah.str.split(\"Management's Discussion and Analysis\",expand=True)"
   ]
  },
  {
   "cell_type": "code",
   "execution_count": 39,
   "metadata": {},
   "outputs": [],
   "source": [
    "# we see that there are 2 or three mentions of the title, we select the last part of each file's splits\n",
    "mdahx = []\n",
    "for i in x.index:\n",
    "    if x.loc[i,3] is not None:\n",
    "        mdahx.append(x.loc[i,3])\n",
    "    elif x.loc[i,2] is not None:\n",
    "        mdahx.append(x.loc[i,2])\n",
    "    else:\n",
    "        mdahx.append(x.loc[i,1])"
   ]
  },
  {
   "cell_type": "code",
   "execution_count": 40,
   "metadata": {},
   "outputs": [
    {
     "data": {
      "text/plain": [
       "53      of Financial Condition and Results of\\nOperat...\n",
       "54      of Financial Condition and\\nResults of Operat...\n",
       "55      of Financial Condition\\nand Results of Operat...\n",
       "56      of Financial Condition\\nand Results of Operat...\n",
       "57      of Financial Condition and Results of Operati...\n",
       "59      of Financial Condition and Results of Operati...\n",
       "60      of Financial Condition and Results of Operati...\n",
       "113     of Financial Condition and Results of Operati...\n",
       "116     of Financial Condition and\\nResults of Operat...\n",
       "117     of Financial Condition and\\nResults of Operat...\n",
       "118     of Financial Condition\\nand Results of Operat...\n",
       "119     of Financial Condition and Results\\nof Operat...\n",
       "120     of Financial Condition and Results of Operati...\n",
       "122     of Financial Condition and Results of Operati...\n",
       "123     of Financial Condition and Results of Operati...\n",
       "dtype: object"
      ]
     },
     "execution_count": 40,
     "metadata": {},
     "output_type": "execute_result"
    }
   ],
   "source": [
    "mdahx = pd.Series(mdahx,index=x.index)\n",
    "mdahx"
   ]
  },
  {
   "cell_type": "code",
   "execution_count": 50,
   "metadata": {},
   "outputs": [
    {
     "data": {
      "text/plain": [
       "1       of Financial Condition and\\n                 ...\n",
       "5       of Financial\\nCondition and Results of Operat...\n",
       "6       of Financial Condition and\\nResults of Operat...\n",
       "7       of Financial Condition and\\nResults of Operat...\n",
       "9       of Financial Condition and Results of\\nOperat...\n",
       "11      of Financial Condition\\n                    a...\n",
       "13      of Financial Condition\\n                    a...\n",
       "14     ;\\n\\n\\n                                       ...\n",
       "15      of Financial Condition\\n                     ...\n",
       "16      of Financial Condition\\n                    a...\n",
       "18      of Financial Condition and Results of\\nOperat...\n",
       "43      of Financial Condition and\\n         Results ...\n",
       "44      of Financial Condition and\\n         Results ...\n",
       "45      of Financial Condition and Results of Operati...\n",
       "46      of Financial Condition\\n         and Results ...\n",
       "47      of Financial Condition\\n         and Results ...\n",
       "48      of Financial Condition\\n         and Results ...\n",
       "51      of Financial Condition\\n         and Results ...\n",
       "52      of Financial Condition\\n         and Results ...\n",
       "65      of\\n                           Financial Cond...\n",
       "67      of Financial Condition \\n           and Resul...\n",
       "68      of Financial Condition and Results of\\n      ...\n",
       "69      of Financial Condition and Results of\\n      ...\n",
       "70      of Financial Condition and\\nResults of Operat...\n",
       "71      of Financial\\n          Condition and Results...\n",
       "72      of Financial\\n     Condition and Results of O...\n",
       "73      of Financial Condition and\\n                 ...\n",
       "77      of Financial Condition and\\n           Result...\n",
       "79      for the three\\n                            an...\n",
       "80      for the three\\n                            an...\n",
       "                             ...                        \n",
       "101     of Financial Condition\\nand Results of Operat...\n",
       "102     of Financial Condition and Results of\\nOperat...\n",
       "103     of Financial Condition and\\n        Results o...\n",
       "104     of Financial Condition\\nand Results of Operat...\n",
       "105     of Financial Condition\\nand Results of Operat...\n",
       "106     of Financial Condition and Results of\\nOperat...\n",
       "107     of Financial Condition\\nand Results of Operat...\n",
       "108     of Financial Condition\\nand Results of Operat...\n",
       "109     of Financial Condition\\nand Results of Operat...\n",
       "110     of Financial Condition and Results\\n        o...\n",
       "111     of Financial Condition and Results\\n        o...\n",
       "114     of Financial Condition\\n           and Result...\n",
       "115     of Financial Condition\\nand Results of Operat...\n",
       "126     of\\n            Financial Condition and Resul...\n",
       "127     of\\n\\t  Financial Condition and Results of Op...\n",
       "128     of Financial Condition \\n  and Results of Ope...\n",
       "129     of\\n                   Financial Condition an...\n",
       "130     of\\n         Financial Condition and Results ...\n",
       "131     of Results of Operations do not include the\\n...\n",
       "132     of\\nFinancial Condition and Results of Operat...\n",
       "133     of Financial\\n  Item 2.          Condition an...\n",
       "134     of Financial\\n                   Condition an...\n",
       "135     of Financial\\n                   Condition an...\n",
       "136     of Results of\\n    Operations and Financial C...\n",
       "138     of Results of\\n     Operations and Financial ...\n",
       "140     of Results of\\n   Operations and Financial Co...\n",
       "141     of Results of\\n   Operations and Financial Co...\n",
       "143     of Results of\\n     Operations and Financial ...\n",
       "145     of Results of\\n   Operations and Financial Co...\n",
       "146     of Results of\\n   Operations and Financial Co...\n",
       "Length: 75, dtype: object"
      ]
     },
     "execution_count": 50,
     "metadata": {},
     "output_type": "execute_result"
    }
   ],
   "source": [
    "#now for text files\n",
    "y = mdat.str.split(\"Management's Discussion and Analysis\",expand=True)\n",
    "# we see that there are 2 or three mentions of the title, we select the last part of each file's splits\n",
    "mdaty = []\n",
    "for i in y.index:\n",
    "    if y.loc[i,3] is not None:\n",
    "        mdaty.append(y.loc[i,3])\n",
    "    elif (y.loc[i,2] is not None) or i==73:\n",
    "        mdaty.append(y.loc[i,2])\n",
    "    else:\n",
    "        mdaty.append(y.loc[i,1])\n",
    "mdaty = pd.Series(mdaty,index=y.index)\n",
    "mdaty"
   ]
  },
  {
   "cell_type": "code",
   "execution_count": 77,
   "metadata": {},
   "outputs": [
    {
     "name": "stdout",
     "output_type": "stream",
     "text": [
      "65\n"
     ]
    }
   ],
   "source": [
    "#splitting mdahx and mdaty on item to get the section\n",
    "bx = txt_reports.str.contains(\"MANAGEMENT'S DISCUSSION AND ANALYSIS\", case=True, regex=False)\n",
    "\n",
    "count =0\n",
    "for i in bx:\n",
    "    if i == True:\n",
    "        count = count+1\n",
    "print(count)\n"
   ]
  },
  {
   "cell_type": "code",
   "execution_count": 71,
   "metadata": {},
   "outputs": [
    {
     "data": {
      "text/plain": [
       "\" 2. MANAGEMENT'S DISCUSSION AND ANALYSIS OF FINANCIAL CONDITION AND RESULTS\\n        OF OPERATIONS\\n\\n     The following discussion should be read in conjunction with the\\naccompanying condensed consolidated financial statements for the three months\\nended March 31, 1998 and March 30, 1997.\\n\\n     Net sales for the three months ended March 31, 1998 were $244.3 million, a\\ndecrease of $9.2 million (3.6%) from the comparable period of the prior year.\\nFirst quarter 1998 sales included $14.8 million of Coleman's sales from the\\ncompletion of Step One of the Coleman acquisition on March 30, 1998 as further\\ndescribed below and in Note 2 to the condensed consolidated financial\\nstatements. Sales for the first quarter of 1997 included approximately $14.4\\nmillion from certain divested product lines (time and temperature products and\\nCounselor/registered trademark/ and Borg/registered trademark/ branded scales)\\nand inventory liquidations from the Company's 1996 SKU rationalization program.\\nExcluding these \""
      ]
     },
     "execution_count": 71,
     "metadata": {},
     "output_type": "execute_result"
    }
   ],
   "source": [
    "mdaty.str.split(\"[Ii][Tt][Ee][Mm]\",expand=True).loc[1,8]"
   ]
  },
  {
   "cell_type": "code",
   "execution_count": null,
   "metadata": {},
   "outputs": [],
   "source": [
    "#we see that there is only one row with more splits than 3"
   ]
  },
  {
   "cell_type": "code",
   "execution_count": 582,
   "metadata": {},
   "outputs": [
    {
     "data": {
      "text/plain": [
       "'-----BEGIN PRIVACY-ENHANCED MESSAGE-----\\nProc-Type: 2001,MIC-CLEAR\\nOriginator-Name: webmaster@www.sec.gov\\nOriginator-Key-Asymmetric:\\n MFgwCgYEVQgBAQICAf8DSgAwRwJAW2sNKK9AVtBzYZmr6aGjlWyK3XmZv3dTINen\\n TWSM7vrzLADbmYQaionwg5sDW3P6oaM5D3tdezXMm7z1T+B+twIDAQAB\\nMIC-Info: RSA-MD5,RSA,\\n F4zRmzY9txflkNaunaOvFWRf6KSK6t0P8crUnfV+RLQ4u2IH/pArmNGM4E5MT2s/\\n s7XPG8JW/LtrcbhcRx0Ywg==\\n\\n<SEC-DOCUMENT>0000005588-98-000008.txt : 19981116\\n<SEC-HEADER>0000005588-98-000008.hdr.sgml : 19981116\\nACCESSION NUMBER:\\t\\t0000005588-98-000008\\nCONFORMED SUBMISSION TYPE:\\t10-Q\\nPUBLIC DOCUMENT COUNT:\\t\\t4\\nCONFORMED PERIOD OF REPORT:\\t19980930\\nFILED AS OF DATE:\\t\\t19981113\\n\\nFILER:\\n\\n\\tCOMPANY DATA:\\t\\n\\t\\tCOMPANY CONFORMED NAME:\\t\\t\\tAMERICAN PAD & PAPER CO\\n\\t\\tCENTRAL INDEX KEY:\\t\\t\\t0000005588\\n\\t\\tSTANDARD INDUSTRIAL CLASSIFICATION:\\tCONVERTED PAPER & PAPERBOARD PRODS (NO CONTAINERS/BOXES) [2670]\\n\\t\\tIRS NUMBER:\\t\\t\\t\\t043164298\\n\\t\\tSTATE OF INCORPORATION:\\t\\t\\tDE\\n\\t\\tFISCAL YEAR END:\\t\\t\\t1231\\n\\n\\tFILING VALUES:\\n\\t\\tFORM TYPE:\\t\\t10-Q\\n\\t\\tSEC ACT:\\t\\t\\n\\t\\tSEC FILE NUMBER:\\t001-11803\\n\\t\\tFILM NUMBER:\\t\\t98747097\\n\\n\\tBUSINESS ADDRESS:\\t\\n\\t\\tSTREET 1:\\t\\t17304 PRESTON D\\n\\t\\tSTREET 2:\\t\\tSTE 700\\n\\t\\tCITY:\\t\\t\\tDALLAS\\n\\t\\tSTATE:\\t\\t\\tTX\\n\\t\\tZIP:\\t\\t\\t75252\\n\\t\\tBUSINESS PHONE:\\t\\t9727336200\\n\\n\\tMAIL ADDRESS:\\t\\n\\t\\tSTREET 1:\\t\\t17304 PRESTON ROAD\\n\\t\\tSTREET 2:\\t\\tSUITE 700\\n\\t\\tCITY:\\t\\t\\tDALLAS\\n\\t\\tSTATE:\\t\\t\\tTX\\n\\t\\tZIP:\\t\\t\\t75252\\n</SEC-HEADER>\\n<DOCUMENT>\\n<TYPE>10-Q\\n<SEQUENCE>1\\n<DESCRIPTION>FORM 10-Q FOR AMERICAN PAD & PAPER COMPANY\\n<TEXT>\\n\\n\\n\\n\\n                                    FORM 10-Q\\n\\n[X]      QUARTERLY REPORT PURSUANT TO SECTION 13 OR 15(d) OF THE SECURITIES\\n                              EXCHANGE ACT OF 1934\\n                For the quarterly period ended September 30, 1998\\n\\n                                       OR\\n\\n[   ]    TRANSITION REPORT PURSUANT TO SECTION 13 OR 15(d) OF THE SECURITIES\\n                              EXCHANGE ACT OF 1934\\n\\n\\n\\n                         Commission file number 1-11803\\n\\n\\n\\n\\n                          AMERICAN PAD & PAPER COMPANY\\n             (Exact name of registrant as specified in its charter)\\n\\n\\n            Delaware                                           04-3164298\\n    (State or other jurisdiction of                         (I.R.S. Employer\\n    incorporation or organization)                        Identification No.)\\n\\n                    17304 Preston Road, Suite 700, Dallas, TX\\n                                   75252-5613\\n                    (Address of principal executive offices)\\n                                   (Zip Code)\\n\\n                                 (972) 733-6200\\n              (Registrant\\'s telephone number, including area code)\\n\\n\\n\\n         Indicate by check mark whether the registrant (1) has filed all reports\\nrequired to be filed by Section 13 or 15(d) of the  Securities  Exchange  Act of\\n1934  during  the  preceding  12 months  (or for such  shorter  period  that the\\nregistrant was required to file such reports),  and (2) has been subject to such\\nfiling requirements for the past 90 days.\\n\\nYes     X                  No         \\n\\n\\n         As of November 13 , 1998,  American Pad & Paper Company had  27,724,045\\nshares of Common Stock outstanding.\\n\\n===============================================================================\\n\\n\\n<PAGE>\\n\\n\\n\\n                          AMERICAN PAD & PAPER COMPANY\\n                    QUARTERLY PERIOD ENDED SEPTEMBER 30, 1998\\n                                      INDEX\\n\\nPART I FINANCIAL INFORMATION\\n\\nItem 1 Financial Statements\\n\\nConsolidated Balance Sheets as of\\nSeptember 30, 1998 (unaudited) and December 31, 1997....................... 3\\n\\nStatements of Operations for the three and nine months ended\\nSeptember 30, 1998 and 1997 (unaudited).................................... 4\\n\\nConsolidated Statements of Cash Flows for the nine months ended\\nSeptember 30, 1998 and 1997 (unaudited).................................... 5\\n\\nNotes to Consolidated Financial Statements (unaudited)..................... 6\\n\\nItem 2 Management\\'s Discussion and Analysis of Financial Condition and\\n Results of Operations ................................................... 10\\n\\nItem 3 Quantitative and Qualitative Disclosures About Market Risk......... 19\\n\\nPART II OTHER INFORMATION\\n\\nItem 1 Legal Proceedings.................................................. 20\\nItem 2 Changes in Securities and Use of Proceeds.......................... 20\\nItem 3 Defaults Upon Senior Securities.................................... 20\\nItem 4 Submission of Matters to a Vote of Security Holders................ 20\\nItem 5 Other Information.................................................. 20\\nItem 6 Exhibits and Reports on Form 8-K................................... 20\\n\\n\\n<PAGE>\\n                           PART 1 - FINANCIAL INFORMATION\\n\\n                          AMERICAN PAD & PAPER COMPANY\\n                     CONSOLIDATED BALANCE SHEETS (Unaudited)\\n                    (in thousands, except per share amounts)\\n<TABLE>\\n<CAPTION>\\n\\n                                                    September 30,  December 31,\\n                                                          1998          1997\\n                                                   --------------  ------------\\n<S>                                               <C>............ <C>..........\\nASSETS\\n\\nCurrent assets:\\n  Cash ............................................$       33,228  $      4,855\\n  Accounts receivable, net ........................        74,203        49,001\\n  Inventories, net ................................       154,359       129,607\\n  Refundable income taxes .........................         4,059           751\\n  Prepaid expenses and other current assets .......         1,402         1,704\\n  Deferred income taxes ...........................        11,992         2,000\\n                                                   --------------  ------------\\n    Total current assets ..........................       250,870       216,291\\n\\nProperty, plant and equipment, net ................       151,390       152,181\\nIntangible assets, net ............................       233,698       187,080\\nOther .............................................         2,443         2,729\\n                                                    -------------  ------------\\n\\n     Total assets ................................. $     558,281  $    638,401\\n                                                    =============  ============\\n\\nLIABILITIES AND STOCKHOLDERS\\' EQUITY\\n\\nCurrent liabilities:\\n  Current portion of long-term debt ............... $       1,021  $      1,538\\n  Accounts payable ................................        56,356        42,674\\n  Accrued expenses ................................        40,157        53,329\\n  Restructuring reserve ...........................         5,741          --\\n                                                    -------------  ------------\\n     Total current liabilities ....................        98,051       102,765\\n\\nLong-term debt ....................................       398,577       412,348\\nDeferred income taxes .............................        39,477        12,337\\nOther .............................................         1,630         1,568\\n                                                    -------------  ------------\\n   Total liabilities ..............................       537,735       529,018\\n                                                    -------------  ------------\\n\\nCommitments and contingencies Stockholders\\' equity:\\n  Preferred stock, 150 shares authorized,\\n   no shares issued and outstanding, respectively\\n                                                             --             --\\n  Common stock,  voting,  $.01 par value,  75,000 shares authorized,  27,724 and\\n   27,436 shares issued\\n    and outstanding, respectively .................           274           277\\n  Additional paid-in capital ......................       301,279       301,287\\n  Accumulated deficit .............................      (272,301      (200,887)\\n                                                    -------------  ------------\\n\\n    Total stockholders\\' equity ....................       100,666        29,263\\n                                                    -------------  ------------\\n\\n    Total liabilities and stockholders\\' equity .... $     558,281  $    638,401\\n                                                    =============  ============\\n</TABLE>\\n\\n          See accompanying notes to consolidated financial statements\\n\\n\\n                                       3\\n<PAGE>\\n\\n\\n\\n\\n                          AMERICAN PAD & PAPER COMPANY\\n                CONSOLIDATED STATEMENTS OF OPERATIONS (Unaudited)\\n                    (in thousands, except per share amounts)\\n<TABLE>\\n<CAPTION>\\n\\n                                       Three months ended    Nine months ended\\n                                          September 30,        September 30,\\n                                       --------- ---------  --------- ---------\\n                                          1998      1997      1998       1997\\n                                       --------- ---------  --------- ---------\\n<S>                                   <C>....... <C>......  <C>...... <C>......\\n\\nNet sales .............................$ 174,160 $ 176,462  $ 482,479 $ 493,455\\n\\nCost of sales .........................  156,462   150,204    441,962   407,282\\n                                       --------- ---------  --------- ---------\\n\\n   Gross profit .......................   17,698    26,258     40,517    86,173\\n\\nOperating expenses:\\n\\n   Selling and marketing ..............    5,569     5,529     15,762    15,624\\n\\n   General and administrative .........    9,608     6,338     24,313    14,716\\n\\n   Restructuring charges ..............    5,741      --        5,741      --\\n\\n   Loss on sales of accounts receivable      858       656      2,319     2,049\\n\\n   Amortization of intangible assets ..    1,327     1,677      4,522     4,547\\n\\n   Write-down of intangible assets ....     --        --       41,000      --\\n\\n   Management fees and services .......      595       593      1,655     4,284\\n                                       --------- ---------  --------- ---------\\n\\nIncome (loss) from operations .........   (6,000)   11,465    (54,795)   44,953\\n\\nOther income (expense):\\n\\n   Interest ...........................  (11,929    (9,848    (33,735   (27,646)\\n\\n   Other income, net ..................      192       112        207       233\\n                                       --------- ---------  --------- ---------\\n\\nIncome (loss) before income taxes .....  (17,737)    1,729    (88,323)   17,540\\n\\nProvision for (benefit from) income tax   (4,343)      778    (16,907)    7,893\\n                                       --------- ---------  --------- ---------\\n\\nNet income (loss) .....................$ (13,394)$     951  $ (71,416)$   9,647\\n                                       ========= =========  ========= =========\\n\\n\\nEarnings (loss) per share (Basic) .....$    (.48)$    0.03  $   (2.58)$    0.35\\n                                       ========= =========  ========= =========\\n\\n\\nEarnings (loss) per share (Diluted) ...$    (.48)$    0.03  $   (2.58)$    0.35\\n                                       ========= =========  ========= =========\\n\\nWeighted average number of\\n   common shares (Basic)                  27,724    27,436     27,713    27,429\\n                                       ========= =========  ========= =========\\n\\nWeighted average number of\\n   common shares (Diluted)\\n                                          27,724    29,389     27,713    29,382\\n                                       ========= =========  ========= =========\\n</TABLE>\\n          See accompanying notes to consolidated financial statements.\\n\\n\\n\\n\\n                                       4\\n<PAGE>\\n\\n\\n\\n\\n                          AMERICAN PAD & PAPER COMPANY\\n                CONSOLIDATED STATEMENTS OF CASH FLOWS (Unaudited)\\n                                 (in thousands)\\n\\n\\n<TABLE>\\n<CAPTION>\\n                                                             Nine months ended\\n                                                              September 30,\\n                                                             1998        1997\\n                                                          ---------- ----------\\n<S>                                                      <C>........ <C>.......\\n\\nCash flows from operating activities:\\n  Net income (loss) ..................................... $  (71,416)$    9,647\\n  Adjustments to reconcile net income (loss) to net cash\\n   provided by (used in) operating activities:\\n    Deferred income taxes................................    (17,148)      --\\n    Depreciation ........................................     10,241      9,167\\n    Amortization of goodwill and intangible assets ......      4,522      4,528\\n    Write-down of intangible assets .....................     41,000       --\\n    Restructuring charges ...............................      5,741       --\\n    Amortization of debt issuance costs .................      3,589      1,900\\n    Loss on sale of assets ..............................        143       --\\n    Changes in assets and liabilities, net of effects of acquisitions:\\n       Accounts receivable ..............................     27,202     (9,649)\\n       Refundable income taxes                                 3,308       --\\n       Inventories ......................................     24,752    (47,703)\\n       Prepaid expenses and other .......................       (301)      (798)\\n       Income tax liability, net ........................        --       6,363\\n       Accounts payable .................................    (13,682)    15,637\\n       Accrued expenses .................................     13,173    (20,332)\\n       Other assets .....................................       (743)     2,139\\n       Other liabilities ................................        (62)    (1,215)\\n                                                          ---------- ----------\\n Net cash provided by (used in) operating activities.....     30,319    (30,316)\\n                                                          ---------- ----------\\n\\nCash flows from investing activities:\\n  Purchase of business, including acquisition costs .....       --      (50,666)\\n  Purchases of property and equipment ...................    (11,343)   (15,448)\\n  Proceeds from sale of assets ..........................         21      3,286\\n  Other .................................................        148       --\\n                                                          ---------- ----------\\n         Net cash used in investing activities ..........    (11,174)   (62,828)\\n                                                          ---------- ----------\\n\\nCash flows from financing activities:\\n  Net borrowings on credit agreement and long-term debt .     14,400     99,400\\n  Repayment of long-term debt ...........................     (1,146)    (1,179)\\n  Repayment of accounts receivable financing ............     (2,000)    (7,000)\\n  Debt issuance costs                                         (2,037)      --\\n  Other                                                           11        307\\n                                                          ---------- ----------\\n     Net cash provided by financing activities ..........      9,228     91,528\\n                                                          ---------- ----------\\n\\nNet increase (decrease) in cash .........................     28,373     (1,616)\\n\\nCash, beginning of period ...............................      4,855      2,290\\n                                                          ---------- ----------\\n\\nCash, end of period ..................................... $   33,228 $      674\\n                                                          ========== ==========\\n</TABLE>\\n\\n          See accompanying notes to consolidated financial statements.\\n\\n\\n                                       5\\n<PAGE>\\n\\n\\n\\n\\n                          AMERICAN PAD & PAPER COMPANY\\n                   NOTES TO CONSOLIDATED FINANCIAL STATEMENTS\\n                               September 30, 1998\\n           (Amounts in thousands, except share and per share amounts)\\n\\n\\n\\n1.       Organization and Basis of Presentation\\n\\n         Organization and Basis of Presentation\\n\\n         American Pad & Paper  Company  (the  \"Company\")  is a holding  company,\\nwhich conducts its operations  through American Pad & Paper Company of Delaware,\\nInc. (\"AP&P Delaware\") and its wholly owned subsidiaries.\\n\\n     The consolidated  financial  statements of the Company present the accounts\\nand operations of the Company and its wholly owned  subsidiaries.  Additionally,\\nthe consolidated  financial  statements  include the accounts of Notepad Funding\\nCorporation,  a special purpose  corporation used in connection with an accounts\\nreceivable based credit  facility.  All significant  intercompany  balances have\\nbeen  eliminated.   Certain  prior  year  amounts  have  been  reclassified  for\\ncomparative purposes.  The financial statements as of September 30, 1997 and for\\nthe  three  and  nine  months  ended  have  been  restated  to  reflect  certain\\nadjustments which should have been reported for the three months ended September\\n30, 1997. With out giving effect to the restatement,  basic and diluted earnings\\nper share would have been .06 and .06  respectively  for the three  months ended\\nSeptember  30,  1997  and .38 and .36  respectively  for the nine  months  ended\\nSeptember 30, 1997.\\n\\n         Business\\n\\n         The  Company is a leading  manufacturer  and  marketer  of  paper-based\\noffice products in North America.  The Company operates in one business segment,\\nconverting paper into office products, and offers a broad assortment of products\\nthrough two complementary  divisions:  Ampad (writing pads, file folders, retail\\nenvelopes,  and other  paper-based  office products) and Williamhouse  (business\\nenvelopes and seasonal greeting cards).  The Company\\'s  products are distributed\\nthrough large mass merchant  retailers,  office product  superstores,  warehouse\\nclubs, major contract stationers, office products wholesalers,  paper merchants,\\nand independent dealers.\\n\\n         Interim Financial Information\\n\\n         The accompanying  interim financial  statements are unaudited.  Certain\\ninformation and disclosures  normally included in financial  statements prepared\\nin accordance with generally accepted accounting  principles have been condensed\\nor omitted,  although the Company  believes the disclosures  included herein are\\nadequate  to make  the  information  presented  not  misleading.  These  interim\\nfinancial  statements should be read in conjunction with the Company\\'s financial\\nstatements for the year ended December 31, 1997.\\n\\n         The accompanying  interim financial statements contain all adjustments,\\nconsisting  only  of  normal  recurring   adjustments,   necessary  for  a  fair\\npresentation of the Company\\'s  financial  position at September 30, 1998 and the\\nresults of its  operations and its cash flows for the three month and nine month\\nperiods  ended  September 30, 1998 and 1997.  The results of operations  for the\\ninterim  periods  presented  are not  necessarily  indicative  of  results to be\\nexpected for the full fiscal year.\\n\\n         American Pad & Paper Company of Delaware, Inc.\\n\\n         The Company\\'s wholly owned subsidiary,  AP&P Delaware, is the issuer of\\n13% Senior Subordinated Notes (\"Notes\"). Terms of the Notes require, among other\\nmatters,  that AP&P Delaware  provide  annual  audited and  quarterly  unaudited\\nfinancial  statements  to  the  holders  of the  notes.  There  are no  material\\ndifferences  between the  financial  statements of the Company and those of AP&P\\nDelaware.  The composition of AP&P Delaware\\'s  stockholder\\'s equity at September\\n30, 1998 consists of one hundred shares of $0.01 par value common stock, paid in\\ncapital of $202,370 and an  accumulated  deficit of $173,107  and, in total,  is\\nequal to the stockholders\\' equity of the Company.\\n\\n\\n                                       6\\n<PAGE>\\n\\n\\n                          AMERICAN PAD & PAPER COMPANY\\n            NOTES TO CONSOLIDATED FINANCIAL STATEMENTS - (Continued)\\n                               September 30, 1998\\n           (Amounts in thousands, except share and per share amounts)\\n\\n\\n\\n2.       Accounts Receivable\\n\\nAccounts receivable consist of the following:\\n<TABLE>\\n<CAPTION>\\n\\n                                                     September 30,  December 31,\\n                                                         1998           1997 \\n                                                     -------------  -----------\\n<S>                                                  <C>..........  <C>........\\nAccounts  receivable -- trade, excluding $58,000 and\\n $60,000, respectively, which are sold as part of a\\n accounts receivable financing facility ............ $      48,933  $    72,975\\nAccounts receivable - other .........................        2,791        4,022\\nLess allowance for doubtful accounts and reserves for\\n customers deductions, returns and cash discounts ...       (2,723)      (2,794)\\n                                                     -------------  -----------\\n                                                     $      49,001  $    74,203\\n                                                     =============  ===========\\n</TABLE>\\n\\n\\n3.       Inventories\\n\\nInventories consist of the following:\\n<TABLE>\\n\\n                                                     September 30, December 31,\\n                                                           1998         1997 \\n                                                      ------------ ------------\\n<S>                                                  <C>..........<C>..........\\nRaw materials and semi-finished goods ................$     37,910 $     54,285\\nWork in process ......................................       6,463        5,600\\nFinished goods .......................................      87,945      100,480\\n                                                      ------------ ------------\\n                                                           132,318      160,365\\nLIFO reserve .........................................      (2,711)      (6,006)\\n                                                      ------------ ------------\\n  ....................................................$    129,607 $    154,359\\n                                                      ============ ============\\n</TABLE>\\n\\n4.       Property, Plant and Equipment\\n\\nProperty, plant and equipment consists of the following:\\n<TABLE>\\n\\n                                                     September 30, December 31,\\n                                                           1998         1997 \\n                                                      ------------ ------------\\n<S>                                                  <C>..........<C>..........\\n\\nLand .................................................$      7,058 $      7,035\\nBuildings and leasehold improvements .................      34,306       30,308\\nMachinery and equipment ..............................     129,621      115,168\\nOffice furniture and fixtures ........................      11,266        9,818\\nConstruction in progress .............................       6,349       15,322\\n                                                      ------------ ------------\\n                                                           188,600      177,651\\nLess accumulated depreciation and amortization .......      36,419       26,261\\n                                                      ------------ ------------\\n                                                      $    152,181 $    151,390\\n                                                      ============ ============\\n</TABLE>\\n\\n\\n\\n                                       7\\n<PAGE>\\n\\n\\n                          AMERICAN PAD & PAPER COMPANY\\n            NOTES TO CONSOLIDATED FINANCIAL STATEMENTS - (Continued)\\n                               September 30, 1998\\n           (Amounts in thousands, except share and per share amounts)\\n\\n\\n\\n5.       Intangible Assets\\n\\nIntangible assets consist of the following:\\n<TABLE>\\n\\n                                                     September 30, December 31,\\n                                                           1998         1997 \\n                                                      ------------ ------------\\n<S>                                                  <C>..........<C>..........\\nGoodwill .............................................$    148,460 $    189,861\\nIntangible assets, principally tradenames ............      43,665       44,284\\nDebt issuance costs ..................................      20,398       18,369\\n                                                      ------------ ------------\\n                                                           212,523      252,514\\nLess accumulated amortization ........................      25,443       18,816\\n                                                      ------------ ------------\\n                                                      $    187,080 $    233,698\\n                                                      ============ ============\\n</TABLE>\\n\\nAt June 30, 1998, the Company wrote-down  certain  long-lived assets,  primarily\\ngoodwill  and  tradenames   associated  with  its  forms  business  (principally\\nShade/Allied)  by  $41,000  to their net  realizable  value,  as a result of the\\nCompany\\'s decision to exit this business in its current form.\\n\\n6.       Accrued Expenses\\n\\nAccrued expenses consist of the following:\\n<TABLE>\\n\\n                                                     September 30, December 31,\\n                                                           1998         1997 \\n                                                      ------------ ------------\\n<S>                                                  <C>..........<C>..........\\nAcquisition integration costs ........................$      6,522 $      8,534\\nSales volume discounts ...............................      16,861       11,634\\nSalaries and wages ...................................       5,927        4,242\\nInterest .............................................      10,046        5,927\\nOther ................................................      13,973        9,820\\n                                                      ------------ ------------\\n                                                      $     53,329 $     40,157\\n                                                      ============ ============\\n</TABLE>\\n\\n\\n7.       Borrowings\\n\\n     In February  1998,  the Company and its banking group agreed to an increase\\nin the size of the  revolving  credit  agreement  from $300.0  million to $330.0\\nmillion for a period of one year.  After such time,  the level of debt available\\nunder such credit  agreement  was to be reduced to $300.0  million.  In December\\n1997,  February 1998 and April 1998,  certain  covenants in the credit agreement\\nwere also  modified  as of the end of 1997 and for a period  to end in  February\\n1999.  In June and July 1998,  the  Company  obtained  amendments  to its credit\\nagreement waiving all defaults of its financial  covenants through September 30,\\n1998.  The Company paid fees and  expenses of $1.7 million to its banking  group\\nand lawyers in connection with the amendments to the credit agreement.\\n\\n         On September 30, 1998, the Company  amended its credit  agreement.  The\\nseventh amendment eliminated all prior defaults and reinstated the original $300\\nmillion limit under the credit  facility.  The  amendment  allows the Company to\\nonce again classify the underlying  debt as long-term debt in the balance sheet.\\nThe restated credit agreement provides for permanent  reductions in availability\\nunder the  facility  of $25 million in  December  1998,  $25 million in December\\n1999, and $50 million in July 2000. The amended  facility  matures in July 2001.\\nFees of $.9 million were paid in  conjunction  with this  amendment  and will be\\namortized  over the remaining life of the debt,  beginning  October 1, 1998. The\\ninterest rate  incurred by the Company will vary each quarter  through July 2001\\ndepending on the Company\\'s consolidated debt to EBITDA (earnings before\\n\\n                                       8\\n<PAGE>\\n\\n                          AMERICAN PAD & PAPER COMPANY\\n            NOTES TO CONSOLIDATED FINANCIAL STATEMENTS - (Continued)\\n                               September 30, 1998\\n           (Amounts in thousands, except share and per share amounts)\\n\\ninterest,  taxes,  depreciation,  amortization,  and certain noncash charges, as\\ndefined in the agreement)  ratio at the beginning of each quarter.  The new bank\\ncredit amendment  requires the Company to meet certain financial tests including\\nminimum EBITDA levels,  minimum  interest  coverage ratios and maximum  leverage\\nratios.  The Company posted a positive EBITDA performance of $6.1 million in the\\nquarter,  as measured by the bank  agreement.  The new agreement  limits capital\\nexpenditures to $3.6 million for the remainder of 1998;  $15.0 million for 1999;\\n$15.0 million for 2000; and $7.5 million for the first half of 2001.\\n\\n8.       Related Party Transactions\\n\\n         Effective March 31, 1998, the Company loaned $1.0 million to one of its\\nDirectors on an interest bearing note receivable.  This note accrues interest at\\n5.89%,  compounded  annually,  and is due on March  31,  2001.  Options  not yet\\nexercised  and  546,385  shares  of the  Company\\'s  common  stock  owned by this\\nDirector secure this note.\\n\\n9.       Restructuring Charges\\n\\n         The third quarter  restructuring charge of $5.7 million represents part\\nof  the  previously  announced  major  rationalization  plan  of  the  Company\\'s\\nmanufacturing  operations.  The plan includes  plant  consolidations,  equipment\\nrationalization moves, plant/product changes, warehouse consolidations,  as well\\nas new distribution centers. The rationalization is expected to result in an 18%\\nreduction  in  manufacturing  space  and  a net  7%  reduction  (250  employees,\\nprimarily in plant manufacturing) in the workforce.  Employee termination costs,\\nincluding  severance  and  benefits  totaled  $1.8  million.  Additionally,  the\\nrestructuring reserve includes closing costs to exit facilities of $2.5 million,\\nlease  termination  costs of $0.5  million,  and  property  taxes after  ceasing\\noperations of $0.9 million. As of September 30, 1998, there have been no charges\\nto the restructuring reserve.\\n\\n         Estimated  additional costs of $7.5 million associated with the plan do\\nnot qualify for current recognition but will be recorded primarily in 1999. Such\\ncosts include  equipment and inventory  transfer costs,  employee  retention and\\nrelocation,  recruiting  costs,  interim warehouse costs, and other training and\\nefficiency  costs.  The  major  undertakings  of the  rationalization  plan  are\\nexpected to be completed in 1999.\\n\\n\\n\\n                                       9\\n<PAGE>\\n\\n\\n                          AMERICAN PAD & PAPER COMPANY\\n     Item 2 Management\\'s Discussion and Analysis of Financial Condition and\\n                              Results of Operations\\n\\nOverview\\n\\n         The  Company  is a leading  manufacturer  and  marketer  of  nationally\\nbranded and private label paper-based office products  (excluding copy paper) in\\nthe $60 billion to $70 billion North  American  office  products  industry.  The\\nCompany  offers a broad  assortment of products  including  writing  pads,  file\\nfolders,  envelopes and other paper-based products.  Through its Ampad division,\\nthe Company is among the largest suppliers of pads and other paper-based writing\\nproducts,  filing  supplies,  and retail  envelopes  to many of the  largest and\\nfastest growing office products distributors. Through its Williamhouse division,\\nthe Company is the leading  supplier of mill  branded  specialty  and  commodity\\nbusiness  envelopes to paper merchants and  distributors.  The Company  believes\\nthat its  future  operating  results  will  not be  directly  comparable  to its\\nhistorical  operating  results  because of its strategic  acquisitions.  Certain\\nfactors which have affected past and may affect future operating  results of the\\nCompany are discussed below.\\n\\n         Purchase  Accounting  Effects.  The  Company\\'s  acquisitions  have been\\naccounted for using the purchase  accounting method.  The aggregate  acquisition\\ncosts  (including  assumption of debt) are allocated to the net assets  acquired\\nbased  on the fair  market  value of such net  assets.  The  allocations  of the\\npurchase  price  result in an increase in the  historical  book value of certain\\nassets such as property,  plant and equipment and intangible  assets,  including\\ngoodwill,  which results in incremental  annual  depreciation  and  amortization\\nexpense each year.\\n\\n         Raw Material.  The Company\\'s  principal raw material is paper.  Certain\\ncommodity  grades  utilized  by  the  Company  have  shown   considerable  price\\nvolatility  since 1992.  From May 1997 through  October 1997, all but one of the\\nkey commodity grades of paper utilized by the Company increased significantly in\\ncost.  Due  to  strategic   customer   considerations   and  competitive  market\\nconditions,  the Company did not begin to recover a  significant  portion of the\\nincreases in paper costs  affecting both its divisions  until December 1997. The\\nCompany  continued to implement sales price  increases  during the first half of\\n1998.  Since October 1997,  the key  commodity  grades of paper  utilized by the\\nCompany  substantially  decreased  in cost.  Recently,  the  competitive  market\\nconditions have  necessitated that sales pricing for certain products follow the\\ndownward  trend in raw material  prices.  Paper price  volatility is expected to\\ncontinue  to have an  effect  on net  sales  and cost of sales  and  there is no\\nassurance   that  the  Company  will  not  be  materially   affected  by  future\\nfluctuations  in the price of paper.  Fluctuations  in paper  prices can have an\\neffect on  quarterly  comparisons  of the results of  operations  and  financial\\ncondition of the Company.\\n\\nRecent developments\\n\\n     Management Changes.  The Company appointed James W. Swent, III as Executive\\nVice President and Chief Financial  Officer on June 2,  respectively.  Mr. Swent\\nwas previously Chief Executive Officer of Cyrix  Corporation,  a manufacturer of\\nmicroprocessors   for  the  PC   industry,   until  its  merger  with   National\\nSemiconductor.  In addition,  he has held  operations  and  financial  executive\\npositions with companies, including Northern Telecom, Rodime PLC and Memorex. On\\nJuly 8, 1998, the Company  appointed Mr. Swent as Chief Executive  Officer and a\\nmember of its Board of Directors (\"Board\"). Mr. Swent replaced Charles G. Hanson\\nIII who retired from his position as Chairman  and Chief  Executive  Officer and\\ndirector of the Company.  Also,  Russel M. Gard  stepped  down as President  and\\nChief  Operating  Officer,  but will  continue his duties as Vice Chairman and a\\nmember of the Board. On July 20, 1998, the Company  appointed  William L. Morgan\\nas  Executive  Vice   President,   Operations.   Mr.  Morgan  has  35  years  of\\nmanufacturing  experience ranging from entrepreneurial  start-ups to large scale\\nmulti-national  corporations  including  Northern  Telecom,  Texas  Instruments,\\nMemorex and  Fujitsu.  John H.  Rodgers has been  appointed  to the  position of\\nSenior Vice President, General Counsel and Secretary.\\n\\n         On October 14, 1998, the Company  announced the  resignation of Timothy\\nNeedham, President and Chief Operating Officer.\\n\\n         Company   Initiatives/Restructuring.   Under  the   leadership  of  new\\nmanagement,  the Company has begun a review of all operations with the challenge\\nof  rebuilding  market  share,  reducing  debt  and  returning  the  company  to\\nprofitability.  On July 15, 1998, the Board approved the Company\\'s exit from the\\nforms business in its current form which has produced  unfavorable  margins.  As\\npart of the review process, the Company retained the management  consulting firm\\nof Bain & Company and the investment banking firm of Goldman, Sachs & Company to\\nassist the Company in evaluating its current  position in the marketplace and in\\nsetting the Company\\'s long term strategic direction. Goldman Sachs will explore\\n\\n\\n\\n                                       10\\n<PAGE>\\n\\n\\n                          AMERICAN PAD & PAPER COMPANY\\n     Item 2 Management\\'s Discussion and Analysis of Financial Condition and\\n                              Results of Operations\\n                                   (continued)\\n\\nexternal  strategic and financial  alternatives to maximize  shareholder  value.\\nBain & Company will work closely with the  Company\\'s  customers and suppliers to\\nevaluate core strengths and identify  opportunities  for  improvement and assist\\nthe Company to  restructure  manufacturing  to best serve each of the  Company\\'s\\nmarkets.\\n\\n         The third quarter  restructuring charge of $5.7 million represents part\\nof  the  previously  announced  major  rationalization  plan  of  the  Company\\'s\\nmanufacturing  operations.  The plan includes  plant  consolidations,  equipment\\nrationalization moves, plant/product changes, warehouse consolidations,  as well\\nas new distribution centers. The rationalization is expected to result in an 18%\\nreduction  in  manufacturing  space  and  a net  7%  reduction  (250  employees,\\nprimarily in plant manufacturing) in the workforce.  Employee termination costs,\\nincluding  severance  and  benefits  totaled  $1.8  million.  Additionally,  the\\nrestructuring reserve includes closing costs to exit facilities of $2.5 million,\\nlease  termination  costs of $0.5  million,  and  property  taxes after  ceasing\\noperations of $0.9 million. Estimated capital costs of $2.8 million and one-time\\nimplementation costs of $7.5 million that do not qualify for current recognition\\nwill be recorded  primarily in 1999. Such costs include  equipment and inventory\\ntransfer costs,  employee  retention and relocation,  recruiting costs,  interim\\nwarehouse costs, and other training and efficiency costs. The major undertakings\\nof the  rationalization  plan are expected to be  completed  in 1999.  Upon full\\nimplementation,  the plan is expected to have a significant  positive  effect on\\nthe  Company\\'s  financial  performance,  resulting  in an  estimated  annualized\\nincrease in operating income of $10-12 million.\\n\\n         Covenant Violations/  Negotiation to Modify Agreement. On September 30,\\n1998, the Company amended its credit agreement. The seventh amendment eliminated\\nall prior  defaults and  reinstated  the original  $300 million  limit under the\\ncredit  facility.  The amendment  allows the Company to once again  classify the\\nunderlying  debt as long-term  debt in the balance  sheet.  The restated  credit\\nagreement  provides for permanent  reductions in availability under the facility\\nof $25 million in December  1998,  $25 million in December 1999, and $50 million\\nin July 2000.  The amended  facility  matures in July 2001.  Fees of $.9 million\\nwere paid in  conjunction  with this  amendment  and will be amortized  over the\\nremaining  life of the debt,  beginning  October  1,  1998.  The  interest  rate\\nincurred by the Company  will vary each quarter  through July 2001  depending on\\nthe Company\\'s  consolidated  debt to EBITDA (earnings  before  interest,  taxes,\\ndepreciation,  amortization,  and  certain  noncash  charges,  as defined in the\\nagreement) ratio at the beginning of each quarter. The new bank credit amendment\\nrequires the Company to meet certain  financial tests  including  minimum EBITDA\\nlevels,  minimum  interest  coverage  ratios and maximum  leverage  ratios.  The\\nCompany posted a positive EBITDA performance of $6.1 million in the quarter,  as\\nmeasured by the bank agreement. The new agreement limits capital expenditures to\\n$3.6 million for the remainder of 1998;  $15.0  million for 1999;  $15.0 million\\nfor 2000; and $7.5 million for the first half of 2001.\\n\\n\\n\\n                                       11\\n<PAGE>\\n\\n\\n                          AMERICAN PAD & PAPER COMPANY\\n     Item 2 Management\\'s Discussion and Analysis of Financial Condition and\\n                              Results of Operations\\n                                   (continued)\\n\\nResults of Operations\\n\\n         The following  table  summarizes  the Company\\'s  historical  results of\\noperations  as a  percentage  of net sales for the three  months and nine months\\nended  September  30,  1998  and  1997.  The  Company\\'s  historical  results  of\\noperations for each of these periods are  significantly  affected by the results\\nof Shade/Allied, which was acquired on February 11, 1997.\\n\\n<TABLE>\\n                                         Three months ended  Nine months ended\\n                                             September 30,     September 30,\\n           Income Statement Data ......     1998      1997      1998      1997\\n                                          -------   -------   -------   -------\\n<S>                                      <C>.....  <C>.....  <C>.....  <C>.....\\n\\nNet sales ...............................  100.0%    100.0%    100.0%    100.0%\\nCost of sales ...........................   89.8%     85.1%     91.6%     82.5%\\n                                          -------   -------   -------   -------\\n\\n   Gross profit .........................   10.2%     14.9%      8.4%     17.5%\\n\\nOperating expenses:\\n   Selling and marketing ................    3.2%      3.1%      3.3%      3.2%\\n   General and administrative ...........    5.5%      3.6%      5.0%      3.0%\\n   Loss on sale of accounts receivable ..    0.5%      0.4%      0.5%      0.4%\\n   Amortization of intangible assets ....    0.8%      1.0%      0.9%      0.9%\\n   Restructuring charges ................    3.3%      0.0%      1.2%      0.0%\\n   Write-down of intangible assets ......    0.0%      0.0%      8.5%      0.0%\\n   Management fees and services .........    0.3%      0.3%      0.3%      0.9%\\n                                          -------   -------   -------   -------\\n    Income (loss) from operations .......   -3.4%      6.5%    -11.3%      9.1%\\n\\nOther income (expense):\\n   Interest .............................   -6.8%     -5.6%     -7.0%     -5.6%\\n                                          -------   -------   -------   -------\\nIncome (loss) before income taxes .......  -10.2%      0.9%    -18.3%      3.5%\\nProvision for (benefit from) income taxes   -2.5%      0.4%     -3.5%      1.6%\\n                                          -------   -------   -------   -------\\nNet income (loss) .......................   -7.7%      0.5%    -14.8%      1.9%\\n                                          =======   =======   =======   =======\\n</TABLE>\\n\\n\\n\\n                                       12\\n<PAGE>\\n\\n\\n                          AMERICAN PAD & PAPER COMPANY\\n         Management\\'s Discussion and Analysis of Financial Condition and\\n                              Results of Operations\\n                                   (continued)\\n\\nThree months ended  September 30, 1998 compared to three months ended  September\\n30, 1997\\n\\n         Net Sales for the three months ended  September  30, 1998  decreased by\\n$2.3  million,  or 1.3%,  to $174.2  million  from $176.5  million for the three\\nmonths ended  September 30, 1997.  The net sales decrease is comprised of a $2.0\\nmillion increase in sales, principally due to favorable mix, partially offset by\\nan  unfavorable  volume  variance.  The  increased  sales were  primarily in the\\ncontract stationer and superstore  channels.  This increase was more than offset\\nby a $4.3  million  increase  in customer  incentives.  The  increased  customer\\nincentives  are due to additional  rebate  programs  caused by more  competitive\\npricing,  changing  product mix, higher volumes  resulting in certain  customers\\nreaching the next  incentive  tier level and  write-offs  related to the loss of\\ncertain unprofitable forms business and a major customer.\\n\\n     Gross  Profit for the three months ended  September  30, 1998  decreased by\\n$8.6 million, or 32.7%, to $17.7 million from $26.3 million for the three months\\nended September 30, 1997.  Gross profit margin  decreased to 10.2% for the three\\nmonths ended  September 30, 1998 from 14.9% for the three months ended September\\n30,1997. The decrease in gross profit margin is primarily attributable to higher\\nunit production costs due to underutilized capacity resulting from the Company\\'s\\nefforts  to  reduce  its  inventory,  a  reduction  in  selling  margins  due to\\ncompetitive  pricing  pressures,  and the lower sales.  In  addition,  the third\\nquarter of 1998 includes  approximately  $2.9 million of charges for  additional\\nobsolescence reserves.\\n\\n     Selling and  marketing  expenses for the three months ended  September  30,\\n1998  increased to $5.6 million,  or 3.2% of sales from $5.5 million or 3.1% for\\nthe three months ended September 30, 1997.\\n\\n         General  and  administrative   expenses  for  the  three  months  ended\\nSeptember  30, 1998  increased  to $9.6  million from $6.3 million for the three\\nmonths ended  September 30, 1997, an increase of $3.3 million.  This increase is\\nprimarily attributable to $2.2 million of severance and consulting costs paid to\\ncertain  former  executives  of the company  and $1.4  million of Bain & Company\\nconsulting fees related to work on the Company\\'s restructuring.\\n\\n         Restructuring  charges for the three months ended September 30, 1998 of\\n$5.7 million represents part of the previously  described major  rationalization\\nplan of the Company\\'s manufacturing operations.\\n\\n         Losses  on sales of  accounts  receivable  for the three  months  ended\\nSeptember  30, 1998  increased  to $0.9  million from $0.7 million for the three\\nmonths  ended  September  30, 1997 due  primarily to a higher  average  level of\\naccounts receivable sold to the third party trust in the third quarter of 1998.\\n\\n         Goodwill and intangible asset amortization expense for the three months\\nended  September  30, 1998  decreased  to $1.3 million from $1.7 million for the\\nthree months ended September 30, 1997, an decrease of $0.4 million primarily due\\nto the write-off of the Shade/Allied goodwill in the second quarter of 1998.\\n\\n     Management  fees and services  expense for the three months ended September\\n30,  1998  amounted  to $0.6  million as  compared  to $.6 million for the three\\nmonths ended September 30,1997.\\n\\n         Interest  expense  for  the  three  months  ended  September  30,  1998\\nincreased  to $11.9  million  from  $9.8  million  for the  three  months  ended\\nSeptember 30, 1997, an increase of $2.1 million. Of this increase,  $0.2 million\\nis  attributable  to increased  debt levels,  $0.8  million is  attributable  to\\nincreased interest rates and $1.1 million is attributable to the amortization of\\nfees paid in  connection  with  amendments to the credit  agreement  obtained in\\nFebruary and July 1998 and other costs.\\n\\n     The income tax  provision  for the three month period ended  September  30,\\n1998  reflects an effective  tax rate of 24.5%  versus an effective  tax rate of\\n45.0% for the three month period ended  September 30, 1997.  Due to the expected\\nlower operating results for 1998 and higher non-deductible  expenses as a result\\nof the write-down of intangible  assets associated with the decision to exit the\\nShade/Allied continuous forms business, the Company lowered its effective income\\ntax rate in 1998.\\n\\n                                       13\\n<PAGE>\\n\\n                          AMERICAN PAD & PAPER COMPANY\\n         Management\\'s Discussion and Analysis of Financial Condition and\\n                              Results of Operations\\n                                   (continued)\\n\\nNine months ended September 30, 1998 compared to nine months ended September 30,\\n1997\\n\\n         Net Sales for the nine months  ended  September  30, 1998  decreased by\\n$11.0  million,  or 2.2%,  to $482.5  million  from $493.5  million for the nine\\nmonths ended  September 30, 1997. This net sales decrease is comprised of a $6.2\\nmillion  increase  in sales  offset  by a $16.9  million  increase  in  customer\\nincentives and a $0.3 million increase in cash discounts. The net sales increase\\nis  primarily  attributable  to  favorable  mix and price  variances  and owning\\nShade/Allied ($3.3 million) for nine months of 1998 versus only seven and a half\\nmonths in the same  period in 1997,  partially  offset  by  unfavorable  volumes\\nvariance.  The sales increase occurred  primarily in the contract  stationer and\\nmass market channels.  The increased  customer  incentives are due to additional\\nrebate programs caused by more competitive pricing, changing product mix, higher\\nvolumes  resulting in certain  customers  reaching the next incentive tier level\\nand write-offs related to the loss of certain  unprofitable forms business and a\\nmajor customer.\\n\\n         Gross Profit for the nine months ended  September 30, 1998 decreased by\\n$45.7 million, or 53.0%, to $40.5 million from $86.2 million for the nine months\\nended  September 30, 1997.  Gross profit  margin  decreased to 8.4% for the nine\\nmonths ended  September 30, 1998 from 17.5% for the nine months ended  September\\n30,  1997.  The decrease in gross profit  margin is  primarily  attributable  to\\nhigher unit production  costs due to underutilized  capacity  resulting from the\\nCompany\\'s efforts to reduce its inventory, a reduction in selling margins due to\\ncompetitive  pricing  pressures,  and the lower sales.  In addition,  the second\\nquarter of 1998 included  approximately  $7.5 million of charges  resulting from\\nreevaluating  certain  inventories based on changes in current market conditions\\nand accruals for workers\\' compensation and property tax and the third quarter of\\n1998 includes approximately $2.9 million of charges for additional  obsolescence\\nreserves.\\n\\n         Selling and marketing  expenses for the nine months ended September 30,\\n1998 increased to $15.8 million,  or 3.3% of sales, from $15.6 million,  or 3.2%\\nof sales,  for the nine months ended  September  30, 1997.  The increase of $0.2\\nmillion,  or 0.1% of sales  was  comprised  primarily  of  severance  costs  and\\nincreased commissions related to the higher gross sales.\\n\\n         General and administrative expenses for the nine months ended September\\n30, 1998 increased to $24.3 million from $14.7 million for the nine months ended\\nSeptember  30,1997,  an increase of $9.6  million.  This  increase is  primarily\\nattributable  to $2.2 million of severance and consulting  costs paid to certain\\nformer executives of the company, $1.9 million of Bain & Company consulting fees\\nrelated to work on the Company\\'s  restructuring,  the Company\\'s  second  quarter\\nreevaluation of certain assets which resulted in $1.7 million of current charges\\nfor additional allowance for doubtful accounts stemming from customer deductions\\nand one time severance and litigation costs of $1.3 million. Of the remainder of\\nthe increase,  $0.1 million is attributable to owning  Shade/Allied for the full\\nfirst half of 1998 versus only four and a half months in the same period in 1997\\nand one time charges associated with centralizing certain functions in Dallas.\\n\\n         Restructuring  charges for the nine months ended  September 30, 1998 of\\n$5.7 million represents part of the previously  announced major  rationalization\\nplan of the Company\\'s manufacturing operations.\\n\\n         Losses  on sales of  accounts  receivable  for the  nine  months  ended\\nSeptember  30, 1998  increased  to $2.3  million  from $2.0 million for the nine\\nmonths  ended  September  30, 1997 due  primarily to a higher  average  level of\\naccounts  receivable  sold to the third party trust in 1998 and slightly  higher\\naverage interest rates.\\n\\n         Goodwill and intangible asset amortization  expense for the nine months\\nended September 30, 1998 of $4.5 million remained unchanged from the nine months\\nended September 30, 1997.\\n\\n         Write-down of Intangible  Assets  expense of $41.0 million for the nine\\nmonths ended September 30,1998 reflects a write-off of goodwill and a write-down\\nof intangible assets associated with the Shade/Allied  continuous forms business\\nresulting from the Company\\'s  decision to exit the forms business in its current\\nform.\\n\\n\\n                                       14\\n<PAGE>\\n\\n                           AMERICAN PAD & PAPER COMPANY\\n         Management\\'s Discussion and Analysis of Financial Condition and\\n                              Results of Operations\\n                                   (continued)\\n\\n         Management  fees  and  services  expense  for  the  nine  months  ended\\nSeptember  30, 1998 amounted to $1.7 million as compared to $4.3 million for the\\nnine months ended  September  30,  1997.  The change in  management  fees is due\\nprimarily  to a  one-year  non-recurring  consulting  agreement  with the former\\npresident of Niagara, which expired June 30, 1997.\\n\\n         Interest expense for the nine months ended September  30,1998 increased\\nto $33.7  million  from $27.6  million for the nine months ended  September  30,\\n1997,  an  increase  of  $6.1  million.  Of  this  increase,   $3.0  million  is\\nattributable to increased debt levels, $1.4 million is attributable to increased\\ninterest rates and $1.7 million is  attributable to amortization of fees paid in\\nconnection with amendments to the credit agreement obtained in February and July\\n1998 and other costs.\\n\\n     The income tax provision for the nine month period ended September 30, 1998\\nreflects an effective  tax rate of 19.1%  versus an effective  tax rate of 45.0%\\nfor the nine month period ended  September 30, 1997.  Due to the expected  lower\\noperating results for 1998 and higher non-deductible expenses as a result of the\\nwrite-down  of  intangible  assets  associated  with  the  decision  to exit the\\nShade/Allied continuous forms business, the Company lowered its effective income\\ntax rate in 1998.\\n\\nKnown Trends and Seasonality\\n\\n         The Company  experiences some  seasonality in its business  operations.\\nDuring the Company\\'s third and fourth quarters, net sales tend to be higher than\\nin the  first  and  second  quarters  due to sales of  back-to-school,  seasonal\\ngreeting card and tax filing products.\\n\\n         The Company\\'s Ampad division sells primarily to fast growing  customers\\nsuch as office  products  superstores,  mass  merchants  and  national  contract\\nstationers.  Such customers  periodically  adjust the levels of inventory in the\\nretail  distribution  channels,  either  in  retail  stores  or in  distribution\\ncenters.  The Company has  determined  that lower than expected sales will occur\\nduring the quarters in which such downward  adjustments are made. The Company is\\nnot able to predict the future effect of such adjustments; however, it is likely\\nthat its retail  customers  will continue to adjust  inventory  levels in future\\nquarters.\\n\\n         The  Company\\'s  gross  profit is  directly  affected  by,  among  other\\nfactors,  the mix of  products  sold.  Based on the  Company\\'s  current  product\\ncategories, the Company\\'s gross profit will be negatively or positively affected\\nas the actual product sales mix changes.\\n\\nLiquidity and Capital Resources\\n\\n     Net  cash  provided  by  operating  activities  for the nine  months  ended\\nSeptember  30, 1998 was $30.3  million as compared to net cash used by operating\\nactivities for the nine months ended  September 30, 1997 of $30.3 million.  This\\nincrease is primarily the net result of the following:  (i) cash used by the net\\nloss of $23.3 million after adjustment for non-cash expenses, (ii) a decrease in\\naccounts  receivable  of $27.2  million  as a result  of  improving  days  sales\\noutstanding  in  receivables,  (iii) a decrease in inventories of $24.8 million,\\n(iv) a reduction of accounts  payable of $13.7 million,  and (v) a net change in\\nall other assets and liabilities of $15.3 million.\\n\\n         Cash used in investing  activities for the nine months ended  September\\n30, 1998 and 1997 was $11.2 million and $62.8  million,  respectively.  The nine\\nmonths  ended  September  30,  1998 use was due to the  purchase  of  equipment,\\nprincipally  production equipment.  The nine months ended September 30, 1997 use\\nwas due to the  Shade/Allied  acquisition  of $50.7  million  and  purchases  of\\nequipment of $15.4 million.\\n\\n         Net cash provided by financing  activities during the first nine months\\nof 1998 and 1997 was $9.2  million  and $91.5  million,  respectively.  Net cash\\nprovided  during the nine months ended  September 30, 1998 resulted from the net\\nof the  repayment of $2.0 million in  financing  outstanding  under the accounts\\nreceivable credit facility, $1.1 million of repayment of long-term debt, payment\\nof fees in  connection  with  amendments  to the bank credit  agreement  of $2.0\\nmillion and borrowings of $14.4 million under the bank credit agreement.  During\\nthe nine months ended September 30, 1997, the Company  borrowed $99.4 million to\\nfinance  (i)  repayment  of $7.0  million  in  financing  outstanding  under its\\naccounts receivable credit facility, (ii) the acquisition of Shade/Allied, (iii)\\nthe purchases of equipment and (iv) its working capital needs.\\n\\n\\n                                       15\\n<PAGE>\\n\\n                          AMERICAN PAD & PAPER COMPANY\\n         Management\\'s Discussion and Analysis of Financial Condition and\\n                              Results of Operations\\n                                   (continued)\\n\\n         A portion of the  consolidated  debt of the Company  bears  interest at\\nfloating rates;  therefore,  its financial  condition is and will continue to be\\naffected by changes in prevailing  interest rates.  The Company has entered into\\nan interest rate cap to reduce the impact from a rise in interest rates.\\n\\n         In  February  1998,  the Company  and its  banking  group  agreed to an\\nincrease in the size of the revolving  credit  agreement  from $300.0 million to\\n$330.0  million  for a period of one year.  After such  time,  the level of debt\\navailable under such credit  agreement was to be reduced to $300.0  million.  In\\nDecember  1997,  February 1998 and April 1998,  certain  covenants in the credit\\nagreement  were also  modified  as of the end of 1997 and for a period to end in\\nFebruary  1999. In June and July 1998,  the Company  obtained  amendments to its\\ncredit  agreement  waiving  all  defaults  of  it  financial  covenants  through\\nSeptember  30,  1998.  The Company paid fees and expenses of $1.7 million to its\\nbanking  group and  lawyers  in  connection  with the  amendments  to the credit\\nagreement.\\n\\n         On September 30, 1998, the Company  amended its credit  agreement.  The\\nseventh amendment eliminated all prior defaults and reinstated the original $300\\nmillion limit under the credit  facility.  The  amendment  allows the Company to\\nonce again classify the underlying  debt as long-term debt in the balance sheet.\\nThe restated credit agreement provides for permanent  reductions in availability\\nunder the  facility  of $25 million in  December  1998,  $25 million in December\\n1999, and $50 million in July 2000. The amended  facility  matures in July 2001.\\nFees of $.9 million were paid in  conjunction  with this  amendment  and will be\\namortized  over the remaining life of the debt,  beginning  October 1, 1998. The\\ninterest rate  incurred by the Company will vary each quarter  through July 2001\\ndepending  on  the  Company\\'s  consolidated  debt  to  EBITDA  (earnings  before\\ninterest,  taxes,  depreciation,  amortization,  and certain noncash charges, as\\ndefined in the agreement)  ratio at the beginning of each quarter.  The new bank\\ncredit amendment  requires the Company to meet certain financial tests including\\nminimum EBITDA levels,  minimum  interest  coverage ratios and maximum  leverage\\nratios.  The Company posted a positive EBITDA performance of $6.1 million in the\\nquarter,  as measured by the bank  agreement.  The new agreement  limits capital\\nexpenditures  to $3.6  million the  remainder of 1998;  $15.0  million for 1999;\\n$15.0 million for 2000; and $7.5 million for the first half of 2001.\\n\\n         The ability of the  Company to meet its debt  service  obligations  and\\nreduce  its total debt will be  dependent  upon the  future  performance  of the\\nCompany  and its  subsidiaries.  In turn,  such  performance  will be subject to\\ngeneral  economic  conditions  and to  financial,  business  and other  factors,\\nincluding factors beyond the Company\\'s control.\\n\\n     Although there can be no assurance,  management  believes that,  based upon\\ncash on hand of $33.2  million at September  30, 1998,  estimates of current and\\nfuture operations,  and other available sources of funds, including availability\\nunder  the  bank  credit  agreement  and the  accounts  receivable  facility  at\\nSeptember 30, 1998 of $15.7 million,  its finances will be adequate for 1998 and\\n1999 to make  required  payments of  principal  and  interest  on the  Company\\'s\\nindebtedness,  to fund anticipated  capital  expenditures of approximately  $3.6\\nmillion during the remainder of 1998, and to meet working capital requirements.\\n\\nYear 2000 Issue\\n\\n         The Year 2000 issue is the result of  date-sensitive  devices,  systems\\nand computer  programs  which were deployed  using only two digits,  rather than\\nfour, to represent the applicable  year. Any such  technologies  may recognize a\\nyear  containing  \"00\" as the  year  1900  rather  than the  year  2000.  If not\\ncorrected, many computer applications could fail or create erroneous results.\\n\\n         The  Company  recognizes  the need to ensure  that its  operations  and\\nrelationships  with  vendors,  customers and other parties will not be adversely\\nimpacted by software or other processing errors arising from calculations  using\\nthe year 2000 and  beyond.  Like many  companies,  a  significant  number of the\\nCompany\\'s  computer  applications  and systems require  modification in order to\\nrender  these  systems  Year 2000  compliant.  Failure by the  Company to timely\\nresolve Year 2000 issues could result, in the worst case, in an inability of the\\nCompany to  manufacture  and distribute its product to customers and process its\\ndaily business for some period of time. However, based on the progress made to\\n\\n\\n\\n                                       16\\n<PAGE>\\n\\n                          AMERICAN PAD & PAPER COMPANY\\n         Management\\'s Discussion and Analysis of Financial Condition and\\n                              Results of Operations\\n                                   (continued)\\n\\ndate in its Year 2000  remediation  plan,  the Company  believes  the worst case\\nscenario is  unlikely.  Failure to address Year 2000 issues by one or more third\\nparty service providers on whom the Company relies could also result, in a worst\\ncase scenario,  in some business  interruption.  The amount of lost revenues, if\\nany, resulting from a worst case scenario such as those examples described above\\nwould depend on the period of time over which the failure goes  uncorrected  and\\nthe breadth of its impact.\\n\\n         The Company has recently  purchased a new certified Year 2000 compliant\\nversion  of  its   existing   software   to  upgrade   critical   manufacturing,\\ndistribution,   and  financial  applications.   The  upgrade  is  scheduled  for\\ncompletion and full installation by December 31, 1999. While the primary purpose\\nof the software upgrade is to modernize and improve the Company\\'s operations, it\\nis also  expected  to resolve any Year 2000  issues in these  critical  computer\\nsystems.   Costs  to  acquire  the  software  and  related  hardware  are  being\\ncapitalized in accordance  with SOP 98-1  \"Accounting  for the Costs of Computer\\nSoftware Developed or Obtained for Internal Use.\" Costs to implement the upgrade\\nand other costs  relating to Year 2000  readiness are being expensed as incurred\\nas required by generally accepted accounting  principles.  Through September 30,\\n1998, capital  expenditures to purchase software and related hardware total $1.5\\nmillion and non-capital  expenditures for Year 2000 readiness are  approximately\\n$140,000.  To complete Year 2000 readiness,  $.5 million of capital expenditures\\nwill be incurred to complete the  purchase of the software and related  hardware\\nand  approximately  $1.5 -2.0  million is expected to be spent  through 1999 for\\nimplementation  of the upgraded  software,  consultant costs and other Year 2000\\nreadiness costs. The Company will fund these expenditures  through its operating\\ncash flow. At this time, other than the cost of implementing its new information\\nsystem,  the Company does not believe that the costs of addressing the Year 2000\\nissue will be  material.  The Company  has  increased  its  overall  information\\nsystems budget to accommodate the  implementation  of the upgraded  software and\\nYear 2000  compliance  projects and has not delayed other  critical  information\\nsystems work due to its Year 2000 efforts.\\n\\n         In addition to the software upgrade, a Company-wide committee of senior\\nexecutives  representing  all functional areas has been established to identify,\\nevaluate  and  initiate  corrective  actions  in  order  to  achieve  Year  2000\\nreadiness.  The  committee  has  completed  the  process of taking the  relevant\\ninventory,  assessing  risk  and  assigning  priorities  to  various  tasks  and\\nperforming limited internal tests relative to the Company\\'s critical  functions.\\nThe  committee  determined  that the  Company\\'s  primary  hardware and operating\\nsystems,  which were installed in 1997, and the program supporting the Company\\'s\\nelectronic data interchange are already Year 2000 compliant.  With regard to the\\nCompany\\'s  manufacturing and other non-IT readiness for Year 2000, the Committee\\nhas not identified any issues that would have a material,  adverse impact on the\\nCompany\\'s operations\\'  processes.  The committee has developed contingency plans\\nfor the Company\\'s critical  information system which primarily consist of making\\nits  existing  information  system  Year 2000  compliant  in the event  that the\\nsoftware   upgrade  is  not  completed  by  the  scheduled  date.  In  addition,\\ncontingency plans have included the development of manual intervention processes\\nfor critical functions.  The committee\\'s  expectation is that the remedial tasks\\nrelative to the Company\\'s  critical functions will be completed by June 30, 1999\\nand that full  integrated  testing will be  completed  by December 31, 1999.  In\\naddition,  the committee has requested and received  documentation  from all key\\ncustomers,  suppliers and other business partners that their  organizations will\\nbe ready  for the year  2000.  While the  Company  cannot  warrant  that all the\\nsystems of our business partners will be Year 2000 compliant, based on currently\\navailable  information,  the Company  expects no business  interruptions  due to\\nnon-compliance by any particular entity.\\n\\n         There can be no assurance that the Company will be able to complete the\\ninstallation  of the  upgraded  software  and all of the  remedial  tasks in the\\nrequired time frame, that unanticipated  events will not occur, that the Company\\nwill be able to  identify  all Year 2000  issues  before the  problems  manifest\\nthemselves,  that  third  party  systems  will be Year 2000  compliant  and that\\nCompany\\'s estimate of Year 2000 costs will not require revision if unanticipated\\nadverse developments occur.  However,  management believes the Company is taking\\nadequate  action to address Year 2000 issues.  Based on a current  assessment of\\nrisks  relating to its Year 2000  readiness,  the Company  does not believe Year\\n2000  issues  will  materially  affect  future  financial  results or  operating\\nperformance.\\n\\n                                       17\\n<PAGE>\\n\\n                          AMERICAN PAD & PAPER COMPANY\\n         Management\\'s Discussion and Analysis of Financial Condition and\\n                              Results of Operations\\n                                   (continued)\\n\\nInflation\\n\\n         The Company  believes that  inflation has not had a material  impact on\\nits results of operations for the nine months ended September 30,1998 and 1997.\\n\\n\\n\\n\\n                                       18\\n<PAGE>\\n\\n                          AMERICAN PAD & PAPER COMPANY\\n         Management\\'s Discussion and Analysis of Financial Condition and\\n                              Results of Operations\\n                                   (continued)\\n\\nRecently Issued Accounting Standards\\n\\n         The Accounting  Standards  Executive Committee (AcSEC) issued Statement\\nof Position  (SOP) 98-5,  which is effective for fiscal years  commencing  after\\nDecember 15,  1998.  SOP 98-5,  Reporting  on the Costs of Start-up  Activities,\\nprescribes that start-up costs, including organization costs, should be expensed\\nas  incurred.  The SOP states that initial  application  should be reported as a\\ncumulative  effect of a change in accounting  principle.  The Company will adopt\\nthis SOP for its fiscal year ending December 31, 1999. Assuming an effective tax\\nrate of 42.5% for the fiscal year ending  December  31,  1999,  the Company will\\nreport a charge of $.4 million  (net of tax benefit of $.3 million) in the first\\nquarter of 1999.\\n\\nForward-Looking Statements\\n\\n         The Company is including  the  following  cautionary  statement in this\\nForm 10-Q to make applicable and take advantage of the safe harbor provisions of\\nthe Private  Securities  Litigation  Reform Act of 1995 for any  forward-looking\\nstatements  made by, or on behalf of, the  Company.  Forward-looking  statements\\ninclude  statements  concerning plans,  objectives,  goals,  strategies,  future\\nevents or performance,  and underlying  assumptions and other  statements  which\\n(including  the  Company\\'s  restructuring  plan) are other  than  statements  of\\nhistorical  facts.  From time to time, the Company may publish or otherwise make\\navailable  forward-looking  statements  of  this  nature.  All  such  subsequent\\nforward-looking  statements,  whether  written or oral and whether made by or on\\nbehalf  of the  Company,  are  also  expressly  qualified  by  these  cautionary\\nstatements.  Certain statements contained herein are forward-looking  statements\\nand  accordingly  involve  risks and  uncertainties,  which could  cause  actual\\nresults,   or  outcomes  to  differ  materially  from  those  expressed  in  the\\nforward-looking  statements. The forward-looking statements contained herein are\\nbased on various  assumptions,  many of which are based,  in turn,  upon further\\nassumptions.  The Company\\'s expectations,  beliefs and projections are expressed\\nin good  faith and are  believed  by the  Company  to have a  reasonable  basis,\\nincluding without limitation,  management\\'s  examination of historical operating\\ntrends,  data  contained in the Company\\'s  records and other data available from\\nthird  parties,  but there can be no assurance  that  management\\'s  expectation,\\nbeliefs or projections will result or be achieved or  accomplished.  In addition\\nto the other factors and matters discussed  elsewhere herein,  the following are\\nimportant  factors that, in the view of the Company,  could cause actual results\\nto differ materially from those discussed in the forward-looking statements:\\n\\n1. Changes in economic conditions,  in particular those, which affect the retail\\nand wholesale  office product  markets.  2. Changes in the  availability  and/or\\nprice of paper, in particular if increases\\n in the price of paper are not passed along to the Company\\'s customers.\\n3. Changes in senior management or control of the Company.\\n4. Inability to obtain new customers or retain existing ones.\\n5. Significant changes in competitive factors, including product pricing\\n conditions, affecting the Company.\\n6. Governmental/regulatory  actions and initiatives,  including, those affecting\\nfinancings.\\n7. Significant changes from expectations in actual capital expenditures and\\n operating expenses.\\n8. Occurrences  affecting the Company\\'s ability to obtain funds from operations,\\n debt or equity to finance needed capital expenditures and other investments.\\n9. Significant changes in rates of interest, inflation or taxes. 10. Significant\\nchanges in the Company\\'s relationship with its employees and the\\n potential adverse effects if labor disputes or grievances were to occur.\\n11. Changes in accounting principles and/or the application of such principles\\n to the Company.\\n12.  Timely  resolution of Year 2000 issues by the Company and its customers and\\nsuppliers.\\n\\n         The foregoing  factors could affect the  Company\\'s  actual  results and\\ncould cause the Company\\'s actual results during 1998 and beyond to be materially\\ndifferent  from  any  anticipated   results  expressed  in  any  forward-looking\\nstatement made by or on behalf of the Company.\\n\\n         The Company  disclaims  any  obligation  to update any  forward-looking\\nstatements to reflect events or other circumstances after date hereof.\\n\\n\\n\\n                                       19\\n<PAGE>\\n\\n\\n                          AMERICAN PAD & PAPER COMPANY\\n         Management\\'s Discussion and Analysis of Financial Condition and\\n                              Results of Operations\\n                                   (continued)\\n\\nITEM 3            Quantitative and Qualitative Disclosures about Market Risk\\n\\nAs part of its Bank Credit  Agreement,  the Company was  required to purchase an\\ninterest rate cap of $100 million for a nominal  rate.  The premium paid for the\\ninterest  rate cap  agreement is amortized as interest  expense over the term of\\nthe  agreement.  The amounts  concerned  are  immaterial  to both the  financial\\nposition and operations of the Company.\\n\\n\\n                                       20\\n<PAGE>\\n\\n\\n                          AMERICAN PAD & PAPER COMPANY\\n\\n                            PART II OTHER INFORMATION\\n\\n\\nITEM 1            Legal Proceedings\\n\\n         As reported in the  Company\\'s  Form 10-Q for the quarter ended June 30,\\n1998,  between March 10, 1998 and April 11, 1998, three complaints were filed in\\nthe United States  District  Court for the Northern  District of Texas naming as\\ndefendants the Company, certain of its officers and directors and certain of the\\nunderwriters and other related entities involved in the Company\\'s initial public\\noffering.  The  plaintiffs  in the first two  complaints  purport to represent a\\nclass of stockholders  who acquired shares of the Company\\'s common stock between\\nJuly 2, 1996 and December 17, 1997. The complaints seek unspecified  damages and\\nother relief under the federal  securities  laws based on  allegations  that the\\nCompany made  omissions and  misleading  disclosures in public reports and press\\nreleases  and to  securities  analysts  during  1996  and  1997  concerning  the\\nCompany\\'s financial  condition,  its future business prospects and the impact of\\nvarious acquisitions.  These two lawsuits were consolidated on July 2, 1998. The\\nthird  complaint was dismissed  without  prejudice by the plaintiffs on June 29,\\n1998.  Motions to dismiss have been filed in the consolidated cases but briefing\\nwill not be concluded  until  January  1999.  Pending a ruling on the motions to\\ndismiss,  all proceedings in the  consolidated  action have been stayed.  To the\\nextent that the  motions to dismiss are denied in whole or in part,  the Company\\nbelieves that it has meritorious  defenses to plaintiff\\'s  claims and intends to\\nvigorously defend the action.\\n\\nITEM 2            Changes in Securities and Use of Proceeds\\n\\n         During the period,  in partial  consideration  for their  agreement  to\\nserve as employees  and  executive  officers of the  Company,  three newly hired\\nexecutives were granted  options,  with effective dates of September 3, 1998 and\\nSeptember  21, 1998 to purchase an aggregate of 900,000  shares of the Company\\'s\\ncommon stock, par value $.01, at a weighted average price of approximately $2.05\\nper share. The above described  transactions were exempt from registration under\\nthe  Securities  Act  pursuant  to  Section  4 (2)  of  the  Securities  Act  as\\ntransactions not involving any public offering.\\n\\nITEM 3            Defaults Upon Senior Securities\\n                  None\\n\\nITEM 4            Submission of Matters to a Vote of Security Holders\\n                  None\\n\\nITEM 5            Other Information\\n                  None\\n\\nITEM 6            Exhibits and Reports on Form 8-K\\n\\n(a) Exhibits. The following Exhibits are filed herewith and made a part hereof:\\n\\nExhibit No.                          Description of Exhibit\\n\\n4.21              Seventh  Amendment  to  the  Credit  Agreement,  dated  as  of\\n                  September 30, 1998 among the Company, WR Acquisition, Inc., AP\\n                  &  P  Delaware,   various   Lending   Institutions,   Bank  of\\n                  Tokyo-Mitsubishi  Trust Company,  Bank One,  Texas,  N.A., The\\n                  Bank of Nova Scotia and the First National Bank of Boston,  as\\n                  Co-Agents and Bankers Trust Company, as Agent.\\n\\n27.03             Financial Data Schedule\\n\\n99.017            Press release on November 10, 1998 announced that the Company\\n                  will close its plant in Kosciusko, Mississippi.\\n\\n\\n                                       21\\n<PAGE>\\n\\n                         AMERICAN PAD & PAPER COMPANY\\n\\n                            PART II OTHER INFORMATION\\n                                  (continued)\\n\\n(b) Reports on Form 8-K.\\n\\n         The  following  reports on Form 8-K were filed during the third quarter\\n         of 1998 and through the date of the filing of this report:\\n\\n(1)               Current Report on Form 8-K filed September  1,1998 relating to\\n                  the Company\\'s August 17 and August 18, 1998 press releases.  A\\n                  press release on August 17, 1998 announced the Company\\'s first\\n                  step in its restructuring  plan. A press release on August 18,\\n                  1998  announced the Company\\'s  appointment of John Hill to the\\n                  position of Vice President of the Ampad Division.\\n\\n(2)               Current  Report on Form 8-K filed October 15, 1998 relating to\\n                  the Company\\'s  September  30,  October 7, and October 14, 1998\\n                  press  releases.   A  press  release  on  September  30,  1998\\n                  announced  that  the  Company\\'s   lending  group  amended  the\\n                  original lending agreement. A press release on October 7, 1998\\n                  announced an update of the Company\\'s  restructuring  plans.  A\\n                  press release on October 14, 1998 announced the resignation of\\n                  Timothy Needham, President and Chief Operating Officer.\\n\\n(3)               Current  Report on Form 8-K filed October 26, 1998 relating to\\n                  the Company\\'s  October 15 and October 16, 1998 press releases.\\n                  A press  release on October 15, 1998  announced  the Company\\'s\\n                  third  quarter and  year-to-date  results.  A press release on\\n                  October 16, 1998 announced the Company\\'s  appointments of John\\n                  H.  Rodgers to Senior  Vice  President,  General  Counsel  and\\n                  Secretary,  Mark  S.  Lipscomb  to  Vice  President  Corporate\\n                  Communications,  Patrick D. \"Dan\" Lane to Treasurer, Robert D.\\n                  Dunn to Vice  President,  Corporate  Development and Planning,\\n                  and Deborah A. Garrett to Vice President, Human Resources.\\n\\n\\n                                   SIGNATURES\\n\\nPursuant to the  requirements of the Securities  Exchange Act of 1934,  American\\nPad & Paper  Company has duly  caused  this report to be signed on November  13,\\n1998 on their behalf by the undersigned thereunto duly authorized.\\n\\n\\n<TABLE>\\n\\n<S>                                    <C>\\n\\n/s/ James W. Swent, III                            /s/ David N. Pilotte\\n- ----------------------------            ----------------------------------------\\nJames W. Swent, III                                    David N. Pilotte\\nChief Executive Officer and             Vice President and Corporate Controller\\nChief Financial Officer                        Principal Accounting Officer\\nPrincipal Financial Officer\\n</TABLE>\\n\\n\\n                                       22\\n<PAGE>\\n                                INDEX TO EXHIBITS\\n\\n<TABLE>\\n<CAPTION>\\n\\nEXHIBT NO     DESCRIPTION OF EXHIBIT\\n- ----------    -----------------------------------------------------------------\\n<C> ......    <S>\\n     4.21     Seventh Amendment to the Credit  Agreement,  dated as of September\\n              30, 1998 among the Company, WR Acquisition, Inc., AP & P Delaware,\\n              various Lending Institutions, Bank of Tokyo-Mitsubishi Trust\\n              Company, Bank One, Texas, N.A., The Bank of Nova Scotia and the\\n              First National Bank of Boston, as Co-Agents and Bankers Trust\\n              Company, as Agent.\\n\\n     27.03    Financial Data Schedule\\n\\n    99.017    Press release on November 10, 1998 announced that the Company will\\n              close its plant in Kosciusko, Mississippi.\\n</TABLE>\\n\\n                                       23\\n<PAGE>\\n\\n</TEXT>\\n</DOCUMENT>\\n<DOCUMENT>\\n<TYPE>EX-4.21\\n<SEQUENCE>2\\n<DESCRIPTION>EX-4.21 SEVENTH AMENDMENT TO BANK CREDIT AGREEMENT\\n<TEXT>\\n\\n                                                                 Exhibit 4.21\\n                               SEVENTH AMENDMENT\\n\\nSEVENTH  AMENDMENT  (this  \"Amendment\"),  dated as of September 30, 1998,  among\\nAmerican  Pad  &  Paper  Company   (\"Holdings\"),   WR  Acquisition,   Inc.  (\"WR\\nAcquisition\"),  American Pad & Paper Company of Delaware, Inc. (the \"Borrower\"),\\nthe lending institutions party to the Credit Agreement referred to below (each a\\n\"Bank\" and, collectively,  the \"Banks\"), Bank of Tokyo-Mitsubishi Trust Company,\\nBank One Texas,  N.A.,  The Bank of Nova Scotia and The First  National  Bank of\\nBoston, as Co-Agents (the \"Co-Agents\"), and Bankers Trust Company, as Agent (the\\n\"Agent\").  All  capitalized  terms used herein and not otherwise  defined herein\\nshall have the respective meanings provided such terms in the Credit Agreement.\\n\\n                              W I T N E S S E T H:\\n\\n\\nWHEREAS,  Holdings, WR Acquisition,  the Borrower,  the Banks, the Co-Agents and\\nthe Agent are party to a Credit Agreement, dated as of July 8, 1996 (as amended,\\nmodified and  supplemented  prior to the date hereof,  the \"Credit  Agreement\");\\nWHEREAS,  Holdings, WR Acquisition,  the Borrower,  the Banks, the Co-Agents and\\nthe Agent are party to a number of  amendments,  modifications  and  waivers  in\\nconnection with the Credit  Agreement,  including  without  limitation the Third\\nAmendment,  dated as of February 6, 1998 (the \"Third  Amendment\");  and WHEREAS,\\nthe Borrower  has  requested  that the Banks  provide the  amendments,  waivers,\\nconsents and agreements provided for herein and the Banks have agreed to provide\\nsuch  amendments,  waivers,  consents and agreements on the terms and conditions\\nset forth herein;\\n\\nNOW, THEREFORE, it is agreed:\\nA.       Amendments\\n\\n1.  Section  3.03(b) of the Credit  Agreement  is hereby  amended to read in its\\nentirety as follows:\\n\\n(b) In addition to any other mandatory  commitment  reductions  pursuant to this\\nSection  3.03 (but subject to the last  sentence of each of Section  3.03(c) and\\nSection  3.03(g)),  the Total  Revolving  Loan  Commitment  shall be permanently\\nreduced on the dates set forth  below by the  amounts  set forth  opposite  such\\ndates below:\\n\\n     Date                         Amount\\n     December 31, 1998            $25,000,000\\n     December 31, 1999            $25,000,000\\n     July 8, 2000                 $50,000,000\\n\\n\\n                                       24\\n<PAGE>\\n\\n                                                                 Exhibit 4.21\\n\\n2.  Section  3.03(c) of the Credit  Agreement  is hereby  amended to read in its\\nentirety as follows:\\n\\n\"(c) In addition to any other mandatory  commitment  reductions pursuant to this\\nSection 3.03, on the third  Business Day after each date on or after the Initial\\nBorrowing  Date on  which  Holdings  or any of its  Subsidiaries  receives  Cash\\nProceeds from any Asset Sale (or, in the case of an Asset Sale in which payments\\nto Holdings or any of its Subsidiaries originate from outside the United States,\\nwithin five Business Days after the date of receipt of such Cash Proceeds),  the\\nTotal Revolving Loan Commitment shall be permanently  reduced by an amount equal\\nto 100% of the Net Cash Proceeds from such Asset Sale. Each mandatory  reduction\\npursuant to this Section  3.03(c)  shall be applied to reduce  future  scheduled\\nreductions pursuant to Section 3.03(b) as follows:  (i) first, to reduce in full\\nthe scheduled  reduction on July 8, 2000,  and (ii) second,  in inverse order of\\nmaturity.\"\\n\\n3. Section  3.03(d) of the Credit  Agreement  is hereby  amended by deleting the\\nfirst  parenthetical  phrase appearing  therein and by inserting in lieu thereof\\nthe following new parenthetical phrase:\\n\\n\"(other than  Indebtedness  permitted to be incurred pursuant to Section 8.04 as\\nin effect on the Effective Date, except for Indebtedness  incurred under Section\\n8.04(p) the net cash  proceeds of which will be required to be applied to reduce\\nthe Total Revolving Loan Commitment pursuant to this Section 3.03(d))\".\\n\\n4. Section  3.03(e) of the Credit  Agreement  is hereby  amended by deleting the\\nreference to \"50%\" contained therein and inserting \"100%\" in lieu thereof.\\n\\n5.  Section  3.03 of the  Credit  Agreement  is hereby  further  amended  by (a)\\nredesignating clauses (g) and (h) thereof as clauses (h) and (i),  respectively,\\nand (b) inserting therein immediately following clause (f) thereof the following\\nnew clause (g):\\n\\n(g) In addition to any other mandatory  commitment  reductions  pursuant to this\\nSection 3.03, on the 90th day following each fiscal year of Holdings (commencing\\nwith the  fiscal  year  ended  December  31,  1999),  the Total  Revolving  Loan\\nCommitment  shall be  permanently  reduced by an amount  equal to 100% of Excess\\nCash Flow for such  fiscal  year.  Each  mandatory  reduction  pursuant  to this\\nSection 3.03(g) shall be applied to reduce future scheduled  reductions pursuant\\nto Section 3.03(b) in inverse order of maturity.\\n\\n6.  Section  8.02(d) of the Credit  Agreement  is hereby  amended to read in its\\nentirety as follows:\\n\\n(d) the Borrower and its  Subsidiaries  may sell assets,  provided  that (x) the\\naggregate  sale proceeds from all assets  subject to such sales pursuant to this\\nclause (d) shall not exceed $10,000,000 in any fiscal year of the Borrower,  (y)\\neach  such  asset  sale is for at least  85% cash and at fair  market  value (as\\ndetermined  in good  faith  by the  Borrower)  and (z)  the  Net  Cash  Proceeds\\ntherefrom are applied to reduce the Total  Revolving Loan Commitment as provided\\nin Section 3.03(c);.\\n\\n\\n\\n\\n                                       25\\n<PAGE>\\n\\n                                                                 Exhibit 4.21\\n\\n7.  Section  8.02(e) of the Credit  Agreement  is hereby  amended to read in its\\nentirety as follows:\\n\\n\"(e) the Borrower and its Subsidiaries may sell other assets, provided, that the\\naggregate  sale proceeds  from all such asset sales  pursuant to this clause (e)\\nare  reinvested  within one year  following  such sale in assets  which,  in the\\nreasonable  judgment of the Borrower,  are useful to the Borrower\\'s business and\\ndo not exceed $250,000 in any fiscal year of the Borrower;\".\\n\\n8.  Section  8.02(q) of the Credit  Agreement  is hereby  amended to read in its\\nentirety as follows:\\n\\n(q) so long as no  Default  or Event of  Default  then  exists  or would  result\\ntherefrom, the Borrower and its Wholly-Owned  Subsidiaries may acquire assets or\\nthe capital stock of any Person (any such  acquisition  permitted by this clause\\n(q), a (Permitted Acquisition),  provided,  that(i)no such Permitted Acquisition\\nshall be consummated  without the prior written  consent of the Required  Banks,\\n(ii) such  Person  (or the  assets so  acquired)was,  immediately  prior to such\\nacquisition,  engaged(or used) primarily in the business  permitted  pursuant to\\nSection  8.01(a),(iii)if  such acquisition is structured as a stock acquisition,\\nthen  either(A)the  Person so acquired becomes a Wholly-Owned  Subsidiary of the\\nBorrower  or  (B)such  Person  is  merged  with  and  into  the  Borrower  or  a\\nWholly-Owned  Subsidiary of the  Borrower(with the Borrower or such Wholly-Owned\\nSubsidiary being the surviving corporation of such merger), and in any case, all\\nof the  provisions  of Section 8.15 have been  complied  with in respect of such\\nPerson and (iv) any Liens or  Indebtedness  assumed or issued in connection with\\nsuch acquisition are otherwise permitted under Section 8.03 or 8.04, as the case\\nmay be.\\n\\n9.  Section  8.02(u) of the Credit  Agreement  is hereby  amended to read in its\\nentirety as follows:\\n\\n\"(u) the Permitted Sale-Leaseback Transactions shall be permitted so long as (i)\\nthe Net Cash Proceeds  therefrom are applied to reduce the Total  Revolving Loan\\nCommitment as provided in Section 3.03(c) and (ii) the lease obligations created\\nthereby are otherwise permitted under this Agreement;\".\\n\\n10.  Section  8.02 of the  Credit  Agreement  is hereby  further  amended by (a)\\ndeleting the word \"and\" appearing at the end of clause (x) thereof, (b) deleting\\nthe  period at the end of  clause  (y)  thereof  and  inserting  \"; and\" in lieu\\nthereof, and (c) inserting at the end thereof the following new clause (z):\\n\\n\"(z) the Borrower  and its  Subsidiaries  may sell the assets  listed on Annex X\\nhereto,  in each case  provided that (x) each such sale is for at least 85% cash\\nand at fair market value (as  determined  in good faith by the Borrower) and (y)\\nthe Net Cash Proceeds  therefrom are applied to reduce the Total  Revolving Loan\\nCommitment as provided in Section 3.03(c).\"\\n\\n\\n\\n\\n                                       26\\n<PAGE>\\n\\n                                                                 Exhibit 4.21\\n\\n11. Section 8.04(e) of the Credit Agreement is hereby amended by deleting clause\\n(ii) (B) contained  therein in its entirety and  inserting the following  clause\\n(ii) (B) in lieu thereof:\\n\\n\"(B)  during  any  fiscal  year of the  Borrower  thereafter  shall  not  exceed\\n$15,000,000;\".\\n\\n12.  Section  8.04(o) of the Credit  Agreement is hereby  amended to read in its\\nentirety as follows:\\n\\n(o) Indebtedness of Holdings  incurred under Permitted  Holdings PIK Securities,\\nprovided that (i) such PermittedHoldings PIK Securities are issued in connection\\nwith and  asconsideration  for a Permitted  Acquisition  and (ii) the  aggregate\\noutstanding  principal amount of Permitted Holdings PIK Securities  constituting\\nIndebtedness, when added to the liquidation preference of Permitted Holdings PIK\\nSecurities  constituting preferred stock, shall not exceed $10,000,000 (plus the\\namount of interest or accrued  dividends,  as the case may be, on such Permitted\\nHoldings PIK Securities  paid in kind or through  accretion);  and\". 13. Section\\n8.06(f) of the Credit Agreement is hereby amended by adding the following phrase\\nat the end thereof:\\n\\n\",  provided,  that no loan  may be made  pursuant  to this  clause  (ii)  after\\nSeptember 15, 1998\".\\n\\n14.  Section  8.06(i) of the Credit  Agreement is hereby amended by deleting the\\nreference to  \"$2,500,000\"  contained  therein and inserting  \"$500,000\" in lieu\\nthereof.\\n\\n15.  Section  8.06(u) of the Credit  Agreement is hereby amended by deleting the\\nreference to \"$7,500,000\"  contained  therein and by inserting in lieu thereof a\\nreference to \"$250,000\".\\n\\n16.  Section  8.07(ii) of the Credit  Agreement is hereby amended to read in its\\nentirety as follows:\\n\\n\"(ii) Intentionally Omitted;\".\\n\\n17. Section  8.07(iii) of the Credit  Agreement is hereby amended to read in its\\nentirety as follows:\\n\\n\"(iii) Intentionally Omitted;\".\\n\\n\\n                                       27\\n<PAGE>\\n\\n                                                                  Exhibit 4.21\\n\\n18.  Section  8.07(vi) of the Credit  Agreement is hereby amended to read in its\\nentirety as follows:\\n\\n\"(vi) Intentionally Omitted; and\".\\n\\n19.  Notwithstanding  anything to the contrary  contained in Section 8.08 of the\\nCredit  Agreement,  neither  Holdings nor any of its  Subsidiaries  may make any\\npayments pursuant to clause (iii) or (viii) of such Section,  provided that such\\namounts  may  accrue  and may be  payable  when the  Credit  Agreement  has been\\nterminated  and all  Obligations  have  been  paid in  full  or  otherwise  when\\npermitted to be paid by the Required Banks.\\n\\n20. Section 8.09(a) of the Credit Agreement is hereby amended by deleting clause\\n(y) contained therein in its entirety and inserting the following new clause (y)\\nin lieu thereof:\\n\\n\"(y) the Borrower and its Subsidiaries may make Capital  Expenditures (i) during\\nthe  fiscal  quarter  ended  September  30,  1998,  in an  amount  not to exceed\\n$3,000,000,  (ii) during the two fiscal  quarter period ended December 31, 1998,\\nin an amount not to exceed  $8,500,000  (and so long as the aggregate  amount of\\nCapital  Expenditures  made by the Borrower and its  Subsidiaries in fiscal year\\n1998 does not exceed  $15,000,000) and (iii) during each fiscal year thereafter,\\nfor the period  from the first day of such fiscal year to the end of each fiscal\\nquarter  occurring in such fiscal year set forth below (on a cumulative  basis),\\nin an amount not to exceed the amount set forth  opposite  such  fiscal  quarter\\nbelow:\\n\\nFiscal Year        Fiscal Quarter Ending               Amount\\n1999               March 31, 1999                      $ 5,500,000\\n                   June 30, 1999                       $ 9,500,000\\n                   September 30, 1999                  $13,500,000\\n                   December 31, 1999                   $15,000,000\\n2000               March 31, 2000                      $ 3,750,000\\n                   June 30, 2000                       $ 7,500,000\\n                   September 30, 2000                  $11,250,000\\n                   December 31, 2000                   $15,000,000\\n2001               March 31, 2001                      $ 3,750,000\\n                   June 30, 2001                       $ 7,500,000\\n\\n\\n                                       28\\n<PAGE>\\n\\n                                                                 Exhibit 4.21\\n\\n21.  Section  8.09(b) of the Credit  Agreement is hereby  amended to read in its\\nentirety as follows:\\n\\n\"(b) Intentionally Omitted.\"\\n\\n22.  Section  8.09(c) of the Credit  Agreement is hereby  amended to read in its\\nentirety as follows:\\n\\n\"(c) Intentionally Omitted.\"\\n\\n23. Section 8.09(f) of the Credit Agreement is hereby deleted in its entirety.\\n\\n24.  Section  8.10 of the  Credit  Agreement  is hereby  amended  to read in its\\nentirety as follows:\\n\\n\"8.10 Minimum Consolidated EBITDA. (a) The Borrower will not permit Consolidated\\nEBITDA for any Test Period ending on the last day of a fiscal  quarter set forth\\nbelow to be less than the amount set forth opposite such fiscal quarter below:\\n\\nFiscal Quarter Ending ..................................   Minimum Consolidated\\n                                     EBITDA\\n  September 30, 1998 .........................................   $ 5,500,000\\n  December 31, 1998 ..........................................   $18,825,000\\n    March 31, 1999 ...........................................   $24,400,000\\n     June 30, 1999 ...........................................   $35,200,000\\n  September 30, 1999 .........................................   $44,800,000\\n  December 31, 1999 ..........................................   $52,600,000\\n    March 31, 2000 ...........................................   $53,500,000\\n    June 30, 2000 ............................................   $55,800,000\\n  September 30, 2000 .........................................   $61,300,000\\n  December 30, 2000 ..........................................   $72,400,000\\n    March 31, 2001 ...........................................   $73,900,000\\n    June 30, 2001 ............................................   $76,700,000\"\\n\\n\\n                                       29\\n<PAGE>\\n\\n                                                                  Exhibit 4.21\\n\\n(b) The  Borrower  will not permit  Consolidated  EBITDA for the period from and\\nincluding  July  1,  1998 to and  including  February  28,  1999  (taken  as one\\naccounting period) to be less than $22,100,000.\\n\\n25.  Section  8.11 of the  Credit  Agreement  is hereby  amended  to read in its\\nentirety as follows:\\n\\n\"8.11  Interest  Coverage  Ratio.  The  Borrower  will not permit  the  Interest\\nCoverage  Ratio for any Test Period  ending on the last day of a fiscal  quarter\\nset forth below to be less than the ratio set forth opposite such fiscal quarter\\nbelow:\\n\\nFiscal Quarter Ending ........................     Interest Coverage Ratio\\n September 30, 1998 ..........................           0.45:1.00\\n  December 31, 1998 ..........................           0.85:1.00\\n   March 31, 1999 ............................           0.75:1.00\\n    June 30, 1999 ............................           0.80:1.00\\n September 30, 1999 ..........................           1.00:1.00\\n  December 31, 1999 ..........................           1.20:1.00\\n   March 31, 2000 ............................           1.25:1.00\\n    June 30, 2000 ............................           1.25:1.00\\n September 30, 2000 ..........................           1.40:1.00\\n  December 30, 2000 ..........................           1.70:1.00\\n   March 31, 2001 ............................           1.80:1.00\\n    June 30, 2001 ............................           1.90:1.00\"\\n\\n\\n26. Section 8.12 of the Credit  Agreement (as amended) is hereby amended to read\\nin its entirety as follows:\\n\\n\"8.12  Leverage  Ratio.  The Borrower will not permit the Leverage  Ratio at any\\ntime  during a period  set  forth  below to be more  than the  ratio  set  forth\\nopposite such period below:\\n\\n\\n                                       30\\n<PAGE>\\n\\n                                                                 Exhibit 4.21\\n\\n                    Period ................................       Leverage Ratio\\nJune 30, 1999 through September 29, 1999 ..................       11.35:1.00\\nSeptember 30, 1999 through December 30, 1999 ..............       9.00:1.00\\nDecember 31, 1999 through March 30, 2000 ..................       6.90:1.00\\nMarch 31, 2000 through June 29, 2000 ......................       6.75:1.00\\nJune 30, 2000 through September 29, 2000 ..................       6.50:1.00\\nSeptember 30, 2000 through December 30, 2000 ..............       5.90:1.00\\nDecember 31, 2000 through March 30, 2001 ..................       4.95:1.00\\nMarch 31, 2001 through June 29, 2001 ......................       4.30:1.00\\nThereafter ................................................       4.15:1.00\"\\n\\n\\n27.  Section  8.13(i) of the Credit  Agreement is hereby  amended to read in its\\nentirety as follows:\\n\\n\"(i) make (or give any notice in respect of) any  voluntary or optional  payment\\nor prepayment on or redemption or acquisition  for value of (including,  without\\nlimitation,  by way of depositing  with the trustee with respect  thereto or any\\nother Person money or securities  before due for the purpose of paying when due)\\nany Senior Subordinated Note or any Permitted Holdings PIK Security.\"\\n\\n28. Section 8 of the Credit  Agreement is hereby amended by inserting at the end\\nthereof the following new Section 8.16:\\n\\n\"8.16 Quick Ratio.  The Borrower  will not permit the Quick Ratio as of any date\\nset forth below to be more than the ratio set forth opposite such date below:\\n\\n\\n                                       31\\n<PAGE>\\n\\n                                                                  Exhibit 4.21\\n\\n                 Date .................................              Quick Ratio\\nSeptember 30, 1998 ....................................              1.40:1.00\\nDecember 31, 1998 .....................................              1.25:1.00\\nMarch 31, 1999 ........................................              1.45:1.00\\nJune 30, 1999 .........................................              1.35:1.00\\nSeptember 30, 1999 ....................................              1.30:1.00\\nDecember 31, 1999 .....................................              1.00:1.00\\nMarch 31, 2000 ........................................              1.20:1.00\\nJune 30, 2000 .........................................              1.20:1.00\\nSeptember 30, 2000 ....................................              1.20:1.00\\nDecember 31, 2000 .....................................              1.20:1.00\\nMarch 31, 2001 ........................................              1.20:1.00\\nJune 30, 2001 .........................................              1.20:1.00\"\\n\\n\\n29. The definitions of \"Applicable Base Rate Margin\", \"Applicable Commitment Fee\\nPercentage\",  \"Applicable  Eurodollar Margin\" and \"Interest  Reduction Discount\"\\ncontained in Section 10 of the Credit  Agreement  are hereby  amended to read in\\ntheir entirety as follows:\\n\\n\"Applicable  Base Rate Margin\" shall mean a percentage per annum equal to 3.00%,\\nless the then applicable Interest Reduction Discount, if any.\\n\\n\"Applicable  Commitment Fee Percentage\"  shall mean a percentage per annum equal\\nto .50%,  provided,  that from and after any  Start  Date to and  including  the\\ncorresponding  End Date, the Applicable  Commitment Fee Percentage  shall be the\\nrespective  percentage  per annum set forth in clause (A), (B), (C) or (D) below\\nif,  but  only if,  as of the Test  Date  for  such  Start  Date the  applicable\\nconditions  set forth in clause (A), (B), (C) or (D) below,  as the case may be,\\nare met:\\n\\n(A) .45% if, but only if, as of the Test Date for such  Start Date the  Leverage\\nRatio for the Test Period ended on such Test Date shall be less than 3.5:1.0 and\\nnone of the  conditions set forth in clause (B), (C) or (D) below are satisfied;\\n\\n\\n                                       32\\n<PAGE>\\n\\n                                                                 Exhibit 4.21\\n\\n(B) .40% if, but only if, as of the Test Date for such  Start Date the  Leverage\\nRatio for the Test Period ended on such Test Date shall be less than 3.0:1.0 and\\nneither of the conditions set forth in clause (C) or (D) below,  as the case may\\nbe, are satisfied;\\n\\n(C) .35% if, but only if, as of the Test Date for such  Start Date the  Leverage\\nRatio for the Test Period ended on such Test Date shall be less than 2.5:1.0 and\\nthe condition set forth in clause (D) below is not met; or\\n\\n(D) .30% if, but only if, as of the Test Date for such  Start Date the  Leverage\\nRatio for the Test Period ended on such Test Date shall be less than 2.0:1.0.\\n\\nNotwithstanding anything to the contrary contained above in this definition, the\\nApplicable Commitment Fee Percentage shall be .50% at all times (i) prior to the\\ndelivery of the June 30, 1999 financial  statements pursuant to Section 7.01(b),\\n(ii) when the  Leverage  Ratio  shall be more than  3.50:1.00  and (iii) when an\\nEvent of Default shall exist.\\n\\n\"Applicable Eurodollar Margin\" shall mean a percentage per annum equal to 4.00%,\\nless the then applicable Interest Reduction Discount, if any.\\n\\n\"Interest  Reduction Discount\" shall mean zero, provided that from and after the\\nfirst day of any Margin Reduction Period (the \"Start Date\") to and including the\\nlast  day of such  Margin  Reduction  Period  (the  \"End  Date\"),  the  Interest\\nReduction  Discount  shall be the  respective  percentage per annum set forth in\\nclause (A), (B), (C), (D), (E), (F) or (G) below if, but only if, as of the last\\nday of the  most  recent  fiscal  quarter  or year,  as the  case may be,  ended\\nimmediately prior to such Start Day (the \"Test Date\"), the applicable conditions\\nset forth in clause (A), (B),  (C), (D), (E), (F) or (G) below,  as the case may\\nbe, are met:\\n\\n(A) .50% if, but only if, as of the Test Date for such Start Date,  the Leverage\\nRatio for the Test Period  ended on such Test Date shall be less than  8.00:1.00\\nand none of the  conditions  set forth in clause (B),  (C), (D), (E), (F) or (G)\\nbelow, as the case may be, are satisfied;\\n\\n(B) 1.00% if, but only if, as of the Test Date for such Start Date, the Leverage\\nRatio for the Test Period  ended on such Test Date shall be less than  7.00:1.00\\nand none of the  conditions set forth in clause (C), (D), (E), (F) or (G) below,\\nas the case may be, are satisfied;\\n\\n(C) 1.50% if,  but not only if, as of the Test  Date for such  Start  Date,  the\\nLeverage  Ratio for the Test  Period  ended on such Test Date shall be less than\\n6.50:1.00  and none of the  conditions  set forth in clause (D), (E), (F) or (G)\\nbelow, as the case may be, are satisfied;\\n\\n                                       33\\n<PAGE>\\n\\n                                                                 Exhibit 4.21\\n\\n(D) 1.75% if, but only if, as of the Test Date for such Start Date, the Leverage\\nRatio for the Test Period  ended on such Test Date shall be less than  6.00:1.00\\nand none of the  conditions  set forth in clause (E),  (F) or (G) below,  as the\\ncase may be, are satisfied;\\n\\n(E) 2.00% if, but only if, as of the Test Date for such Start Date, the Leverage\\nRatio for the Test Period  ended on such Test Date shall be less than  5.00:1.00\\nand none of the conditions set forth in clause (F) or (G) below, as the case may\\nbe, are satisfied;\\n\\n(F) 2.25% if, but only if, as of the Test Date for such Start Date, the Leverage\\nRatio for the Test Period  ended on such Test Date shall be less than  4.00:1.00\\nand the condition set forth in clause (G) below is not satisfied; or\\n\\n(G) 2.50% if, but only if, as of the Test Date for such Start Date, the Leverage\\nRatio for the Test Period ended on such Test Date shall be less than 3.50:1.00.\\n\\nNotwithstanding  anything  contained  above  in this  definition,  the  Interest\\nReduction  Discount  shall be zero at all times (i) prior to the delivery of the\\nJune 30, 1999 financial  statements  pursuant to Section 7.01(b),  (ii) when the\\nLeverage  Ratio shall be more than  8.00:1.00 and (iii) when an Event of Default\\nshall exist.\\n\\n30. The  definition  of  \"Consolidated  EBITDA\"  contained  in Section 10 of the\\nCredit Agreement is hereby amended to read in its entirety as follows:\\n\\n\"Consolidated EBITDA\" shall mean, for any period, Consolidated EBIT, adjusted by\\nadding thereto the amount of all depreciation  expense and amortization  expense\\nthat were deducted in determining  Consolidated  EBIT for such period,  it being\\nunderstood and agreed,  however,  that  Consolidated  EBITDA shall be determined\\nwithout  giving  effect  to any  Restructuring  Charges  otherwise  deducted  in\\ndetermining Consolidated EBITDA for such period.\\n\\n31. The definition of \"Cumulative  Income Amount\" contained in Section 10 of the\\nCredit Agreement is hereby deleted in its entirety.\\n\\n32.  The  definition  of \"Test  Period\"  contained  in  Section 10 of the Credit\\nAgreement is hereby amended to read in its entirety as follows:\\n\\n\"Test Period\" shall mean the four  consecutive  fiscal  quarters of the Borrower\\nthen last ended (taken as one period),  or, if shorter,  the period from July 1,\\n1998 to the last day of the fiscal quarter then last ended.\\n\\n33. The following  new  definitions  are hereby  inserted into Section 10 of the\\nCredit Agreement in appropriate alphabetical order:\\n\\n\\n                                       34\\n<PAGE>\\n\\n                                                                 Exhibit 4.21\\n\\n\"Consolidated Current Assets\" shall mean, at any time, the current assets (other\\nthan cash, Cash  Equivalents and deferred income taxes to the extent included in\\ncurrent  assets)  of the  Borrower  and  its  Subsidiaries  (including,  without\\nlimitation,  the interest in accounts  receivable  represented by the transferor\\ncertificate  held by the  Receivables  Entity)  at  such  time  determined  on a\\nconsolidated basis.\\n\\n\"Consolidated  Current  Liabilities\"  shall  mean,  at  any  time,  the  current\\nliabilities  of the Borrower and its  Subsidiaries  determined on a consolidated\\nbasis,  but  excluding  deferred  income  taxes and the  current  portion of and\\naccrued but unpaid  interest on any  Indebtedness  under this  Agreement and any\\nother long-term Indebtedness which would otherwise be included therein.\\n\\n\"Excess  Cash Flow\" shall mean,  for any period (i) the sum of (A)  Consolidated\\nNet  Income  for  such  period,  plus (B) the  amount  of all  non-cash  charges\\n(including,  without  limitation  or  duplication,  depreciation,  amortization,\\nnon-cash  interest expense and  Restructuring  Charges)  included in determining\\nConsolidated  Net Income  for such  period  plus (C) the  decrease,  if any,  in\\nWorking Capital from the first day to the last day of such period (except to the\\nextent that such  decrease  occurs as a result of an  increase  in the  Accounts\\nReceivable  Facility),  minus  (ii)  the sum  (without  duplication)  of (A) any\\nnon-cash  credits  (including  from sales of  assets)  included  in  determining\\nConsolidated  Net Income for such period,  (B) gains from sales of assets (other\\nthan  sales of  inventory  in the  ordinary  course  of  business)  included  in\\ndetermining   Consolidated   Net  Income  for  such  period,   (C)  all  Capital\\nExpenditures  (excluding  Capital  Expenditures made during such period that are\\nfinanced by Indebtedness,  including Capitalized Lease Obligations but excluding\\nLoans hereunder),  (D) the amount expended in respect of Permitted  Acquisitions\\nduring such period,  except to the extent constituting  Capital  Expenditures or\\nfinanced  with  Indebtedness,  (E) the aggregate  principal  amount of permanent\\nprincipal  payments of  Indebtedness  for borrowed money of the Borrower and its\\nSubsidiaries  (other  than (1)  repayments  of  Indebtedness  with  proceeds  of\\nissuance  of  other  Indebtedness  or  with  proceeds  Recovery  Events  and (2)\\nrepayments  of Loans or other  Obligations,  provided  that  repayments of Loans\\nshall be deducted in determining  Excess Cash Flow if such  repayments  were (x)\\nrequired as a result of a mandatory  commitment  reduction under Section 3.03(b)\\nor (y) made as a voluntary  prepayment with  internally  generated funds (but in\\nthe case of a voluntary  prepayment of Revolving Loans or Swingline Loans,  only\\nto the extent  accompanied by a voluntary  reduction to the Total Revolving Loan\\nCommitment))  during such period,  (F) non-cash charges added back in a previous\\nperiod  pursuant to clause (i)(B) above to the extent any such charge has become\\na cash item in the current period, (G) the increase,  if any, in Working Capital\\nfrom the  first  day to the last  day of such  period,  (H)  costs  incurred  by\\nHoldings  during such period and paid for with the proceeds of dividends paid by\\nthe  Borrower  pursuant  to  Section  8.07(iv)  to the extent  not  deducted  in\\ndetermining   Consolidated   Net  Income  for  such  period  and  (I)  any  cash\\ndisbursements made against noncurrent  liabilities (such as transition  reserves\\nand deferred taxes) to the extent not deducted in determining  Consolidated  Net\\nIncome for such period.\\n\\n                                       35\\n<PAGE>\\n\\n                                                                 Exhibit 4.21\\n\\n\"Restructuring  Charges\" shall mean restructuring  charges taken by Holdings and\\nits  Subsidiaries  relating to plant  rationalization  and  obsolete  inventory,\\nprovided that such  restructuring  charges shall only  constitute  Restructuring\\nCharges  hereunder  if taken on or after July 1, 1998 and on or before  December\\n31, 2000, and the aggregate amount of Restructuring Charges shall not exceed (i)\\nin the case of the plant  rationalization  program,  $13,300,000 and (ii) in the\\ncase of obsolete inventory, $2,900,000.\\n\\n\"Quick  Ratio\"  shall  mean,  at any  time,  the ratio of (i)  inventory  of the\\nBorrower  and its  Subsidiaries  at such time to (ii) the  accounts  payable and\\naccrued  expenses  (other than  expenses  accrued under  Sections  8.08(iii) and\\n(viii) of this Agreement) of the Borrower and its Subsidiaries at such time.\\n\\n\"Working  Capital\"  shall mean the excess of  Consolidated  Current  Assets (but\\nexcluding therefrom all cash and Cash Equivalents,  and deferred income taxes to\\nthe extent included in current assets) over Consolidated Current Liabilities.\\n\\n34. The Credit Agreement is hereby further amended by adding thereto a new Annex\\nX in the form of Annex X attached hereto.\\n\\nB. Consents, Waivers and Agreement\\n\\n1.  Section 1(b) of the Third  Amendment  is hereby  amended by (i) deleting the\\nreferences to \"January 31, 1999\" contained therein and inserting  \"September 30,\\n1998\" in lieu thereof and (ii) deleting the  references  to  \"Scheduled  1/31/99\\nReduction\"  contained  therein  and  inserting  \"Scheduled  September  30,  1998\\nReduction\" in lieu thereof.\\n\\n2. The Banks hereby waive  compliance  with Sections 8.10 and 8.11 of the Credit\\nAgreement  for the Test  Period  ended June 30,  1998.  The Banks  hereby  waive\\ncompliance  with  Section 8.12 of the Credit  Agreement  for the period from and\\nincluding July 1, 1998 to but excluding September 30, 1998.\\n\\n3. The Banks  hereby  agree that  Section  6.03(ii) of the Credit  Agreement  is\\ndeemed amended to exclude from the scope of such  representation and warrant any\\nconflict that exists between  Section 8.08 of the Credit  Agreement (as modified\\nby Section A(19) of this  Amendment)  and any  management  or similar  agreement\\nbetween  Holdings or any of its  Subsidiaries  and Bain Capital  and/or any Bain\\nAffiliate.\\n\\n4. In order to induce  the  Banks to enter  into this  Amendment,  the  Borrower\\nhereby agrees to pay to each Bank which  executes and delivers a counterpart  of\\nthis Amendment on or before 12:.00 noon (New York time) on September 30, 1998, a\\nfee equal to 1/4 of 1% of such  Bank\\'s  Revolving  Loan  Commitment  immediately\\nafter giving effect to this Amendment,  such fee to be earned and payable on the\\nAmendment Effective Date. \\n\\n                                       36\\n<PAGE>\\n                                                                 Exhibit 4.21\\n\\nC. Miscellaneous Provisions\\n\\n1. In order to induce the Banks to enter into this Amendment,  each of Holdings,\\nWR  Acquisition  and the Borrower  hereby  represents  and warrants  that (i) no\\nDefault  or Event of  Default  exists  as of the  Amendment  Effective  Date (as\\ndefined  below) after giving effect to this  Amendment and (ii) on the Amendment\\nEffective Date, after giving effect to this Amendment,  all  representations and\\nwarranties  contained in the Credit  Agreement and in the other Credit Documents\\nare true and correct in all material respects.\\n\\n2. This Amendment shall become  effective on the date (the \"Amendment  Effective\\nDate\") when the Required Banks,  Holdings, WR Acquisition and the Borrower shall\\nhave signed a counterpart  hereof  (whether the same or different  counterparts)\\nand shall have delivered  (including by way of facsimile  transmission) the same\\nto the Agent at its Notice Office.\\n\\n3.  This   Amendment  is  limited  as  specified  and  shall  not  constitute  a\\nmodification,  acceptance  or  waiver  of any  other  provision  of  the  Credit\\nAgreement or any other Credit Document.\\n\\n4. This  Amendment  may be  executed  in any number of  counterparts  and by the\\ndifferent parties hereto on separate  counterparts,  each of which  counterparts\\nwhen  executed  and  delivered  shall be an  original,  but all of  which  shall\\ntogether constitute one and the same instrument.  A complete set of counterparts\\nshall be lodged with the Borrower and the Agent.\\n\\n5. All  references in the Credit  Agreement and each of the Credit  Documents to\\nthe Credit  Agreement shall be deemed to be references to such Credit  Agreement\\nafter giving effect to this Amendment.\\n\\n6. THIS AMENDMENT AND THE RIGHTS AND OBLIGATIONS OF THE PARTIES  HEREUNDER SHALL\\nBE GOVERNED BY AND  CONSTRUED  IN  ACCORDANCE  WITH THE LAWS OF THE STATE OF NEW\\nYORK.\\n                                                                 * * *\\n\\n                                       37\\n<PAGE>\\n\\n                                                                Exhibit 4.21\\n\\n\\nIN WITNESS WHEREOF,  each of the parties hereto has caused a counterpart of this\\nAmendment to be duly executed and delivered as of the date hereof.\\n\\n\\n\\n\\nAMERICAN PAD & PAPER COMPANY\\n\\n\\n\\nBy:\\nName:\\nTitle:\\n\\n\\nWR ACQUISITION, INC.\\n\\n\\nBy:\\nName:\\nTitle:\\n\\n\\nAMERICAN PAD & PAPER COMPANY OF DELAWARE, INC.\\n\\n\\nBy:\\nName:\\nTitle:\\n\\n\\nBANKERS TRUST COMPANY, individually and as Agent\\n\\n\\nBy:\\nName:\\nTitle:\\n\\n                                       38\\n<PAGE>\\n\\n                                                                Exhibit 4.21\\n\\nBANKBOSTON, N.A.\\n\\n\\nBy:\\nName:\\nTitle:\\n\\n\\n\\nBANK LEUMI USA\\n\\n\\nBy:\\nName:\\nTitle:\\n\\n\\nTHE BANK OF NEW YORK\\n\\n\\nBy:\\nName:\\nTitle:\\n\\n\\n\\nTHE BANK OF NOVA SCOTIA\\n\\n\\nBy:\\nName:\\nTitle:\\n\\n\\n\\nBANK OF SCOTLAND\\n\\n\\nBy:\\nName:\\nTitle:\\n\\n                                       39\\n<PAGE>\\n\\n                                                                   Exhibit 4.21\\n\\nBANK OF TOKYO-MITSUBISHI TRUST COMPANY\\n\\n\\nBy:\\nName:\\nTitle:\\n\\n\\nBANK ONE TEXAS\\n\\n\\nBy:\\nName:\\nTitle:\\n\\n\\nBANK POLSKA KASA OPIEKI, S.A.\\n\\n\\nBy:\\nName:\\nTitle:\\n\\n\\nBEAR, STEARNS & CO. INC.\\n\\n\\nBy:\\nName:\\nTitle:\\n\\n\\nCHASE SECURITIES, INC., as agent for CHASE MANHATTAN BANK\\n\\n\\nBy:\\nName:\\nTitle:\\n\\n                                       40\\n<PAGE>\\n\\n                                                                  Exhibit 4.21\\n\\nCHRISTIANIA BANK OG KREDITKASSE, NEW YORK BRANCH\\n\\n\\nBy:\\nName:\\nTitle:\\n\\n\\nBy:\\nName:\\nTitle:\\n\\n\\nCIBC INC.\\n\\n\\n\\nBy:\\nName:\\nTitle:\\n\\n\\n\\nERSTE BANK DER OESTERREICHISCHEN SPARKASSEN AG\\n\\n\\nBy:\\nName:\\nTitle:\\n\\n\\nFIRST UNION CORP.\\n\\n\\nBy:\\nName:\\nTitle:\\n\\n\\n\\nGUARANTY FEDERAL BANK, F.S.B.\\n\\n\\n\\nBy:\\nName:\\nTitle:\\n\\n                                       41\\n<PAGE>\\n\\n                                                                  Exhibit 4.21\\n\\nNATIONS BANK, N.A.\\n\\n\\nBy:\\nName:\\nTitle:\\n\\n\\nPAM CAPITAL FUNDING,  L.P., by HIGHLAND CAPITAL MANAGEMENT,  L.P., as collateral\\nmanager\\n\\n\\n\\nBy:\\nName:\\nTitle:\\n\\n\\n\\nTHE LONG-TERM CREDIT BANK OF JAPAN, LIMITED, NEW YORK BRANCH\\n\\n\\nBy:\\nName:\\nTitle:\\n\\n\\n\\nSANWA BUSINESS CREDIT CORPORATION\\n\\n\\nBy:\\nName:\\nTitle:\\n\\n\\nSOCIETE GENERALE\\n\\n\\nBy:\\nName:\\nTitle:\\n\\n\\n                                       42\\n<PAGE>\\n\\n</TEXT>\\n</DOCUMENT>\\n<DOCUMENT>\\n<TYPE>EX-27.003\\n<SEQUENCE>3\\n<DESCRIPTION>FDS --27.003\\n<TEXT>\\n\\n<TABLE> <S> <C>\\n                                               \\n<ARTICLE>                                           5\\n<LEGEND>                                       \\n     This schedule  contains summary  financial  information  extracted from the\\nhistorical  financial statements of American Pad & Paper Company\\'s September 30,\\n1998 10-Q and is  qualified  in its  entirety  by  reference  to such  financial\\nstatements. </LEGEND>\\n<CIK>0000005588\\n<NAME>American Pad & Paper Company\\n<MULTIPLIER>                                                 1,000\\n                                                     \\n<S>                                                   <C>\\n<PERIOD-TYPE>                                       9-mos\\n<FISCAL-YEAR-END>                                   Dec-31-1998\\n<PERIOD-START>                                      Jan-01-1998\\n<PERIOD-END>                                        Sep-30-1998\\n<CASH>                                                           0\\n<SECURITIES>                                                     0\\n<RECEIVABLES>                                                    0\\n<ALLOWANCES>                                                     0\\n<INVENTORY>                                                      0\\n<CURRENT-ASSETS>                                                 0\\n<PP&E>                                                           0\\n<DEPRECIATION>                                                   0\\n<TOTAL-ASSETS>                                             558,281\\n<CURRENT-LIABILITIES>                                            0\\n<BONDS>                                                          0\\n<PREFERRED-MANDATORY>                                            0\\n<PREFERRED>                                                      0\\n<COMMON>                                                       277\\n<OTHER-SE>                                                  28,986\\n<TOTAL-LIABILITY-AND-EQUITY>                               558,281\\n<SALES>                                                          0\\n<TOTAL-REVENUES>                                           482,479\\n<CGS>                                                            0\\n<TOTAL-COSTS>                                                    0\\n<OTHER-EXPENSES>                                                 0\\n<LOSS-PROVISION>                                                 0\\n<INTEREST-EXPENSE>                                               0\\n<INCOME-PRETAX>                                                  0\\n<INCOME-TAX>                                               (16,907)\\n<INCOME-CONTINUING>                                        (71,416)\\n<DISCONTINUED>                                                   0\\n<EXTRAORDINARY>                                                  0\\n<CHANGES>                                                        0\\n<NET-INCOME>                                               (71,416)\\n<EPS-PRIMARY>                                                (2.58)\\n<EPS-DILUTED>                                                (2.58)\\n        \\n\\n \\n</TABLE>\\n</TEXT>\\n</DOCUMENT>\\n<DOCUMENT>\\n<TYPE>EX-99.017\\n<SEQUENCE>4\\n<DESCRIPTION>EX - 99.017 KOSCIUSKO PLANT CLOSING PRESS RELEASE\\n<TEXT>\\n\\n\\n                              CONTACT:Mark Lipscomb\\n                              Vice President, Corporate Communications\\n                              American Pad & Paper Co.\\n                              (972) 733-5415\\n\\nFor immediate Release\\n                              Theresa Schillero\\n                              Media: Leslie Feldman/Eileen King\\n                              (212) 850-5600\\n                              Ken Pieper\\n                              (972) 663-9390\\n                              Morgen-Walke Associates\\n\\n                  American Pad & Paper ANNOUNCES PLANT CLOSING\\n\\n         DALLAS,  Texas,  November  10, 1998,  -- American  Pad & Paper  Company\\n(NYSE:AGP)  (AP&P)  announced that its plant in Kosciusko,  Mississippi  will be\\nclosed as part of a previously  announced  restructuring plan, which is designed\\nto improve customer  service,  better balance  manufacturing  capacity to market\\ndemands and reduce overall manufacturing costs.\\n\\n         The Kosciusko plant is an AMPAD operation and will be transferring  its\\nproduction  capability to other  American Pad & Paper sites.  This plant,  which\\nemployees  approximately 175 people,  will continue operations at reduced levels\\nthrough  the end of May 1999.  Eligible  employees  affected  will be provided a\\nseverance  package,  and  the  Company  will be  working  with  the  Mississippi\\nEmployment Training Division to provide a career transition program.\\n\\n         Commenting on the plant closure,  James W. Swent III,  Chief  Executive\\nOfficer of American  Pad & Paper said,  \"I sincerely  regret that some  employee\\nreductions  are necessary,  but the future of our Company  depends on a strategy\\nthat  provides  greater  efficiency  and a return to  profitable  growth.  These\\nactions are  necessary  to improve both  service to our  customers,  and move us\\ncloser to our goal of being the lowest cost manufacturer in our industry.\"\\n\\n     American  Pad & Paper  Company is a leading  manufacturer  and  marketer of\\npaper-based  office  products  in  North  America.   Product  offerings  include\\nenvelopes,  writing pads, file folders, machine papers, greeting cards and other\\noffice products.  The key operating  divisions of the company are  Williamhouse,\\nAMPAD,  and Creative  Card which market  principally  under the  following  Name\\nBrands: AMPAD,  Century,  Embassy,  Gold Fibre, Huxley,  Karolton,  Kent, Peel &\\nSeel,  SCM,  Williamhouse  and World Fibre.  Company  revenues in 1997 were $687\\nmillion.\\n\\n         This release  contains  forward-looking  statements  relating to future\\nresults.  Actual  results may differ  significantly  as a result of factors over\\nwhich the Company has no control, including the strength of domestic and foreign\\neconomies,  slower than anticipated sales growth,  price and product competition\\nand changes in raw material costs. Additional information which could affect the\\nCompany\\'s financial results is included in the Company\\'s prospectus on file with\\nthe Securities and Exchange Commission.\\n\\n                                                                  ###\\n\\n\\n                                       44\\n<PAGE>\\n\\n</TEXT>\\n</DOCUMENT>\\n</SEC-DOCUMENT>\\n-----END PRIVACY-ENHANCED MESSAGE-----\\n'"
      ]
     },
     "execution_count": 582,
     "metadata": {},
     "output_type": "execute_result"
    }
   ],
   "source": [
    "sheet.loc[73,\"SECFNAME\"]"
   ]
  },
  {
   "cell_type": "code",
   "execution_count": null,
   "metadata": {},
   "outputs": [],
   "source": []
  }
 ],
 "metadata": {
  "kernelspec": {
   "display_name": "Python 3",
   "language": "python",
   "name": "python3"
  },
  "language_info": {
   "codemirror_mode": {
    "name": "ipython",
    "version": 3
   },
   "file_extension": ".py",
   "mimetype": "text/x-python",
   "name": "python",
   "nbconvert_exporter": "python",
   "pygments_lexer": "ipython3",
   "version": "3.7.0"
  }
 },
 "nbformat": 4,
 "nbformat_minor": 2
}
