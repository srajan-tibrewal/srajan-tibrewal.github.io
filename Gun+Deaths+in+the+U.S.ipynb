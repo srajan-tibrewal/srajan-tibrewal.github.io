{
 "cells": [
  {
   "cell_type": "code",
   "execution_count": 2,
   "metadata": {
    "collapsed": false
   },
   "outputs": [
    {
     "name": "stdout",
     "output_type": "stream",
     "text": [
      "[['', 'year', 'month', 'intent', 'police', 'sex', 'age', 'race', 'hispanic', 'place', 'education'], ['1', '2012', '01', 'Suicide', '0', 'M', '34', 'Asian/Pacific Islander', '100', 'Home', '4'], ['2', '2012', '01', 'Suicide', '0', 'F', '21', 'White', '100', 'Street', '3'], ['3', '2012', '01', 'Suicide', '0', 'M', '60', 'White', '100', 'Other specified', '4'], ['4', '2012', '02', 'Suicide', '0', 'M', '64', 'White', '100', 'Home', '4']]\n"
     ]
    }
   ],
   "source": [
    "import csv\n",
    "f = open(\"guns.csv\",'r')\n",
    "dataset = csv.reader(f)\n",
    "data = list(dataset)\n",
    "print(data[:5])"
   ]
  },
  {
   "cell_type": "code",
   "execution_count": 3,
   "metadata": {
    "collapsed": false
   },
   "outputs": [
    {
     "name": "stdout",
     "output_type": "stream",
     "text": [
      "['', 'year', 'month', 'intent', 'police', 'sex', 'age', 'race', 'hispanic', 'place', 'education']\n",
      "[['1', '2012', '01', 'Suicide', '0', 'M', '34', 'Asian/Pacific Islander', '100', 'Home', '4'], ['2', '2012', '01', 'Suicide', '0', 'F', '21', 'White', '100', 'Street', '3'], ['3', '2012', '01', 'Suicide', '0', 'M', '60', 'White', '100', 'Other specified', '4'], ['4', '2012', '02', 'Suicide', '0', 'M', '64', 'White', '100', 'Home', '4'], ['5', '2012', '02', 'Suicide', '0', 'M', '31', 'White', '100', 'Other specified', '2']]\n"
     ]
    }
   ],
   "source": [
    "headers = data[0]\n",
    "data = data[1:]\n",
    "print(headers)\n",
    "print(data[:5])"
   ]
  },
  {
   "cell_type": "code",
   "execution_count": 4,
   "metadata": {
    "collapsed": false
   },
   "outputs": [
    {
     "name": "stdout",
     "output_type": "stream",
     "text": [
      "{'2012': 33563, '2014': 33599, '2013': 33636}\n"
     ]
    }
   ],
   "source": [
    "years = [each[1] for each in data]\n",
    "year_counts = {}\n",
    "for each in years:\n",
    "    if each in year_counts:\n",
    "        year_counts[each] += 1\n",
    "    else:\n",
    "        year_counts[each] = 1\n",
    "print(year_counts)"
   ]
  },
  {
   "cell_type": "code",
   "execution_count": 15,
   "metadata": {
    "collapsed": false
   },
   "outputs": [
    {
     "name": "stdout",
     "output_type": "stream",
     "text": [
      "[datetime.datetime(2012, 1, 1, 0, 0), datetime.datetime(2012, 1, 1, 0, 0), datetime.datetime(2012, 1, 1, 0, 0), datetime.datetime(2012, 2, 1, 0, 0), datetime.datetime(2012, 2, 1, 0, 0)]\n",
      "{datetime.datetime(2012, 1, 1, 0, 0): 2758, datetime.datetime(2013, 8, 1, 0, 0): 2859, datetime.datetime(2014, 1, 1, 0, 0): 2651, datetime.datetime(2012, 2, 1, 0, 0): 2357, datetime.datetime(2012, 8, 1, 0, 0): 2954, datetime.datetime(2012, 4, 1, 0, 0): 2795, datetime.datetime(2014, 4, 1, 0, 0): 2862, datetime.datetime(2013, 4, 1, 0, 0): 2798, datetime.datetime(2014, 11, 1, 0, 0): 2756, datetime.datetime(2012, 3, 1, 0, 0): 2743, datetime.datetime(2012, 12, 1, 0, 0): 2791, datetime.datetime(2014, 3, 1, 0, 0): 2684, datetime.datetime(2014, 10, 1, 0, 0): 2865, datetime.datetime(2012, 9, 1, 0, 0): 2852, datetime.datetime(2014, 7, 1, 0, 0): 2884, datetime.datetime(2014, 2, 1, 0, 0): 2361, datetime.datetime(2013, 2, 1, 0, 0): 2375, datetime.datetime(2012, 5, 1, 0, 0): 2999, datetime.datetime(2014, 5, 1, 0, 0): 2864, datetime.datetime(2012, 11, 1, 0, 0): 2729, datetime.datetime(2012, 6, 1, 0, 0): 2826, datetime.datetime(2013, 7, 1, 0, 0): 3079, datetime.datetime(2013, 5, 1, 0, 0): 2806, datetime.datetime(2012, 7, 1, 0, 0): 3026, datetime.datetime(2013, 6, 1, 0, 0): 2920, datetime.datetime(2013, 10, 1, 0, 0): 2808, datetime.datetime(2014, 8, 1, 0, 0): 2970, datetime.datetime(2014, 9, 1, 0, 0): 2914, datetime.datetime(2014, 6, 1, 0, 0): 2931, datetime.datetime(2012, 10, 1, 0, 0): 2733, datetime.datetime(2013, 3, 1, 0, 0): 2862, datetime.datetime(2013, 11, 1, 0, 0): 2758, datetime.datetime(2014, 12, 1, 0, 0): 2857, datetime.datetime(2013, 12, 1, 0, 0): 2765, datetime.datetime(2013, 1, 1, 0, 0): 2864, datetime.datetime(2013, 9, 1, 0, 0): 2742}\n"
     ]
    }
   ],
   "source": [
    "import datetime\n",
    "dates = [datetime.datetime(year = int(each[1]), month = int(each[2]), day = 1) for each in data]\n",
    "print(dates[:5])    \n",
    "date_counts = {}\n",
    "for each in dates:\n",
    "    if each in date_counts:\n",
    "        date_counts[each] += 1\n",
    "    else:\n",
    "        date_counts[each] = 1\n",
    "print(date_counts)     "
   ]
  },
  {
   "cell_type": "code",
   "execution_count": 5,
   "metadata": {
    "collapsed": false
   },
   "outputs": [
    {
     "name": "stdout",
     "output_type": "stream",
     "text": [
      "{'F': 14449, 'M': 86349}\n"
     ]
    }
   ],
   "source": [
    "sex_column = [each[5] for each in data] \n",
    "\n",
    "sex_counts = {}\n",
    "for row in sex_column:\n",
    "    if row in sex_counts:\n",
    "        sex_counts[row] += 1\n",
    "    else:\n",
    "        sex_counts[row] = 1\n",
    "print(sex_counts)     "
   ]
  },
  {
   "cell_type": "code",
   "execution_count": 6,
   "metadata": {
    "collapsed": false
   },
   "outputs": [
    {
     "name": "stdout",
     "output_type": "stream",
     "text": [
      "{'Asian/Pacific Islander': 1326, 'White': 66237, 'Black': 23296, 'Hispanic': 9022, 'Native American/Native Alaskan': 917}\n"
     ]
    }
   ],
   "source": [
    "race_column = [each[7] for each in data] \n",
    "\n",
    "race_counts = {}\n",
    "for row in race_column:\n",
    "    if row in race_counts:\n",
    "        race_counts[row] += 1\n",
    "    else:\n",
    "        race_counts[row] = 1\n",
    "print(race_counts)     "
   ]
  },
  {
   "cell_type": "markdown",
   "metadata": {
    "collapsed": false
   },
   "source": [
    "## Gun death \n",
    "#Read the dataset in as a list using the csv module.\n",
    "#Open the file using the open() function.\n",
    "#Use the csv.reader() function to load the opened file.\n",
    "#Call list() on the result to get a list of all the data in the file.\n",
    "#Assign the result to the variable data.\n",
    "#Display the first 5 rows of data to verify everything.\n",
    "#Extract the first row of data, and assign it to the variable headers.\n",
    "#Remove the first row from data.\n",
    "#Display headers.\n",
    "#Display the first 5 rows of data to verify that you removed the header row properly.\n",
    "#Use a list comprehension to extract the year column from data.\n",
    "#Because the year column is the second column in the data, you'll need to get the element at index 1 in each row.\n",
    "#Assign the result to the variable years.\n",
    "#Create an empty dictionary called year_counts.\n",
    "#Loop through each element in years.\n",
    "#If the element isn't a key in year_counts, create it, and set the value to 1.\n",
    "#If the element is a key in year_counts, increment the value by one.\n",
    "#Display year_counts to see how many gun deaths occur in each year.\n",
    "#Use a list comprehension to create a datetime.datetime object for each row. Assign the result to dates.\n",
    "#The year column is in the second element in each row.\n",
    "#The month column is the third element in each row.\n",
    "#Make sure to convert year and month to integers using int().\n",
    "#Pass year, month, and day=1 into the datetime.datetime() function.\n",
    "#Display the first 5 rows in dates to verify everything worked.\n",
    "#Count up how many times each unique date occurs in dates. Assign the result to date_counts.\n",
    "#This follows a similar procedure to what we did in the last screen with year_counts.\n",
    "#Display date_counts.\n"
   ]
  },
  {
   "cell_type": "code",
   "execution_count": 7,
   "metadata": {
    "collapsed": false
   },
   "outputs": [
    {
     "name": "stdout",
     "output_type": "stream",
     "text": [
      "[['Id', 'Year', 'Id', 'Sex', 'Id', 'Hispanic Origin', 'Id', 'Id2', 'Geography', 'Total', 'Race Alone - White', 'Race Alone - Hispanic', 'Race Alone - Black or African American', 'Race Alone - American Indian and Alaska Native', 'Race Alone - Asian', 'Race Alone - Native Hawaiian and Other Pacific Islander', 'Two or More Races'], ['cen42010', 'April 1, 2010 Census', 'totsex', 'Both Sexes', 'tothisp', 'Total', '0100000US', '', 'United States', '308745538', '197318956', '44618105', '40250635', '3739506', '15159516', '674625', '6984195']]\n"
     ]
    }
   ],
   "source": [
    "f = open(\"census.csv\",'r')\n",
    "census_beta = csv.reader(f)\n",
    "census = list(census_beta)\n",
    "print(census)"
   ]
  },
  {
   "cell_type": "code",
   "execution_count": 8,
   "metadata": {
    "collapsed": false
   },
   "outputs": [
    {
     "name": "stdout",
     "output_type": "stream",
     "text": [
      "{'Asian/Pacific Islander': 8.374309664161762, 'White': 33.56849303419181, 'Black': 57.8773477735196, 'Hispanic': 20.220491210910907, 'Native American/Native Alaskan': 24.521955573811088}\n"
     ]
    }
   ],
   "source": [
    "mapping = {'Asian/Pacific Islander': 15834141,'Black': 40250635,'Hispanic': 44618105,'Native American/Native Alaskan': 3739506,'White':197318956}                 \n",
    "race_per_hundredk = {}\n",
    "for each in race_counts:\n",
    "    race_per_hundredk[each] = (race_counts[each]/mapping[each])*100000\n",
    "print(race_per_hundredk)    "
   ]
  },
  {
   "cell_type": "code",
   "execution_count": 10,
   "metadata": {
    "collapsed": false
   },
   "outputs": [
    {
     "name": "stdout",
     "output_type": "stream",
     "text": [
      "{'White': 9147, 'Asian/Pacific Islander': 559, 'Black': 19510, 'Hispanic': 5634, 'Native American/Native Alaskan': 326}\n"
     ]
    }
   ],
   "source": [
    "intents = [each[3] for each in data]\n",
    "races = [each[7] for each in data]\n",
    "homicide_race_counts = {}\n",
    "for i,race in enumerate(races):\n",
    "    if intents[i] == 'Homicide':\n",
    "       if race in homicide_race_counts:\n",
    "          homicide_race_counts[race] += 1\n",
    "       else:\n",
    "          homicide_race_counts[race] = 1\n",
    "print(homicide_race_counts)\n",
    "            "
   ]
  },
  {
   "cell_type": "markdown",
   "metadata": {},
   "source": [
    "## Findings\n",
    "Data of homicide by race counts per  100000\n",
    "'White': 9147, 'Asian/Pacific Islander': 559, 'Black': 19510, 'Hispanic': 5634, 'Native American/Native Alaskan': 326\n",
    "Black people die most due to gun homicide."
   ]
  },
  {
   "cell_type": "markdown",
   "metadata": {},
   "source": [
    "##That's it for the guided steps! We recommend exploring the data more on your own.\n",
    "\n",
    "Here are some potential next steps:\n",
    "\n",
    "Figure out the link, if any, between month and homicide rate.\n",
    "Explore the homicide rate by gender.\n",
    "Explore the rates of other intents, like Accidental, by gender and race.\n",
    "Find out if gun death rates correlate to location and education.\n",
    "We recommend creating a Github repository and placing this project there. It will help other people, including employers, see your work. As you start to put multiple projects on Github, you'll have the beginnings of a strong portfolio. You're welcome to keep working on the project here, but we recommend downloading it to your computer using the download icon above and working on it there."
   ]
  },
  {
   "cell_type": "code",
   "execution_count": null,
   "metadata": {
    "collapsed": true
   },
   "outputs": [],
   "source": []
  }
 ],
 "metadata": {
  "kernelspec": {
   "display_name": "Python 3",
   "language": "python",
   "name": "python3"
  },
  "language_info": {
   "codemirror_mode": {
    "name": "ipython",
    "version": 3
   },
   "file_extension": ".py",
   "mimetype": "text/x-python",
   "name": "python",
   "nbconvert_exporter": "python",
   "pygments_lexer": "ipython3",
   "version": "3.4.3"
  }
 },
 "nbformat": 4,
 "nbformat_minor": 0
}
