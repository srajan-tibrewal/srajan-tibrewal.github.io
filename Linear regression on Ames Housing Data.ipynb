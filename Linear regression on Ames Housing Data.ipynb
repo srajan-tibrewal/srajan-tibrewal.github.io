{
 "cells": [
  {
   "cell_type": "markdown",
   "metadata": {},
   "source": [
    "# Working with housing data for the city of Ames, Iowa, United States from 2006 to 2010.\n",
    "\n",
    "\n",
    "\n",
    "- Creating a function named transform_features() that, for now, just returns the train data frame.\n",
    "- Creating a function named select_features() that, for now, just returns the Gr Liv Area and SalePrice columns from the train data frame.\n",
    "- Creating a function named train_and_test() that, for now:\n",
    "  *Selects the first 1460 rows from from data and assign to train.\n",
    "  -Selects the remaining rows from data and assign to test.\n",
    "  -Trains a model using all numerical columns except the       SalePrice   column (the target column) from the data frame    returned from     select_features()\n",
    "  -Tests the model on the test set and returns the RMSE value."
   ]
  },
  {
   "cell_type": "markdown",
   "metadata": {},
   "source": [
    "## Columns and info : \n",
    "Order              2930 non-null int64\n",
    "\n",
    "PID                2930 non-null int64\n",
    "\n",
    "MS SubClass        2930 non-null int64\n",
    "\n",
    "MS Zoning          2930 non-null object\n",
    "\n",
    "Lot Frontage       2440 non-null float64\n",
    "\n",
    "Lot Area           2930 non-null int64\n",
    "\n",
    "Street             2930 non-null object\n",
    "\n",
    "Alley              198 non-null object\n",
    "\n",
    "Lot Shape          2930 non-null object\n",
    "\n",
    "\n",
    "Land Contour       2930 non-null object\n",
    "\n",
    "Utilities          2930 non-null object\n",
    "\n",
    "Lot Config         2930 non-null object\n",
    "\n",
    "Land Slope         2930 non-null object\n",
    "\n",
    "\n",
    "Neighborhood       2930 non-null object\n",
    "\n",
    "Condition 1        2930 non-null object\n",
    "\n",
    "\n",
    "Condition 2        2930 non-null object\n",
    "\n",
    "Bldg Type          2930 non-null object\n",
    "\n",
    "House Style        2930 non-null object\n",
    "\n",
    "Overall Qual       2930 non-null int64\n",
    "\n",
    "Overall Cond       2930 non-null int64\n",
    "\n",
    "Year Built         2930 non-null int64\n",
    "\n",
    "Year Remod/Add     2930 non-null int64\n",
    "\n",
    "Roof Style         2930 non-null object\n",
    "\n",
    "Roof Matl          2930 non-null object\n",
    "\n",
    "Exterior 1st       2930 non-null object\n",
    "\n",
    "Exterior 2nd       2930 non-null object\n",
    "\n",
    "Mas Vnr Type       2907 non-null object\n",
    "\n",
    "Mas Vnr Area       2907 non-null float64\n",
    "\n",
    "Exter Qual         2930 non-null object\n",
    "\n",
    "Exter Cond         2930 non-null object\n",
    "\n",
    "Foundation         2930 non-null object\n",
    "\n",
    "Bsmt Qual          2850 non-null object\n",
    "\n",
    "Bsmt Cond          2850 non-null object\n",
    "\n",
    "Bsmt Exposure      2847 non-null object\n",
    "\n",
    "BsmtFin Type 1     2850 non-null object\n",
    "\n",
    "BsmtFin SF 1       2929 non-null float64\n",
    "\n",
    "BsmtFin Type 2     2849 non-null object\n",
    "\n",
    "BsmtFin SF 2       2929 non-null float64\n",
    "\n",
    "Bsmt Unf SF        2929 non-null float64\n",
    "\n",
    "Total Bsmt SF      2929 non-null float64\n",
    "\n",
    "Heating            2930 non-null object\n",
    "\n",
    "Heating QC         2930 non-null object\n",
    "\n",
    "Central Air        2930 non-null object\n",
    "\n",
    "Electrical         2929 non-null object\n",
    "\n",
    "1st Flr SF         2930 non-null int64\n",
    "\n",
    "2nd Flr SF         2930 non-null int64\n",
    "\n",
    "Low Qual Fin SF    2930 non-null int64\n",
    "\n",
    "Gr Liv Area        2930 non-null int64\n",
    "\n",
    "Bsmt Full Bath     2928 non-null float64\n",
    "\n",
    "Bsmt Half Bath     2928 non-null float64\n",
    "\n",
    "Full Bath          2930 non-null int64\n",
    "\n",
    "Half Bath          2930 non-null int64\n",
    "\n",
    "Bedroom AbvGr      2930 non-null int64\n",
    "\n",
    "Kitchen AbvGr      2930 non-null int64\n",
    "\n",
    "Kitchen Qual       2930 non-null object\n",
    "\n",
    "TotRms AbvGrd      2930 non-null int64\n",
    "\n",
    "Functional         2930 non-null object\n",
    "\n",
    "Fireplaces         2930 non-null int64\n",
    "\n",
    "Fireplace Qu       1508 non-null object\n",
    "\n",
    "Garage Type        2773 non-null object\n",
    "\n",
    "Garage Yr Blt      2771 non-null float64\n",
    "\n",
    "Garage Finish      2771 non-null object\n",
    "\n",
    "Garage Cars        2929 non-null float64\n",
    "\n",
    "Garage Area        2929 non-null float64\n",
    "\n",
    "Garage Qual        2771 non-null object\n",
    "\n",
    "Garage Cond        2771 non-null object\n",
    "\n",
    "Paved Drive        2930 non-null object\n",
    "\n",
    "Wood Deck SF       2930 non-null int64\n",
    "\n",
    "Open Porch SF      2930 non-null int64\n",
    "\n",
    "Enclosed Porch     2930 non-null int64\n",
    "\n",
    "3Ssn Porch         2930 non-null int64\n",
    "\n",
    "Screen Porch       2930 non-null int64\n",
    "\n",
    "Pool Area          2930 non-null int64\n",
    "\n",
    "Pool QC            13 non-null object\n",
    "\n",
    "Fence              572 non-null object\n",
    "\n",
    "Misc Feature       106 non-null object\n",
    "\n",
    "Misc Val           2930 non-null int64\n",
    "\n",
    "Mo Sold            2930 non-null int64\n",
    "\n",
    "Yr Sold            2930 non-null int64\n",
    "\n",
    "Sale Type          2930 non-null object\n",
    "\n",
    "Sale Condition     2930 non-null object\n",
    "\n",
    "SalePrice          2930 non-null int64\n"
   ]
  },
  {
   "cell_type": "markdown",
   "metadata": {},
   "source": [
    "# descriptions \n",
    "SalePrice - the property's sale price in dollars. This is the target variable that you're trying to predict.\n",
    "\n",
    "MSSubClass: The building class\n",
    "\n",
    "    MSZoning: The general zoning classification\n",
    "\n",
    "        LotFrontage: Linear feet of street connected to property\n",
    "LotArea: Lot size in square feet\n",
    "\n",
    "    Street: Type of road access\n",
    "\n",
    "        Alley: Type of alley access\n",
    "LotShape: General shape of property\n",
    "LandContour: Flatness of the property\n",
    "Utilities: Type of utilities available\n",
    "LotConfig: Lot configuration\n",
    "LandSlope: Slope of property\n",
    "Neighborhood: Physical locations within Ames city limits\n",
    "Condition1: Proximity to main road or railroad\n",
    "Condition2: Proximity to main road or railroad (if a second is present)\n",
    "BldgType: Type of dwelling\n",
    "HouseStyle: Style of dwelling\n",
    "OverallQual: Overall material and finish quality\n",
    "OverallCond: Overall condition rating\n",
    "YearBuilt: Original construction date\n",
    "YearRemodAdd: Remodel date\n",
    "RoofStyle: Type of roof\n",
    "RoofMatl: Roof material\n",
    "Exterior1st: Exterior covering on house\n",
    "Exterior2nd: Exterior covering on house (if more than one material)\n",
    "MasVnrType: Masonry veneer type\n",
    "MasVnrArea: Masonry veneer area in square feet\n",
    "ExterQual: Exterior material quality\n",
    "ExterCond: Present condition of the material on the exterior\n",
    "Foundation: Type of foundation\n",
    "BsmtQual: Height of the basement\n",
    "BsmtCond: General condition of the basement\n",
    "BsmtExposure: Walkout or garden level basement walls\n",
    "BsmtFinType1: Quality of basement finished area\n",
    "BsmtFinSF1: Type 1 finished square feet\n",
    "BsmtFinType2: Quality of second finished area (if present)\n",
    "BsmtFinSF2: Type 2 finished square feet\n",
    "BsmtUnfSF: Unfinished square feet of basement area\n",
    "TotalBsmtSF: Total square feet of basement area\n",
    "Heating: Type of heating\n",
    "HeatingQC: Heating quality and condition\n",
    "CentralAir: Central air conditioning\n",
    "Electrical: Electrical system\n",
    "1stFlrSF: First Floor square feet\n",
    "2ndFlrSF: Second floor square feet\n",
    "LowQualFinSF: Low quality finished square feet (all floors)\n",
    "GrLivArea: Above grade (ground) living area square feet\n",
    "BsmtFullBath: Basement full bathrooms\n",
    "BsmtHalfBath: Basement half bathrooms\n",
    "FullBath: Full bathrooms above grade\n",
    "HalfBath: Half baths above grade\n",
    "Bedroom: Number of bedrooms above basement level\n",
    "Kitchen: Number of kitchens\n",
    "KitchenQual: Kitchen quality\n",
    "TotRmsAbvGrd: Total rooms above grade (does not include bathrooms)\n",
    "Functional: Home functionality rating\n",
    "Fireplaces: Number of fireplaces\n",
    "FireplaceQu: Fireplace quality\n",
    "GarageType: Garage location\n",
    "GarageYrBlt: Year garage was built\n",
    "GarageFinish: Interior finish of the garage\n",
    "GarageCars: Size of garage in car capacity\n",
    "GarageArea: Size of garage in square feet\n",
    "GarageQual: Garage quality\n",
    "GarageCond: Garage condition\n",
    "PavedDrive: Paved driveway\n",
    "WoodDeckSF: Wood deck area in square feet\n",
    "OpenPorchSF: Open porch area in square feet\n",
    "EnclosedPorch: Enclosed porch area in square feet\n",
    "3SsnPorch: Three season porch area in square feet\n",
    "ScreenPorch: Screen porch area in square feet\n",
    "PoolArea: Pool area in square feet\n",
    "PoolQC: Pool quality\n",
    "Fence: Fence quality\n",
    "MiscFeature: Miscellaneous feature not covered in other categories\n",
    "MiscVal: $Value of miscellaneous feature\n",
    "MoSold: Month Sold\n",
    "YrSold: Year Sold\n",
    "SaleType: Type of sale\n",
    "SaleCondition: Condition of sale\n"
   ]
  },
  {
   "cell_type": "code",
   "execution_count": 238,
   "metadata": {
    "collapsed": false
   },
   "outputs": [],
   "source": [
    "import pandas as pd\n",
    "import numpy as np\n",
    "import matplotlib.pyplot as plt\n",
    "import seaborn as sns\n",
    "from sklearn.linear_model import LinearRegression\n",
    "from sklearn.metrics import mean_squared_error\n",
    "from sklearn.model_selection import KFold\n"
   ]
  },
  {
   "cell_type": "code",
   "execution_count": 239,
   "metadata": {
    "collapsed": false
   },
   "outputs": [],
   "source": [
    "data = pd.read_csv(\"AmesHousing.tsv\",delimiter='\\t')\n",
    "df = data.copy(deep = True)\n"
   ]
  },
  {
   "cell_type": "code",
   "execution_count": 240,
   "metadata": {
    "collapsed": true
   },
   "outputs": [],
   "source": [
    "def transform_features(df):\n",
    "    return df"
   ]
  },
  {
   "cell_type": "code",
   "execution_count": 241,
   "metadata": {
    "collapsed": true
   },
   "outputs": [],
   "source": [
    "def select_features(df):\n",
    "    return df[[\"Gr Liv Area\",\"SalePrice\"]] "
   ]
  },
  {
   "cell_type": "code",
   "execution_count": 242,
   "metadata": {
    "collapsed": true
   },
   "outputs": [],
   "source": [
    "def train_and_test(df):\n",
    "    train = df[0:1460]\n",
    "    test = df[1460:]\n",
    "    features = df.select_dtypes(include='number').columns.tolist().drop(\"SalePrice\")\n",
    "    lr = LinearRegression()\n",
    "    lr.fit(train[features],train[\"SalePrice\"])\n",
    "    predictions = lr.predict(test[features])\n",
    "    rmse = np.sqrt(mean_squared_error(test[\"SalePrice\"],predictions))\n",
    "    return rmse"
   ]
  },
 
 
  {
   "cell_type": "code",
   "execution_count": 243,
   "metadata": {
    "collapsed": true
   },
   "outputs": [],
   "source": [
    "# getiing counts of missing values\n",
    "null_counts = df.isnull().sum()"
   ]
  },
  {
   "cell_type": "code",
   "execution_count": 244,
   "metadata": {
    "collapsed": false
   },
   "outputs": [],
   "source": [
    "# getting columns with nulls less than 5% of 2930 ad deleting them\n",
    "cutoff_nulls = null_counts[null_counts > len(df)/20].index\n",
    "df = df.drop(cutoff_nulls,axis=1)\n",
    "\n"
   ]
  },
  {
   "cell_type": "code",
   "execution_count": 245,
   "metadata": {
    "collapsed": true
   },
   "outputs": [],
   "source": [
    "# text\n",
    "text_cols = df.select_dtypes(exclude=np.number)\n",
    "new_nulls = text_cols.isnull().sum()\n",
    "select = new_nulls[new_nulls > 0].index\n",
    "df = df.drop(select,axis=1)\n"
   ]
  },
  {
   "cell_type": "code",
   "execution_count": 246,
   "metadata": {
    "collapsed": true
   },
   "outputs": [],
   "source": [
    "#numeric\n",
    "num_cols = df.select_dtypes(include=np.number).columns\n",
    "df[num_cols] = df[num_cols].fillna(df[num_cols].mode())\n"
   ]
  },
  {
   "cell_type": "markdown",
   "metadata": {},
   "source": [
    "# What new features can we create, that better capture the information in some of the features?\n"
   ]
  },
  {
   "cell_type": "code",
   "execution_count": 247,
   "metadata": {
    "collapsed": false
   },
   "outputs": [
    {
     "data": {
      "text/plain": [
       "2180   -1\n",
       "dtype: int64"
      ]
     },
     "execution_count": 247,
     "metadata": {},
     "output_type": "execute_result"
    }
   ],
   "source": [
    "years_sold = df['Yr Sold'] - df['Year Built']\n",
    "years_sold[years_sold < 0]"
   ]
  },
  {
   "cell_type": "code",
   "execution_count": 248,
   "metadata": {
    "collapsed": false
   },
   "outputs": [
    {
     "data": {
      "text/plain": [
       "1702   -1\n",
       "2180   -2\n",
       "2181   -1\n",
       "dtype: int64"
      ]
     },
     "execution_count": 248,
     "metadata": {},
     "output_type": "execute_result"
    }
   ],
   "source": [
    "years_since_remod = df['Yr Sold'] - df['Year Remod/Add']\n",
    "years_since_remod[years_since_remod < 0]"
   ]
  },
  {
   "cell_type": "code",
   "execution_count": 249,
   "metadata": {
    "collapsed": true
   },
   "outputs": [],
   "source": [
    "## Create new columns\n",
    "df['Years Before Sale'] = years_sold\n",
    "df['Years Since Remod'] = years_since_remod\n",
    "\n",
    "## Drop rows with negative values for both of these new features\n",
    "df = df.drop([1702, 2180, 2181], axis=0)\n",
    "\n",
    "## No longer need original year columns\n",
    "df = df.drop([\"Year Built\", \"Year Remod/Add\"], axis = 1)"
   ]
  },
  {
   "cell_type": "markdown",
   "metadata": {},
   "source": [
    "Drop columns that:\n",
    "\n",
    "that aren't useful for ML\n",
    "\n",
    "leak data about the final sale"
   ]
  },
  {
   "cell_type": "code",
   "execution_count": 250,
   "metadata": {
    "collapsed": true
   },
   "outputs": [],
   "source": [
    "## Drop columns that aren't useful for ML\n",
    "df = df.drop([\"PID\", \"Order\"], axis=1)\n",
    "\n",
    "## Drop columns that leak info about the final sale\n",
    "df = df.drop([\"Mo Sold\", \"Sale Condition\", \"Sale Type\", \"Yr Sold\"], axis=1)"
   ]
  },
  {
   "cell_type": "markdown",
   "metadata": {},
   "source": [
    "# Let's update transform"
   ]
  },
  {
   "cell_type": "code",
   "execution_count": 264,
   "metadata": {
    "collapsed": false
   },
   "outputs": [],
   "source": [
    "def transform_features(df):\n",
    "\n",
    "    # getiing counts of missing values\n",
    "    null_counts = df.isnull().sum()\n",
    "    # getting columns with nulls less than 5% of 2930 ad deleting them\n",
    "    cutoff_nulls = null_counts[null_counts > len(df)/20].index\n",
    "    df = df.drop(cutoff_nulls,axis=1)\n",
    "    # text\n",
    "    text_cols = df.select_dtypes(exclude=np.number)\n",
    "    new_nulls = text_cols.isnull().sum()\n",
    "    select = new_nulls[new_nulls > 0].index\n",
    "    df = df.drop(select,axis=1)\n",
    "    #numeric\n",
    "    num_missing = df.select_dtypes(include=['int', 'float']).isnull().sum()\n",
    "    fixable_numeric_cols = num_missing[(num_missing < len(df)/20) & (num_missing > 0)].sort_values()\n",
    "    replacement_values_dict = df[fixable_numeric_cols.index].mode().to_dict(orient='records')[0]\n",
    "    df = df.fillna(replacement_values_dict)\n",
    "\n",
    "    years_sold = df['Yr Sold'] - df['Year Built']\n",
    "    years_since_remod = df['Yr Sold'] - df['Year Remod/Add']\n",
    "\n",
    "    ## Create new columns\n",
    "    df['Years Before Sale'] = years_sold\n",
    "    df['Years Since Remod'] = years_since_remod\n",
    "\n",
    "    ## Drop rows with negative values for both of these new features\n",
    "    df = df.drop([1702, 2180, 2181], axis=0)\n",
    "\n",
    "    ## No longer need original year columns\n",
    "    df = df.drop([\"Year Built\", \"Year Remod/Add\"], axis = 1)\n",
    "    ## Drop columns that aren't useful for ML\n",
    "    df = df.drop([\"PID\", \"Order\"], axis=1)\n",
    "\n",
    "    ## Drop columns that leak info about the final sale\n",
    "    df = df.drop([\"Mo Sold\", \"Sale Condition\", \"Sale Type\"], axis=1)\n",
    "    \n",
    "    return df\n",
    "\n"
   ]
  },
  {
   "cell_type": "markdown",
   "metadata": {
    "collapsed": true
   },
   "source": [
    "# Feature Selection"
   ]
  },
  {
   "cell_type": "code",
   "execution_count": 265,
   "metadata": {
    "collapsed": false
   },
   "outputs": [
    {
     "data": {
      "text/plain": [
       "<matplotlib.axes._subplots.AxesSubplot at 0x7f6763969d30>"
      ]
     },
     "execution_count": 265,
     "metadata": {},
     "output_type": "execute_result"
    },
    {
     "data": {
      "image/png": "[encoded data removed]",
      "text/plain": [
       "<matplotlib.figure.Figure at 0x7f67639d9748>"
      ]
     },
     "metadata": {},
     "output_type": "display_data"
    }
   ],
   "source": [
    "# heatmap\n",
    "%matplotlib inline\n",
    "corrmat = df.select_dtypes(include=\"number\").corr()\n",
    "sns.heatmap(corrmat)"
   ]
  },
  {
   "cell_type": "code",
   "execution_count": 266,
   "metadata": {
    "collapsed": true
   },
   "outputs": [],
   "source": [
    "good_corr = [\"Overall Qual\",\"Mas Vnr Area\",\"BsmtFin SF 1\",\"Total Bsmt SF\",\"1st Flr SF\",\"Gr Liv Area\",\"Full Bath\",\"TotRms AbvGrd\",\"Fireplaces\",\"Garage Cars\",\"Garage Area\",\"Years Before Sale\",\"Years Since Remod\",\"SalePrice\"]"
   ]
  },
  {
   "cell_type": "code",
   "execution_count": 267,
   "metadata": {
    "collapsed": false
   },
   "outputs": [],
   "source": [
    "#finding correlation coeffs of good corr cols with sale price\n",
    "train = df[0:1460]\n",
    "train_corrs = train[good_corr].corr()"
   ]
  },
  {
   "cell_type": "code",
   "execution_count": 268,
   "metadata": {
    "collapsed": true
   },
   "outputs": [],
   "source": [
    "sale_corrs = train_corrs[\"SalePrice\"]"
   ]
  },
  {
   "cell_type": "code",
   "execution_count": 269,
   "metadata": {
    "collapsed": false
   },
   "outputs": [
    {
     "name": "stdout",
     "output_type": "stream",
     "text": [
      "Overall Qual         0.804562\n",
      "Mas Vnr Area         0.516852\n",
      "BsmtFin SF 1         0.513160\n",
      "Total Bsmt SF        0.683037\n",
      "1st Flr SF           0.657119\n",
      "Gr Liv Area          0.698990\n",
      "Full Bath            0.518194\n",
      "TotRms AbvGrd        0.483701\n",
      "Fireplaces           0.485683\n",
      "Garage Cars          0.663485\n",
      "Garage Area          0.662397\n",
      "Years Before Sale   -0.592273\n",
      "Years Since Remod   -0.546212\n",
      "SalePrice            1.000000\n",
      "Name: SalePrice, dtype: float64\n"
     ]
    }
   ],
   "source": [
    "print(sale_corrs)"
   ]
  },
  {
   "cell_type": "code",
   "execution_count": 270,
   "metadata": {
    "collapsed": true
   },
   "outputs": [],
   "source": [
    "#Here , Garage area and Garage cars give the same info \n",
    "#so we need to drop one of the them and SalePrice to have \n",
    "# list of features with high corr\n",
    "sale_corrs = sale_corrs.drop([\"Garage Cars\",\"SalePrice\"])\n"
   ]
  },
  {
   "cell_type": "markdown",
   "metadata": {},
   "source": [
    "# Categorical Selection"
   ]
  },
  {
   "cell_type": "code",
   "execution_count": 271,
   "metadata": {
    "collapsed": false
   },
   "outputs": [],
   "source": [
    "# here are the nominal features\n",
    "\n",
    "nominal_features = [\"PID\", \"MS SubClass\", \"MS Zoning\", \"Street\", \"Alley\", \"Land Contour\", \"Lot Config\", \"Neighborhood\", \n",
    "                    \"Condition 1\", \"Condition 2\", \"Bldg Type\", \"House Style\", \"Roof Style\", \"Roof Matl\", \"Exterior 1st\", \n",
    "                    \"Exterior 2nd\", \"Mas Vnr Type\", \"Foundation\", \"Heating\", \"Central Air\", \"Garage Type\", \n",
    "                    \"Misc Feature\", \"Sale Type\", \"Sale Condition\"]\n",
    "# WE have deleted PID,Sale Type and Sale Condition 'Alley' 'Mas Vnr Type' 'Garage Type' 'Misc Feature'. So we drop them\n",
    "nominal_features = [\"MS SubClass\", \"MS Zoning\", \"Street\", \"Land Contour\", \"Lot Config\", \"Neighborhood\", \n",
    "                    \"Condition 1\", \"Condition 2\", \"Bldg Type\", \"House Style\", \"Roof Style\", \"Roof Matl\", \"Exterior 1st\", \n",
    "                    \"Exterior 2nd\", \"Foundation\", \"Heating\", \"Central Air\"]"
   ]
  },
  {
   "cell_type": "markdown",
   "metadata": {},
   "source": [
    "Here are some other things you should think about:\n",
    "\n",
    "If a categorical column has hundreds of unique values (or categories), should you keep it? When you dummy code this column, hundreds of columns will need to be added back to the data frame.\n",
    "\n",
    "Which categorical columns have a few unique values but more than 95% of the values in the column belong to a specific category? This would be similar to a low variance numerical feature (no variability in the data for the model to capture)."
   ]
  },
  {
   "cell_type": "code",
   "execution_count": 272,
   "metadata": {
    "collapsed": false
   },
   "outputs": [
    {
     "name": "stdout",
     "output_type": "stream",
     "text": [
      "20     1078\n",
      "60      573\n",
      "50      287\n",
      "120     192\n",
      "30      139\n",
      "160     129\n",
      "70      128\n",
      "80      118\n",
      "90      109\n",
      "190      61\n",
      "85       48\n",
      "75       23\n",
      "45       18\n",
      "180      17\n",
      "40        6\n",
      "150       1\n",
      "Name: MS SubClass, dtype: int64\n",
      "RL         2270\n",
      "RM          462\n",
      "FV          139\n",
      "RH           27\n",
      "C (all)      25\n",
      "A (agr)       2\n",
      "I (all)       2\n",
      "Name: MS Zoning, dtype: int64\n",
      "Pave    2915\n",
      "Grvl      12\n",
      "Name: Street, dtype: int64\n",
      "Lvl    2632\n",
      "HLS     120\n",
      "Bnk     115\n",
      "Low      60\n",
      "Name: Land Contour, dtype: int64\n",
      "Inside     2138\n",
      "Corner      510\n",
      "CulDSac     180\n",
      "FR2          85\n",
      "FR3          14\n",
      "Name: Lot Config, dtype: int64\n",
      "NAmes      443\n",
      "CollgCr    267\n",
      "OldTown    239\n",
      "Edwards    192\n",
      "Somerst    182\n",
      "NridgHt    165\n",
      "Gilbert    165\n",
      "Sawyer     151\n",
      "NWAmes     131\n",
      "SawyerW    125\n",
      "Mitchel    114\n",
      "BrkSide    108\n",
      "Crawfor    103\n",
      "IDOTRR      93\n",
      "Timber      72\n",
      "NoRidge     71\n",
      "StoneBr     51\n",
      "SWISU       48\n",
      "ClearCr     44\n",
      "MeadowV     37\n",
      "BrDale      30\n",
      "Blmngtn     28\n",
      "Veenker     24\n",
      "NPkVill     23\n",
      "Blueste     10\n",
      "Greens       8\n",
      "GrnHill      2\n",
      "Landmrk      1\n",
      "Name: Neighborhood, dtype: int64\n",
      "Norm      2520\n",
      "Feedr      164\n",
      "Artery      92\n",
      "RRAn        50\n",
      "PosN        38\n",
      "RRAe        28\n",
      "PosA        20\n",
      "RRNn         9\n",
      "RRNe         6\n",
      "Name: Condition 1, dtype: int64\n",
      "Norm      2898\n",
      "Feedr       13\n",
      "Artery       5\n",
      "PosA         4\n",
      "PosN         3\n",
      "RRNn         2\n",
      "RRAe         1\n",
      "RRAn         1\n",
      "Name: Condition 2, dtype: int64\n",
      "1Fam      2422\n",
      "TwnhsE     233\n",
      "Duplex     109\n",
      "Twnhs      101\n",
      "2fmCon      62\n",
      "Name: Bldg Type, dtype: int64\n",
      "1Story    1480\n",
      "2Story     871\n",
      "1.5Fin     314\n",
      "SLvl       128\n",
      "SFoyer      83\n",
      "2.5Unf      24\n",
      "1.5Unf      19\n",
      "2.5Fin       8\n",
      "Name: House Style, dtype: int64\n",
      "Gable      2320\n",
      "Hip         549\n",
      "Gambrel      22\n",
      "Flat         20\n",
      "Mansard      11\n",
      "Shed          5\n",
      "Name: Roof Style, dtype: int64\n",
      "CompShg    2884\n",
      "Tar&Grv      23\n",
      "WdShake       9\n",
      "WdShngl       7\n",
      "Metal         1\n",
      "ClyTile       1\n",
      "Roll          1\n",
      "Membran       1\n",
      "Name: Roof Matl, dtype: int64\n",
      "VinylSd    1025\n",
      "MetalSd     450\n",
      "HdBoard     442\n",
      "Wd Sdng     420\n",
      "Plywood     221\n",
      "CemntBd     124\n",
      "BrkFace      88\n",
      "WdShing      56\n",
      "AsbShng      44\n",
      "Stucco       43\n",
      "BrkComm       6\n",
      "AsphShn       2\n",
      "CBlock        2\n",
      "Stone         2\n",
      "PreCast       1\n",
      "ImStucc       1\n",
      "Name: Exterior 1st, dtype: int64\n",
      "VinylSd    1014\n",
      "MetalSd     447\n",
      "HdBoard     406\n",
      "Wd Sdng     397\n",
      "Plywood     274\n",
      "CmentBd     124\n",
      "Wd Shng      81\n",
      "BrkFace      47\n",
      "Stucco       47\n",
      "AsbShng      38\n",
      "Brk Cmn      22\n",
      "ImStucc      15\n",
      "Stone         6\n",
      "AsphShn       4\n",
      "CBlock        3\n",
      "Other         1\n",
      "PreCast       1\n",
      "Name: Exterior 2nd, dtype: int64\n",
      "PConc     1307\n",
      "CBlock    1244\n",
      "BrkTil     311\n",
      "Slab        49\n",
      "Stone       11\n",
      "Wood         5\n",
      "Name: Foundation, dtype: int64\n",
      "GasA     2882\n",
      "GasW       27\n",
      "Grav        9\n",
      "Wall        6\n",
      "OthW        2\n",
      "Floor       1\n",
      "Name: Heating, dtype: int64\n",
      "Y    2731\n",
      "N     196\n",
      "Name: Central Air, dtype: int64\n"
     ]
    }
   ],
   "source": [
    "# selecting nominal features and setting unique cutoff value at 8 arbitrarily\n",
    "nom_df = df[nominal_features]\n",
    "selected = []\n",
    "for col in nom_df:\n",
    "    vals = nom_df[col].value_counts()\n",
    "    if len(vals) < 9 :\n",
    "        selected.append(col)\n",
    "    print(vals)\n",
    "    "
   ]
  },
  {
   "cell_type": "code",
   "execution_count": 273,
   "metadata": {
    "collapsed": false
   },
   "outputs": [
    {
     "name": "stdout",
     "output_type": "stream",
     "text": [
      "Index(['MS Zoning', 'Street', 'Land Contour', 'Lot Config', 'Bldg Type',\n",
      "       'House Style', 'Roof Style', 'Foundation'],\n",
      "      dtype='object')\n"
     ]
    }
   ],
   "source": [
    "# based on the above mentions, we delete heating,roof mtl,central air and condition2\n",
    "nom_df = nom_df[selected]\n",
    "\n",
    "nom_df = nom_df.drop([\"Condition 2\",\"Roof Matl\",\"Heating\",\"Central Air\"],axis=1)\n",
    "print(nom_df.columns)\n",
    "# now we have figured out how to select the features for categorical conversion \n",
    "#We can update select features to get the columns that we have figured out to be \n",
    "#best for categorical conversion and correlation coefficient wise too"
   ]
  },
  {
   "cell_type": "code",
   "execution_count": 286,
   "metadata": {
    "collapsed": true
   },
   "outputs": [],
   "source": [
    "# so defining select features, from our observations, corr cutoff can be 0.48\n",
    "#since we need to use the dataframe from transform features, we don't need to manually\n",
    "#delete columns like i did above, we just need to check if it is carried \n",
    "# from the dataframe or not and unique values cut-off can be set to what you want,\n",
    "# I tried with 8, 10 gives a better answer, and 15 even better\n",
    "#some features must have been missed\n",
    "def select_features(df, coeff_threshold=0.48, uniq_threshold=115):\n",
    "    numerical_df = df.select_dtypes(include=['int', 'float'])\n",
    "    abs_corr_coeffs = numerical_df.corr()['SalePrice'].abs().sort_values()\n",
    "    df = df.drop(abs_corr_coeffs[abs_corr_coeffs < coeff_threshold].index, axis=1)\n",
    "    \n",
    "    nominal_features = [\"PID\", \"MS SubClass\", \"MS Zoning\", \"Street\", \"Alley\", \"Land Contour\", \"Lot Config\", \"Neighborhood\", \n",
    "                    \"Condition 1\", \"Condition 2\", \"Bldg Type\", \"House Style\", \"Roof Style\", \"Roof Matl\", \"Exterior 1st\", \n",
    "                    \"Exterior 2nd\", \"Mas Vnr Type\", \"Foundation\", \"Heating\", \"Central Air\", \"Garage Type\", \n",
    "                    \"Misc Feature\", \"Sale Type\", \"Sale Condition\"]\n",
    "    \n",
    "    transform_cat_cols = []\n",
    "    for col in nominal_features:\n",
    "        if col in df.columns:\n",
    "            transform_cat_cols.append(col)\n",
    "\n",
    "    nom_df = df[transform_cat_cols]\n",
    "    not_selected = []\n",
    "    for col in nom_df:\n",
    "        vals = nom_df[col].value_counts()\n",
    "        if len(vals) > uniq_threshold :\n",
    "            not_selected.append(col)\n",
    "    df = df.drop(not_selected,axis = 1)\n",
    "    \n",
    "    #converting the not dropped text cols to categorical,doing dummy coding\n",
    "\n",
    "    text_cols = df.select_dtypes(include=['object'])\n",
    "    for col in text_cols:\n",
    "        df[col] = df[col].astype('category')\n",
    "    df = pd.concat([df, pd.get_dummies(df.select_dtypes(include=['category']))], axis=1)\n",
    "    \n",
    "    return df"
   ]
  },
  {
   "cell_type": "code",
   "execution_count": 287,
   "metadata": {
    "collapsed": true
   },
   "outputs": [],
   "source": [
    "#defining the train and test function according to given\n",
    "def train_and_test(df, k=0):\n",
    "    numeric_df = df.select_dtypes(include=np.number)\n",
    "   \n",
    "    features = numeric_df.columns.drop(\"SalePrice\")\n",
    "    lr = LinearRegression()\n",
    "    \n",
    "    \n",
    "    if k == 0:\n",
    "        train = df[:1460]\n",
    "        test = df[1460:]\n",
    "\n",
    "        lr.fit(train[features], train[\"SalePrice\"])\n",
    "        predictions = lr.predict(test[features])\n",
    "        mse = mean_squared_error(test[\"SalePrice\"], predictions)\n",
    "        rmse = np.sqrt(mse)\n",
    "\n",
    "        return rmse\n",
    "    \n",
    "    if k == 1:\n",
    "        # Randomize *all* rows (frac=1) from `df` and return\n",
    "        shuffled_df = df.sample(frac=1, )\n",
    "        train = df[:1460]\n",
    "        test = df[1460:]\n",
    "        \n",
    "        lr.fit(train[features], train[\"SalePrice\"])\n",
    "        predictions_one = lr.predict(test[features])        \n",
    "        \n",
    "        mse_one = mean_squared_error(test[\"SalePrice\"], predictions_one)\n",
    "        rmse_one = np.sqrt(mse_one)\n",
    "        \n",
    "        lr.fit(test[features], test[\"SalePrice\"])\n",
    "        predictions_two = lr.predict(train[features])        \n",
    "       \n",
    "        mse_two = mean_squared_error(train[\"SalePrice\"], predictions_two)\n",
    "        rmse_two = np.sqrt(mse_two)\n",
    "        \n",
    "        avg_rmse = np.mean([rmse_one, rmse_two])\n",
    "        print(rmse_one)\n",
    "        print(rmse_two)\n",
    "        return avg_rmse\n",
    "    else:\n",
    "        kf = KFold(n_splits=k, shuffle=True)\n",
    "        rmse_values = []\n",
    "        for train_index, test_index, in kf.split(df):\n",
    "            train = df.iloc[train_index]\n",
    "            test = df.iloc[test_index]\n",
    "            lr.fit(train[features], train[\"SalePrice\"])\n",
    "            predictions = lr.predict(test[features])\n",
    "            mse = mean_squared_error(test[\"SalePrice\"], predictions)\n",
    "            rmse = np.sqrt(mse)\n",
    "            rmse_values.append(rmse)\n",
    "        print(rmse_values)\n",
    "        avg_rmse = np.mean(rmse_values)\n",
    "        return avg_rmse"
   ]
  },
  {
   "cell_type": "code",
   "execution_count": 288,
   "metadata": {
    "collapsed": false
   },
   "outputs": [
    {
     "name": "stdout",
     "output_type": "stream",
     "text": [
      "[26206.02166284932, 34638.28740609228, 27012.274733034115, 26630.146577376025]\n"
     ]
    }
   ],
   "source": [
    "# now using the data set kept aside to run our model\n",
    "transform_df = transform_features(data)\n",
    "filtered_df = select_features(transform_df)\n",
    "avg_rmse = train_and_test(filtered_df,k=4)"
   ]
  },
  {
   "cell_type": "code",
   "execution_count": 289,
   "metadata": {
    "collapsed": false
   },
   "outputs": [
    {
     "name": "stdout",
     "output_type": "stream",
     "text": [
      "28621.682594837934\n"
     ]
    }
   ],
   "source": [
    "print(avg_rmse)"
   ]
  }
 ],
 "metadata": {
  "anaconda-cloud": {},
  "kernelspec": {
   "display_name": "Python 3",
   "language": "python",
   "name": "python3"
  },
  "language_info": {
   "codemirror_mode": {
    "name": "ipython",
    "version": 3
   },
   "file_extension": ".py",
   "mimetype": "text/x-python",
   "name": "python",
   "nbconvert_exporter": "python",
   "pygments_lexer": "ipython3",
   "version": "3.4.3"
  }
 },
 "nbformat": 4,
 "nbformat_minor": 2
}
